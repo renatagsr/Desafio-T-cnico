{
  "nbformat": 4,
  "nbformat_minor": 0,
  "metadata": {
    "colab": {
      "name": "Untitled3.ipynb",
      "provenance": [],
      "authorship_tag": "ABX9TyPsFOOcx4SBPsvHZ3WUQk8t",
      "include_colab_link": true
    },
    "kernelspec": {
      "name": "python3",
      "display_name": "Python 3"
    }
  },
  "cells": [
    {
      "cell_type": "code",
      "metadata": {
        "id": "h1fRvy9y0Iya"
      },
      "source": [
        "import pandas as pd\n",
        "import matplotlib.pyplot as plt"
      ],
      "execution_count": 1,
      "outputs": []
    },
    {
      "cell_type": "code",
      "execution_count": 2,
      "metadata": {},
      "outputs": [],
      "source": [
        "cols_ate_2016 = [\n",
        "    \"CO_COR_RACA_ALUNO\",\n",
        "    \"CO_CATEGORIA_ADMINISTRATIVA\",\n",
        "    \"CO_GRAU_ACADEMICO\",\n",
        "]"
      ]
    },
    {
      "cell_type": "code",
      "execution_count": 3,
      "metadata": {},
      "outputs": [],
      "source": [
        "def ler_dados_ate_2016(dados_ano):\n",
        "    return pd.read_csv(dados_ano, sep='|', encoding=\"latin1\", usecols=cols_ate_2016)"
      ]
    },
    {
      "cell_type": "code",
      "execution_count": 4,
      "metadata": {},
      "outputs": [],
      "source": [
        "dados_2009 = ler_dados_ate_2016('DM_ALUNO_2009.CSV')\n",
        "dados_2010 = ler_dados_ate_2016('DM_ALUNO_2010.CSV')\n",
        "dados_2011 = ler_dados_ate_2016('DM_ALUNO_2011.CSV')\n",
        "dados_2012 = ler_dados_ate_2016('DM_ALUNO_2012.CSV')\n",
        "dados_2013 = ler_dados_ate_2016('DM_ALUNO_2013.CSV')\n",
        "dados_2014 = ler_dados_ate_2016('DM_ALUNO_2014.CSV')\n",
        "dados_2015 = ler_dados_ate_2016('DM_ALUNO_2015.CSV')\n",
        "dados_2016 = ler_dados_ate_2016('DM_ALUNO_2016.CSV')"
      ]
    },
    {
      "cell_type": "code",
      "metadata": {
        "id": "sm-bMVrmuAox"
      },
      "source": [
        "cols = [\n",
        "    \"TP_COR_RACA\",\n",
        "    \"TP_CATEGORIA_ADMINISTRATIVA\",\n",
        "    \"TP_GRAU_ACADEMICO\"\n",
        "]"
      ],
      "execution_count": 5,
      "outputs": []
    },
    {
      "cell_type": "code",
      "execution_count": 6,
      "metadata": {},
      "outputs": [],
      "source": [
        "def ler_dados(dados_ano):\n",
        "    return pd.read_csv(dados_ano, sep='|', encoding=\"latin1\", usecols=cols)"
      ]
    },
    {
      "cell_type": "code",
      "execution_count": 7,
      "metadata": {},
      "outputs": [],
      "source": [
        "dados_2017 = ler_dados('DM_ALUNO_2017.CSV')\n",
        "dados_2018 = ler_dados('DM_ALUNO_2018.CSV')\n",
        "dados_2019 = ler_dados('SUP_ALUNO_2019.CSV')"
      ]
    },
    {
      "cell_type": "code",
      "metadata": {
        "id": "PpJ8aVoIUfR1",
        "colab": {
          "base_uri": "https://localhost:8080/",
          "height": 204
        },
        "outputId": "59d34474-192d-4a5f-baac-934315c0e32a"
      },
      "source": [
        "dados_2019.head()"
      ],
      "execution_count": 8,
      "outputs": [
        {
          "output_type": "execute_result",
          "data": {
            "text/plain": [
              "   TP_CATEGORIA_ADMINISTRATIVA  TP_GRAU_ACADEMICO  TP_COR_RACA\n",
              "0                            1                1.0            2\n",
              "1                            1                1.0            3\n",
              "2                            1                1.0            3\n",
              "3                            1                1.0            2\n",
              "4                            1                1.0            3"
            ],
            "text/html": "<div>\n<style scoped>\n    .dataframe tbody tr th:only-of-type {\n        vertical-align: middle;\n    }\n\n    .dataframe tbody tr th {\n        vertical-align: top;\n    }\n\n    .dataframe thead th {\n        text-align: right;\n    }\n</style>\n<table border=\"1\" class=\"dataframe\">\n  <thead>\n    <tr style=\"text-align: right;\">\n      <th></th>\n      <th>TP_CATEGORIA_ADMINISTRATIVA</th>\n      <th>TP_GRAU_ACADEMICO</th>\n      <th>TP_COR_RACA</th>\n    </tr>\n  </thead>\n  <tbody>\n    <tr>\n      <th>0</th>\n      <td>1</td>\n      <td>1.0</td>\n      <td>2</td>\n    </tr>\n    <tr>\n      <th>1</th>\n      <td>1</td>\n      <td>1.0</td>\n      <td>3</td>\n    </tr>\n    <tr>\n      <th>2</th>\n      <td>1</td>\n      <td>1.0</td>\n      <td>3</td>\n    </tr>\n    <tr>\n      <th>3</th>\n      <td>1</td>\n      <td>1.0</td>\n      <td>2</td>\n    </tr>\n    <tr>\n      <th>4</th>\n      <td>1</td>\n      <td>1.0</td>\n      <td>3</td>\n    </tr>\n  </tbody>\n</table>\n</div>"
          },
          "metadata": {},
          "execution_count": 8
        }
      ]
    },
    {
      "cell_type": "code",
      "execution_count": 17,
      "metadata": {},
      "outputs": [
        {
          "output_type": "execute_result",
          "data": {
            "text/plain": [
              "   CO_CATEGORIA_ADMINISTRATIVA  CO_GRAU_ACADEMICO  CO_COR_RACA_ALUNO\n",
              "0                            4                2.0                0.0\n",
              "1                            4                2.0                3.0\n",
              "2                            4                1.0                0.0\n",
              "3                            4                1.0                1.0\n",
              "4                            3                2.0                1.0"
            ],
            "text/html": "<div>\n<style scoped>\n    .dataframe tbody tr th:only-of-type {\n        vertical-align: middle;\n    }\n\n    .dataframe tbody tr th {\n        vertical-align: top;\n    }\n\n    .dataframe thead th {\n        text-align: right;\n    }\n</style>\n<table border=\"1\" class=\"dataframe\">\n  <thead>\n    <tr style=\"text-align: right;\">\n      <th></th>\n      <th>CO_CATEGORIA_ADMINISTRATIVA</th>\n      <th>CO_GRAU_ACADEMICO</th>\n      <th>CO_COR_RACA_ALUNO</th>\n    </tr>\n  </thead>\n  <tbody>\n    <tr>\n      <th>0</th>\n      <td>4</td>\n      <td>2.0</td>\n      <td>0.0</td>\n    </tr>\n    <tr>\n      <th>1</th>\n      <td>4</td>\n      <td>2.0</td>\n      <td>3.0</td>\n    </tr>\n    <tr>\n      <th>2</th>\n      <td>4</td>\n      <td>1.0</td>\n      <td>0.0</td>\n    </tr>\n    <tr>\n      <th>3</th>\n      <td>4</td>\n      <td>1.0</td>\n      <td>1.0</td>\n    </tr>\n    <tr>\n      <th>4</th>\n      <td>3</td>\n      <td>2.0</td>\n      <td>1.0</td>\n    </tr>\n  </tbody>\n</table>\n</div>"
          },
          "metadata": {},
          "execution_count": 17
        }
      ],
      "source": [
        "dados_2011.head()"
      ]
    },
    {
      "cell_type": "code",
      "execution_count": 16,
      "metadata": {},
      "outputs": [],
      "source": [
        "dados_totais_ate_2016 = [dados_2009, dados_2010, dados_2011, dados_2012, dados_2013,\n",
        "                dados_2014, dados_2015, dados_2016]\n",
        "dados_totais_2017_a_2019 = [dados_2017, dados_2018,dados_2019]"
      ]
    },
    {
      "cell_type": "code",
      "execution_count": 19,
      "metadata": {},
      "outputs": [],
      "source": [
        "def mostrar_dados_nulos(dados_ano):\n",
        "    return print(dados_ano.isnull().sum())"
      ]
    },
    {
      "cell_type": "code",
      "execution_count": 23,
      "metadata": {},
      "outputs": [],
      "source": [
        "def mostrar_anos_ate_2016(i):\n",
        "    if i == 0:\n",
        "        print('Para o ano de 2009...')\n",
        "    elif i == 1:\n",
        "        print('Para o ano de 2010...')\n",
        "    elif i == 2:\n",
        "        print('Para o ano de 2011...')\n",
        "    elif i == 3:\n",
        "        print('Para o ano de 2012...')\n",
        "    elif i == 4:\n",
        "        print('Para o ano de 2013...') \n",
        "    elif i == 5:\n",
        "        print('Para o ano de 2014...') \n",
        "    elif i == 6:\n",
        "        print('Para o ano de 2015...') \n",
        "    else:\n",
        "        print('Para o ano de 2016...') \n",
        "\n",
        "def mostrar_anos_depois_2016(i):\n",
        "    if i == 0:\n",
        "        print('Para o ano de 2017...')\n",
        "    elif i == 1:\n",
        "        print('Para o ano de 2018...')\n",
        "    else:\n",
        "        print('Para o ano de 2019...')"
      ]
    },
    {
      "cell_type": "code",
      "metadata": {
        "id": "tzQDAZbQtM1l",
        "tags": []
      },
      "source": [
        "i = 0\n",
        "while i <= 7:\n",
        "    mostrar_anos_ate_2016(i)\n",
        "    mostrar_dados_nulos(dados_totais_ate_2016[i])\n",
        "    print(\"\")\n",
        "    i += 1"
      ],
      "execution_count": 25,
      "outputs": [
        {
          "output_type": "stream",
          "name": "stdout",
          "text": [
            "Para o ano de 2009...\n",
            "CO_CATEGORIA_ADMINISTRATIVA        0\n",
            "CO_GRAU_ACADEMICO              38181\n",
            "CO_COR_RACA_ALUNO                  0\n",
            "dtype: int64\n",
            "\n",
            "Para o ano de 2010...\n",
            "CO_CATEGORIA_ADMINISTRATIVA        0\n",
            "CO_GRAU_ACADEMICO              62105\n",
            "CO_COR_RACA_ALUNO                  0\n",
            "dtype: int64\n",
            "\n",
            "Para o ano de 2011...\n",
            "CO_CATEGORIA_ADMINISTRATIVA        0\n",
            "CO_GRAU_ACADEMICO              59154\n",
            "CO_COR_RACA_ALUNO                  1\n",
            "dtype: int64\n",
            "\n",
            "Para o ano de 2012...\n",
            "CO_CATEGORIA_ADMINISTRATIVA        0\n",
            "CO_GRAU_ACADEMICO              43813\n",
            "CO_COR_RACA_ALUNO                  0\n",
            "dtype: int64\n",
            "\n",
            "Para o ano de 2013...\n",
            "CO_CATEGORIA_ADMINISTRATIVA        0\n",
            "CO_GRAU_ACADEMICO              51267\n",
            "CO_COR_RACA_ALUNO                  0\n",
            "dtype: int64\n",
            "\n",
            "Para o ano de 2014...\n",
            "CO_CATEGORIA_ADMINISTRATIVA        0\n",
            "CO_GRAU_ACADEMICO              23930\n",
            "CO_COR_RACA_ALUNO                  0\n",
            "dtype: int64\n",
            "\n",
            "Para o ano de 2015...\n",
            "CO_CATEGORIA_ADMINISTRATIVA        0\n",
            "CO_GRAU_ACADEMICO              62530\n",
            "CO_COR_RACA_ALUNO                  0\n",
            "dtype: int64\n",
            "\n",
            "Para o ano de 2016...\n",
            "CO_CATEGORIA_ADMINISTRATIVA        0\n",
            "CO_GRAU_ACADEMICO              60766\n",
            "CO_COR_RACA_ALUNO                  0\n",
            "dtype: int64\n",
            "\n"
          ]
        }
      ]
    },
    {
      "cell_type": "code",
      "execution_count": null,
      "metadata": {},
      "outputs": [],
      "source": [
        "i = 0\n",
        "while i <= 7:\n",
        "    mostrar_anos_depois_2016(i)\n",
        "    mostrar_dados_nulos(dados_totais_2017_a_2019[i])\n",
        "    print(\"\")\n",
        "    i += 1"
      ]
    },
    {
      "source": [
        "Um ponto muito importante ao se fazer análise de dados é a verificação se há dados faltantes para que esses dados não prejudiquem a verdadeira análise dos dados e para assim tomar uma decisão do que será feito em relação a falta de informação. Nesse caso os dados faltantes, em todos os data sets são na coluna \"CO_GRAU_ACADEMICO\"(Código do grau acadêmico conferido ao diplomado pelo curso) para dados até 2016, e \"TP_GRAU_ACADEMICO\"(Tipo de grau academico conferido ao diplomado pelo curso), os dois tem nomes diferentes, porém a forma de categorizar são iguais. Ao fazer a leitura do dicionário de variáveis (anexo baixado com junto com os data sets) descobre-se que essa categoria tem 5 divisões, que são:\n",
        "\n",
        "* 1 - Bacharelado\n",
        "* 2 - Licenciatura\n",
        "* 3 - Tecnologócio\n",
        "* 4 - Bacharelado e Licenciatura\n",
        "* (.) - Não aplicável (cursos com nível acadêmico igual a sequencial de formação espefícia ou cursos com área básica de curso)\n",
        "\n",
        "Com isso, percebe-se que os dados nulos apresentados nos data sets são referentes a esses cursos acadêmicos sequanciais, ou seja, são cursos que servem de complementação para o curso superior que a pessoa já tem ou então são cursos básicos. Portanto, as informações que poderiam estar contidas nos dados nulos já estão contidas nas outras categorias direta ou indiretamente. Dessa forma é possível fazer a retirada dos dados faltantes sem risco de perder informações relevantes."
      ],
      "cell_type": "markdown",
      "metadata": {}
    },
    {
      "cell_type": "code",
      "execution_count": 12,
      "metadata": {},
      "outputs": [],
      "source": [
        "def retira_nulos(dados_ano):\n",
        "    dados_ano.dropna(axis = 0, inplace = True)"
      ]
    },
    {
      "cell_type": "code",
      "execution_count": 13,
      "metadata": {},
      "outputs": [],
      "source": [
        "retira_nulos(dados_2009)\n",
        "retira_nulos(dados_2010)"
      ]
    },
    {
      "cell_type": "code",
      "execution_count": 14,
      "metadata": {},
      "outputs": [],
      "source": [
        "retira_nulos(dados_2011)\n",
        "retira_nulos(dados_2012)"
      ]
    },
    {
      "cell_type": "code",
      "execution_count": 15,
      "metadata": {},
      "outputs": [],
      "source": [
        "retira_nulos(dados_2013)\n",
        "retira_nulos(dados_2014)"
      ]
    },
    {
      "cell_type": "code",
      "execution_count": 16,
      "metadata": {},
      "outputs": [],
      "source": [
        "retira_nulos(dados_2015)\n",
        "retira_nulos(dados_2016)"
      ]
    },
    {
      "cell_type": "code",
      "execution_count": 17,
      "metadata": {},
      "outputs": [],
      "source": [
        "retira_nulos(dados_2017)\n",
        "retira_nulos(dados_2018)\n",
        "retira_nulos(dados_2019)"
      ]
    },
    {
      "cell_type": "code",
      "execution_count": 18,
      "metadata": {},
      "outputs": [
        {
          "output_type": "stream",
          "name": "stdout",
          "text": [
            "CO_CATEGORIA_ADMINISTRATIVA    0\n",
            "CO_GRAU_ACADEMICO              0\n",
            "CO_COR_RACA_ALUNO              0\n",
            "dtype: int64\n",
            "\n",
            "CO_CATEGORIA_ADMINISTRATIVA    0\n",
            "CO_GRAU_ACADEMICO              0\n",
            "CO_COR_RACA_ALUNO              0\n",
            "dtype: int64\n",
            "\n",
            "CO_CATEGORIA_ADMINISTRATIVA    0\n",
            "CO_GRAU_ACADEMICO              0\n",
            "CO_COR_RACA_ALUNO              0\n",
            "dtype: int64\n",
            "\n",
            "TP_CATEGORIA_ADMINISTRATIVA    0\n",
            "TP_GRAU_ACADEMICO              0\n",
            "TP_COR_RACA                    0\n",
            "dtype: int64\n"
          ]
        }
      ],
      "source": [
        "mostrar_dados_nulos(dados_2009)\n",
        "print(\"\")\n",
        "mostrar_dados_nulos(dados_2012)\n",
        "print(\"\")\n",
        "mostrar_dados_nulos(dados_2015)\n",
        "print(\"\")\n",
        "mostrar_dados_nulos(dados_2019)"
      ]
    },
    {
      "source": [
        "Todos os dados nulos foram retirados."
      ],
      "cell_type": "markdown",
      "metadata": {}
    },
    {
      "cell_type": "code",
      "execution_count": 19,
      "metadata": {},
      "outputs": [
        {
          "output_type": "stream",
          "name": "stdout",
          "text": [
            "<class 'pandas.core.frame.DataFrame'>\nInt64Index: 8275114 entries, 0 to 8337218\nData columns (total 3 columns):\n #   Column                       Dtype  \n---  ------                       -----  \n 0   CO_CATEGORIA_ADMINISTRATIVA  int64  \n 1   CO_GRAU_ACADEMICO            float64\n 2   CO_COR_RACA_ALUNO            int64  \ndtypes: float64(1), int64(2)\nmemory usage: 252.5 MB\nNone\n\n<class 'pandas.core.frame.DataFrame'>\nInt64Index: 4933661 entries, 0 to 4984927\nData columns (total 3 columns):\n #   Column                       Dtype  \n---  ------                       -----  \n 0   CO_CATEGORIA_ADMINISTRATIVA  int64  \n 1   CO_GRAU_ACADEMICO            float64\n 2   CO_COR_RACA_ALUNO            int64  \ndtypes: float64(1), int64(2)\nmemory usage: 150.6 MB\nNone\n\n<class 'pandas.core.frame.DataFrame'>\nInt64Index: 11388456 entries, 0 to 11449221\nData columns (total 3 columns):\n #   Column                       Dtype  \n---  ------                       -----  \n 0   CO_CATEGORIA_ADMINISTRATIVA  int64  \n 1   CO_GRAU_ACADEMICO            float64\n 2   CO_COR_RACA_ALUNO            int64  \ndtypes: float64(1), int64(2)\nmemory usage: 347.5 MB\nNone\n\n<class 'pandas.core.frame.DataFrame'>\nInt64Index: 11978522 entries, 0 to 12043992\nData columns (total 3 columns):\n #   Column                       Dtype  \n---  ------                       -----  \n 0   TP_CATEGORIA_ADMINISTRATIVA  int64  \n 1   TP_GRAU_ACADEMICO            float64\n 2   TP_COR_RACA                  int64  \ndtypes: float64(1), int64(2)\nmemory usage: 365.6 MB\nNone\n"
          ]
        }
      ],
      "source": [
        "print(dados_2010.info())\n",
        "print(\"\")\n",
        "print(dados_2013.info())\n",
        "print(\"\")\n",
        "print(dados_2016.info())\n",
        "print(\"\")\n",
        "print(dados_2018.info())"
      ]
    },
    {
      "source": [
        "Todas as variáveis que serão analisadas já estão no tipo adequada para fazer a análise. Isso é uma vantagem, visto que se o tipo das variáveis fossem diferente, como por exemplo se a categoria administrativa estivesse sendo lido como uma *string* ao invés de como *int*, seria necessário fazer a conversão para ai sim fazer a análise."
      ],
      "cell_type": "markdown",
      "metadata": {}
    },
    {
      "cell_type": "code",
      "execution_count": 22,
      "metadata": {},
      "outputs": [
        {
          "output_type": "execute_result",
          "data": {
            "text/plain": [
              "1    5168545\n",
              "3    3727390\n",
              "0    2221118\n",
              "2     867174\n",
              "4     206619\n",
              "5      79957\n",
              "9      22558\n",
              "Name: TP_COR_RACA, dtype: int64"
            ]
          },
          "metadata": {},
          "execution_count": 22
        }
      ],
      "source": [
        "dados_2019['TP_COR_RACA'].value_counts()"
      ]
    },
    {
      "cell_type": "code",
      "execution_count": 24,
      "metadata": {},
      "outputs": [
        {
          "output_type": "execute_result",
          "data": {
            "text/plain": [
              "6    2652541\n",
              "0    2444875\n",
              "1    1212476\n",
              "3     452611\n",
              "2     127732\n",
              "4      44748\n",
              "5       8854\n",
              "Name: CO_COR_RACA_ALUNO, dtype: int64"
            ]
          },
          "metadata": {},
          "execution_count": 24
        }
      ],
      "source": [
        "dados_2009['CO_COR_RACA_ALUNO'].value_counts()"
      ]
    },
    {
      "cell_type": "code",
      "execution_count": 29,
      "metadata": {},
      "outputs": [
        {
          "output_type": "execute_result",
          "data": {
            "text/plain": [
              "6943837"
            ]
          },
          "metadata": {},
          "execution_count": 29
        }
      ],
      "source": [
        "dados_2009['CO_COR_RACA_ALUNO'].shape[0]"
      ]
    },
    {
      "cell_type": "code",
      "execution_count": 30,
      "metadata": {
        "tags": []
      },
      "outputs": [],
      "source": [
        "'''class QuantidadeNegros():\n",
        "    def __init__(self):\n",
        "        self.negros_na_universidade = []\n",
        "        self.total_negros_na_universidade = []'''\n",
        "\n",
        "total_negros_na_universidade = []\n",
        "negros_na_universidade = []\n",
        "def quantidade_negros_antes_de_2017(dados_ano):\n",
        "    for dados in dados_ano[\"CO_COR_RACA_ALUNO\"]:\n",
        "        if dados == 2.0 or dados == 3:\n",
        "            negros_na_universidade.append(dados)\n",
        "            total_negros_na_universidade.append(dados)\n",
        "    print(f'Havia \\033[1;34m{len(negros_na_universidade)}\\033[0;0m na universidade, sendo um total de \\033[1;34m{(len(negros_na_universidade)/dados_ano[\"CO_COR_RACA_ALUNO\"].shape[0]*100):.2f}%\\033[0;0m.')\n",
        "\n",
        "def quantidade_negros(dados_ano):\n",
        "    negros_na_universidade = []\n",
        "    for dados in dados_ano[\"TP_COR_RACA\"]:\n",
        "        if dados == 2 or dados == 3:\n",
        "            negros_na_universidade.append(dados)\n",
        "            total_negros_na_universidade.append(dados)\n",
        "    print(f'Havia \\033[1;34m{len(negros_na_universidade)}\\033[0;0m na universidade, sendo um total de \\033[1;34m{(len(negros_na_universidade)/dados_ano[\"TP_COR_RACA\"].shape[0]*100):.2f}%\\033[0;0m.')"
      ]
    },
    {
      "cell_type": "code",
      "execution_count": 28,
      "metadata": {
        "tags": []
      },
      "outputs": [
        {
          "output_type": "stream",
          "name": "stdout",
          "text": [
            "Havia \u001b[1;34m127732\u001b[0;0m na universidade, sendo um total de \u001b[1;34m1.84%\u001b[0;0m.\n",
            "\n",
            "Havia \u001b[1;34m306002\u001b[0;0m na universidade, sendo um total de \u001b[1;34m3.70%\u001b[0;0m.\n",
            "\n",
            "Havia \u001b[1;34m484970\u001b[0;0m na universidade, sendo um total de \u001b[1;34m6.05%\u001b[0;0m.\n",
            "\n",
            "Havia \u001b[1;34m646254\u001b[0;0m na universidade, sendo um total de \u001b[1;34m10.20%\u001b[0;0m.\n",
            "\n",
            "Havia \u001b[1;34m783462\u001b[0;0m na universidade, sendo um total de \u001b[1;34m15.88%\u001b[0;0m.\n",
            "\n",
            "Havia \u001b[1;34m976363\u001b[0;0m na universidade, sendo um total de \u001b[1;34m19.47%\u001b[0;0m.\n",
            "\n",
            "Havia \u001b[1;34m1553207\u001b[0;0m na universidade, sendo um total de \u001b[1;34m13.96%\u001b[0;0m.\n",
            "\n",
            "Havia \u001b[1;34m2222978\u001b[0;0m na universidade, sendo um total de \u001b[1;34m19.52%\u001b[0;0m.\n",
            "\n",
            "Havia \u001b[1;34m729060\u001b[0;0m na universidade, sendo um total de \u001b[1;34m6.33%\u001b[0;0m.\n",
            "\n",
            "Havia \u001b[1;34m822429\u001b[0;0m na universidade, sendo um total de \u001b[1;34m6.87%\u001b[0;0m.\n",
            "\n",
            "Havia \u001b[1;34m867174\u001b[0;0m na universidade, sendo um total de \u001b[1;34m7.05%\u001b[0;0m.\n"
          ]
        }
      ],
      "source": [
        "quantidade_negros_antes_de_2017(dados_2009)\n",
        "negros_universidade_2009 = negros_na_universidade\n",
        "print(\"\")\n",
        "negros_na_universidade_publica = []\n",
        "quantidade_negros_antes_de_2017(dados_2010)\n",
        "negros_universidade_2010 = negros_na_universidade\n",
        "print(\"\")\n",
        "negros_na_universidade_publica = []\n",
        "quantidade_negros_antes_de_2017(dados_2011)\n",
        "negros_universidade_2011 = negros_na_universidade\n",
        "print(\"\")\n",
        "negros_na_universidade_publica = []\n",
        "quantidade_negros_antes_de_2017(dados_2012)\n",
        "negros_universidade_2012 = negros_na_universidade\n",
        "print(\"\")\n",
        "negros_na_universidade_publica = []\n",
        "quantidade_negros_antes_de_2017(dados_2013)\n",
        "negros_universidade_2013 = negros_na_universidade\n",
        "print(\"\")\n",
        "negros_na_universidade_publica = []\n",
        "quantidade_negros_antes_de_2017(dados_2014)\n",
        "negros_universidade_2014 = negros_na_universidade\n",
        "print(\"\")\n",
        "negros_na_universidade_publica = []\n",
        "quantidade_negros_antes_de_2017(dados_2015)\n",
        "negros_universidade_2015 = negros_na_universidade\n",
        "print(\"\")\n",
        "negros_na_universidade_publica = []\n",
        "quantidade_negros_antes_de_2017(dados_2016)\n",
        "negros_universidade_2016 = negros_na_universidade\n",
        "print(\"\")\n",
        "negros_na_universidade_publica = []\n",
        "quantidade_negros(dados_2017)\n",
        "negros_universidade_2017 = negros_na_universidade\n",
        "print(\"\")\n",
        "negros_na_universidade_publica = []\n",
        "quantidade_negros(dados_2018)\n",
        "negros_universidade_2018 = negros_na_universidade\n",
        "print(\"\")\n",
        "negros_na_universidade_publica = []\n",
        "quantidade_negros(dados_2019)\n",
        "negros_universidade_2019 = negros_na_universidade"
      ]
    },
    {
      "cell_type": "code",
      "execution_count": 25,
      "metadata": {},
      "outputs": [
        {
          "output_type": "stream",
          "name": "stdout",
          "text": [
            "No prazo de 2009 até 2019 houveram \u001b[1;34m4671443\u001b[0;0m negros na universidade!\n"
          ]
        }
      ],
      "source": [
        "print(f'No prazo de 2009 até 2019 houveram \\033[1;34m{len(total_negros_na_universidade)}\\033[0;0m negros na universidade!')"
      ]
    },
    {
      "cell_type": "code",
      "execution_count": 37,
      "metadata": {},
      "outputs": [],
      "source": [
        "total_negros_na_universidade_publica = []\n",
        "negros_na_universidade_publica = []\n",
        "def quantidade_negros_publica_antes_de_2017(dados_ano):\n",
        "    for dados_publica in dados_ano[\"CO_CATEGORIA_ADMINISTRATIVA\"]:\n",
        "        if dados_publica == 1 | dados_publica == 2 | dados_publica == 3:\n",
        "            negros_na_universidade_publica.append(dados_publica)\n",
        "            total_negros_na_universidade_publica.append(dados_publica)\n",
        "    print(f'Havia \\033[1;34m{len(negros_na_universidade_publica)}\\033[0;0m na universidade pública (Federal, Estadual ou Municipal), sendo um total de \\033[1;34m{(len(negros_na_universidade_publica)/dados_ano[\"CO_CATEGORIA_ADMINISTRATIVA\"].shape[0]*100):.2f}%\\033[0;0m.')\n",
        "\n",
        "def quantidade_negros_publica(dados_ano):\n",
        "    negros_na_universidade_publica = []\n",
        "    for dados_publica in dados_ano[\"TP_CATEGORIA_ADMINISTRATIVA\"]:\n",
        "        if dados_publica == 1 | dados_publica == 2 | dados_publica == 3:\n",
        "            negros_na_universidade_publica.append(dados_publica)\n",
        "            total_negros_na_universidade_publica.append(dados_publica)\n",
        "    print(f'Havia \\033[1;34m{len(negros_na_universidade_publica)}\\033[0;0m na universidade pública (Federal, Estadual ou Municipal), sendo um total de \\033[1;34m{(len(negros_na_universidade_publica)/dados_ano[\"TP_CATEGORIA_ADMINISTRATIVA\"].shape[0]*100):.2f}%\\033[0;0m.')"
      ]
    },
    {
      "cell_type": "code",
      "execution_count": 38,
      "metadata": {},
      "outputs": [
        {
          "output_type": "stream",
          "name": "stdout",
          "text": [
            "Havia \u001b[1;34m131885\u001b[0;0m na universidade pública (Federal, Estadual ou Municipal), sendo um total de \u001b[1;34m1.89%\u001b[0;0m.\n",
            "131885\n",
            "\n",
            "Havia \u001b[1;34m128191\u001b[0;0m na universidade pública (Federal, Estadual ou Municipal), sendo um total de \u001b[1;34m1.54%\u001b[0;0m.\n",
            "\n",
            "Havia \u001b[1;34m137688\u001b[0;0m na universidade pública (Federal, Estadual ou Municipal), sendo um total de \u001b[1;34m1.70%\u001b[0;0m.\n",
            "\n",
            "Havia \u001b[1;34m49212\u001b[0;0m na universidade pública (Federal, Estadual ou Municipal), sendo um total de \u001b[1;34m0.77%\u001b[0;0m.\n",
            "\n",
            "Havia \u001b[1;34m16505\u001b[0;0m na universidade pública (Federal, Estadual ou Municipal), sendo um total de \u001b[1;34m0.33%\u001b[0;0m.\n",
            "\n",
            "Havia \u001b[1;34m37119\u001b[0;0m na universidade pública (Federal, Estadual ou Municipal), sendo um total de \u001b[1;34m0.74%\u001b[0;0m.\n",
            "\n",
            "Havia \u001b[1;34m60536\u001b[0;0m na universidade pública (Federal, Estadual ou Municipal), sendo um total de \u001b[1;34m0.54%\u001b[0;0m.\n",
            "\n",
            "Havia \u001b[1;34m58702\u001b[0;0m na universidade pública (Federal, Estadual ou Municipal), sendo um total de \u001b[1;34m0.51%\u001b[0;0m.\n",
            "\n",
            "Havia \u001b[1;34m109774\u001b[0;0m na universidade pública (Federal, Estadual ou Municipal), sendo um total de \u001b[1;34m0.95%\u001b[0;0m.\n",
            "\n",
            "Havia \u001b[1;34m87798\u001b[0;0m na universidade pública (Federal, Estadual ou Municipal), sendo um total de \u001b[1;34m0.73%\u001b[0;0m.\n",
            "\n",
            "Havia \u001b[1;34m81015\u001b[0;0m na universidade pública (Federal, Estadual ou Municipal), sendo um total de \u001b[1;34m0.66%\u001b[0;0m.\n"
          ]
        }
      ],
      "source": [
        "quantidade_negros_publica_antes_de_2017(dados_2009)\n",
        "negros_universidade_publica_2009 = negros_na_universidade_publica\n",
        "print(\"\")\n",
        "negros_na_universidade_publica = []\n",
        "quantidade_negros_publica_antes_de_2017(dados_2010)\n",
        "negros_universidade_publica_2010 = negros_na_universidade_publica\n",
        "print(\"\")\n",
        "negros_na_universidade_publica = []\n",
        "quantidade_negros_publica_antes_de_2017(dados_2011)\n",
        "negros_universidade_publica_2011 = negros_na_universidade_publica\n",
        "print(\"\")\n",
        "negros_na_universidade_publica = []\n",
        "quantidade_negros_publica_antes_de_2017(dados_2012)\n",
        "negros_universidade_publica_2012 = negros_na_universidade_publica\n",
        "print(\"\")\n",
        "negros_na_universidade_publica = []\n",
        "quantidade_negros_publica_antes_de_2017(dados_2013)\n",
        "negros_universidade_publica_2013 = negros_na_universidade_publica\n",
        "print(\"\")\n",
        "negros_na_universidade_publica = []\n",
        "quantidade_negros_publica_antes_de_2017(dados_2014)\n",
        "negros_universidade_publica_2014 = negros_na_universidade_publica\n",
        "print(\"\")\n",
        "negros_na_universidade_publica = []\n",
        "quantidade_negros_publica_antes_de_2017(dados_2015)\n",
        "negros_universidade_publica_2015 = negros_na_universidade_publica\n",
        "print(\"\")\n",
        "negros_na_universidade_publica = []\n",
        "quantidade_negros_publica_antes_de_2017(dados_2016)\n",
        "negros_universidade_publica_2016 = negros_na_universidade_publica\n",
        "print(\"\")\n",
        "negros_na_universidade_publica = []\n",
        "quantidade_negros_publica(dados_2017)\n",
        "negros_universidade_publica_2017 = negros_na_universidade_publica\n",
        "print(\"\")\n",
        "negros_na_universidade_publica = []\n",
        "quantidade_negros_publica(dados_2018)\n",
        "negros_universidade_publica_2018 = negros_na_universidade_publica\n",
        "print(\"\")\n",
        "negros_na_universidade_publica = []\n",
        "quantidade_negros_publica(dados_2019)\n",
        "negros_universidade_publica_2019 = negros_na_universidade_publica"
      ]
    },
    {
      "cell_type": "code",
      "execution_count": 39,
      "metadata": {},
      "outputs": [
        {
          "output_type": "stream",
          "name": "stdout",
          "text": [
            "No prazo de 2009 até 2019 houveram \u001b[1;34m898425\u001b[0;0m negros na universidade!\n"
          ]
        }
      ],
      "source": [
        "print(f'No prazo de 2009 até 2019 houveram \\033[1;34m{len(total_negros_na_universidade_publica)}\\033[0;0m negros na universidade!')"
      ]
    },
    {
      "cell_type": "code",
      "execution_count": 40,
      "metadata": {},
      "outputs": [
        {
          "output_type": "execute_result",
          "data": {
            "text/plain": [
              "97851     78207\n",
              "89380     36558\n",
              "99362     33236\n",
              "98892     24715\n",
              "100782    24398\n",
              "          ...  \n",
              "5794          1\n",
              "38878         1\n",
              "81838         1\n",
              "52431         1\n",
              "67255         1\n",
              "Name: CO_CURSO, Length: 28966, dtype: int64"
            ]
          },
          "metadata": {},
          "execution_count": 40
        }
      ],
      "source": [
        "dados_2009[\"CO_CURSO\"].value_counts()"
      ]
    },
    {
      "cell_type": "code",
      "execution_count": 87,
      "metadata": {},
      "outputs": [
        {
          "output_type": "error",
          "ename": "TypeError",
          "evalue": "bar() missing 1 required positional argument: 'height'",
          "traceback": [
            "\u001b[0;31m---------------------------------------------------------------------------\u001b[0m",
            "\u001b[0;31mTypeError\u001b[0m                                 Traceback (most recent call last)",
            "\u001b[0;32m<ipython-input-87-bcb999a213c3>\u001b[0m in \u001b[0;36m<module>\u001b[0;34m\u001b[0m\n\u001b[1;32m      1\u001b[0m \u001b[0mfig\u001b[0m\u001b[0;34m,\u001b[0m \u001b[0max\u001b[0m \u001b[0;34m=\u001b[0m \u001b[0mplt\u001b[0m\u001b[0;34m.\u001b[0m\u001b[0msubplots\u001b[0m\u001b[0;34m(\u001b[0m\u001b[0mfigsize\u001b[0m \u001b[0;34m=\u001b[0m \u001b[0;34m(\u001b[0m\u001b[0;36m20\u001b[0m\u001b[0;34m,\u001b[0m \u001b[0;36m16\u001b[0m\u001b[0;34m)\u001b[0m\u001b[0;34m)\u001b[0m\u001b[0;34m\u001b[0m\u001b[0;34m\u001b[0m\u001b[0m\n\u001b[1;32m      2\u001b[0m \u001b[0;34m\u001b[0m\u001b[0m\n\u001b[0;32m----> 3\u001b[0;31m \u001b[0mret_1\u001b[0m \u001b[0;34m=\u001b[0m \u001b[0max\u001b[0m\u001b[0;34m.\u001b[0m\u001b[0mbar\u001b[0m\u001b[0;34m(\u001b[0m\u001b[0mdados_2009\u001b[0m\u001b[0;34m[\u001b[0m\u001b[0;34m\"CO_COR_RACA_ALUNO\"\u001b[0m\u001b[0;34m]\u001b[0m\u001b[0;34m)\u001b[0m\u001b[0;34m\u001b[0m\u001b[0;34m\u001b[0m\u001b[0m\n\u001b[0m\u001b[1;32m      4\u001b[0m \u001b[0mret_2\u001b[0m \u001b[0;34m=\u001b[0m \u001b[0max\u001b[0m\u001b[0;34m.\u001b[0m\u001b[0mbar\u001b[0m\u001b[0;34m(\u001b[0m\u001b[0mdados_2010\u001b[0m\u001b[0;34m[\u001b[0m\u001b[0;34m\"CO_COR_RACA_ALUNO\"\u001b[0m\u001b[0;34m]\u001b[0m\u001b[0;34m)\u001b[0m\u001b[0;34m\u001b[0m\u001b[0;34m\u001b[0m\u001b[0m\n\u001b[1;32m      5\u001b[0m \u001b[0;34m\u001b[0m\u001b[0m\n",
            "\u001b[0;32m~/anaconda3/lib/python3.8/site-packages/matplotlib/__init__.py\u001b[0m in \u001b[0;36minner\u001b[0;34m(ax, data, *args, **kwargs)\u001b[0m\n\u001b[1;32m   1436\u001b[0m     \u001b[0;32mdef\u001b[0m \u001b[0minner\u001b[0m\u001b[0;34m(\u001b[0m\u001b[0max\u001b[0m\u001b[0;34m,\u001b[0m \u001b[0;34m*\u001b[0m\u001b[0margs\u001b[0m\u001b[0;34m,\u001b[0m \u001b[0mdata\u001b[0m\u001b[0;34m=\u001b[0m\u001b[0;32mNone\u001b[0m\u001b[0;34m,\u001b[0m \u001b[0;34m**\u001b[0m\u001b[0mkwargs\u001b[0m\u001b[0;34m)\u001b[0m\u001b[0;34m:\u001b[0m\u001b[0;34m\u001b[0m\u001b[0;34m\u001b[0m\u001b[0m\n\u001b[1;32m   1437\u001b[0m         \u001b[0;32mif\u001b[0m \u001b[0mdata\u001b[0m \u001b[0;32mis\u001b[0m \u001b[0;32mNone\u001b[0m\u001b[0;34m:\u001b[0m\u001b[0;34m\u001b[0m\u001b[0;34m\u001b[0m\u001b[0m\n\u001b[0;32m-> 1438\u001b[0;31m             \u001b[0;32mreturn\u001b[0m \u001b[0mfunc\u001b[0m\u001b[0;34m(\u001b[0m\u001b[0max\u001b[0m\u001b[0;34m,\u001b[0m \u001b[0;34m*\u001b[0m\u001b[0mmap\u001b[0m\u001b[0;34m(\u001b[0m\u001b[0msanitize_sequence\u001b[0m\u001b[0;34m,\u001b[0m \u001b[0margs\u001b[0m\u001b[0;34m)\u001b[0m\u001b[0;34m,\u001b[0m \u001b[0;34m**\u001b[0m\u001b[0mkwargs\u001b[0m\u001b[0;34m)\u001b[0m\u001b[0;34m\u001b[0m\u001b[0;34m\u001b[0m\u001b[0m\n\u001b[0m\u001b[1;32m   1439\u001b[0m \u001b[0;34m\u001b[0m\u001b[0m\n\u001b[1;32m   1440\u001b[0m         \u001b[0mbound\u001b[0m \u001b[0;34m=\u001b[0m \u001b[0mnew_sig\u001b[0m\u001b[0;34m.\u001b[0m\u001b[0mbind\u001b[0m\u001b[0;34m(\u001b[0m\u001b[0max\u001b[0m\u001b[0;34m,\u001b[0m \u001b[0;34m*\u001b[0m\u001b[0margs\u001b[0m\u001b[0;34m,\u001b[0m \u001b[0;34m**\u001b[0m\u001b[0mkwargs\u001b[0m\u001b[0;34m)\u001b[0m\u001b[0;34m\u001b[0m\u001b[0;34m\u001b[0m\u001b[0m\n",
            "\u001b[0;31mTypeError\u001b[0m: bar() missing 1 required positional argument: 'height'"
          ]
        }
      ],
      "source": [
        "fig, ax = plt.subplots(figsize = (20, 16))\n",
        "\n",
        "ax.bar(dados_2009[\"CO_COR_RACA_ALUNO\"])\n",
        "\n",
        "plt.tight_layout()\n",
        "plt.plot()"
      ]
    }
  ]
}