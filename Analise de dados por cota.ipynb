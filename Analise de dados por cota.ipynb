{
  "nbformat": 4,
  "nbformat_minor": 0,
  "metadata": {
    "colab": {
      "name": "Untitled3.ipynb",
      "provenance": [],
      "authorship_tag": "ABX9TyPsFOOcx4SBPsvHZ3WUQk8t",
      "include_colab_link": true
    },
    "kernelspec": {
      "name": "python3",
      "display_name": "Python 3"
    }
  },
  "cells": [
    {
      "cell_type": "code",
      "metadata": {
        "id": "h1fRvy9y0Iya"
      },
      "source": [
        "import pandas as pd\n",
        "import matplotlib.pyplot as plt"
      ],
      "execution_count": 1,
      "outputs": []
    },
    {
      "cell_type": "code",
      "execution_count": 6,
      "metadata": {},
      "outputs": [],
      "source": [
        "cols_ate_2016 = [\n",
        "    \"CO_COR_RACA_ALUNO\",\n",
        "    \"CO_CATEGORIA_ADMINISTRATIVA\",\n",
        "    \"CO_GRAU_ACADEMICO\"\n",
        "]"
      ]
    },
    {
      "cell_type": "code",
      "execution_count": 7,
      "metadata": {},
      "outputs": [],
      "source": [
        "def ler_dados_ate_2016(dados_ano):\n",
        "    return pd.read_csv(dados_ano, sep='|', encoding=\"latin1\", usecols=cols_ate_2016)"
      ]
    },
    {
      "cell_type": "code",
      "execution_count": 8,
      "metadata": {},
      "outputs": [],
      "source": [
        "dados_2009 = ler_dados_ate_2016('DM_ALUNO_2009.CSV')\n",
        "dados_2010 = ler_dados_ate_2016('DM_ALUNO_2010.CSV')\n",
        "dados_2011 = ler_dados_ate_2016('DM_ALUNO_2011.CSV')\n",
        "dados_2012 = ler_dados_ate_2016('DM_ALUNO_2012.CSV')\n",
        "dados_2013 = ler_dados_ate_2016('DM_ALUNO_2013.CSV')\n",
        "dados_2014 = ler_dados_ate_2016('DM_ALUNO_2014.CSV')\n",
        "dados_2015 = ler_dados_ate_2016('DM_ALUNO_2015.CSV')\n",
        "dados_2016 = ler_dados_ate_2016('DM_ALUNO_2016.CSV')"
      ]
    },
    {
      "cell_type": "code",
      "metadata": {
        "id": "sm-bMVrmuAox"
      },
      "source": [
        "cols = [\n",
        "    \"TP_COR_RACA\",\n",
        "    \"TP_CATEGORIA_ADMINISTRATIVA\",\n",
        "    \"TP_GRAU_ACADEMICO\"\n",
        "]"
      ],
      "execution_count": 9,
      "outputs": []
    },
    {
      "cell_type": "code",
      "execution_count": 10,
      "metadata": {},
      "outputs": [],
      "source": [
        "def ler_dados(dados_ano):\n",
        "    return pd.read_csv(dados_ano, sep='|', encoding=\"latin1\", usecols=cols)"
      ]
    },
    {
      "cell_type": "code",
      "execution_count": 11,
      "metadata": {},
      "outputs": [],
      "source": [
        "dados_2017 = ler_dados('DM_ALUNO_2017.CSV')\n",
        "dados_2018 = ler_dados('DM_ALUNO_2018.CSV')\n",
        "dados_2019 = ler_dados('SUP_ALUNO_2019.CSV')"
      ]
    },
    {
      "cell_type": "code",
      "metadata": {
        "id": "PpJ8aVoIUfR1",
        "colab": {
          "base_uri": "https://localhost:8080/",
          "height": 204
        },
        "outputId": "59d34474-192d-4a5f-baac-934315c0e32a"
      },
      "source": [
        "dados_2019.head()"
      ],
      "execution_count": 12,
      "outputs": [
        {
          "output_type": "execute_result",
          "data": {
            "text/plain": [
              "   TP_CATEGORIA_ADMINISTRATIVA  TP_GRAU_ACADEMICO  TP_COR_RACA\n",
              "0                            1                1.0            2\n",
              "1                            1                1.0            3\n",
              "2                            1                1.0            3\n",
              "3                            1                1.0            2\n",
              "4                            1                1.0            3"
            ],
            "text/html": "<div>\n<style scoped>\n    .dataframe tbody tr th:only-of-type {\n        vertical-align: middle;\n    }\n\n    .dataframe tbody tr th {\n        vertical-align: top;\n    }\n\n    .dataframe thead th {\n        text-align: right;\n    }\n</style>\n<table border=\"1\" class=\"dataframe\">\n  <thead>\n    <tr style=\"text-align: right;\">\n      <th></th>\n      <th>TP_CATEGORIA_ADMINISTRATIVA</th>\n      <th>TP_GRAU_ACADEMICO</th>\n      <th>TP_COR_RACA</th>\n    </tr>\n  </thead>\n  <tbody>\n    <tr>\n      <th>0</th>\n      <td>1</td>\n      <td>1.0</td>\n      <td>2</td>\n    </tr>\n    <tr>\n      <th>1</th>\n      <td>1</td>\n      <td>1.0</td>\n      <td>3</td>\n    </tr>\n    <tr>\n      <th>2</th>\n      <td>1</td>\n      <td>1.0</td>\n      <td>3</td>\n    </tr>\n    <tr>\n      <th>3</th>\n      <td>1</td>\n      <td>1.0</td>\n      <td>2</td>\n    </tr>\n    <tr>\n      <th>4</th>\n      <td>1</td>\n      <td>1.0</td>\n      <td>3</td>\n    </tr>\n  </tbody>\n</table>\n</div>"
          },
          "metadata": {},
          "execution_count": 12
        }
      ]
    },
    {
      "cell_type": "code",
      "execution_count": 13,
      "metadata": {},
      "outputs": [
        {
          "output_type": "execute_result",
          "data": {
            "text/plain": [
              "   CO_CATEGORIA_ADMINISTRATIVA  CO_GRAU_ACADEMICO  CO_COR_RACA_ALUNO\n",
              "0                            4                2.0                0.0\n",
              "1                            4                2.0                3.0\n",
              "2                            4                1.0                0.0\n",
              "3                            4                1.0                1.0\n",
              "4                            3                2.0                1.0"
            ],
            "text/html": "<div>\n<style scoped>\n    .dataframe tbody tr th:only-of-type {\n        vertical-align: middle;\n    }\n\n    .dataframe tbody tr th {\n        vertical-align: top;\n    }\n\n    .dataframe thead th {\n        text-align: right;\n    }\n</style>\n<table border=\"1\" class=\"dataframe\">\n  <thead>\n    <tr style=\"text-align: right;\">\n      <th></th>\n      <th>CO_CATEGORIA_ADMINISTRATIVA</th>\n      <th>CO_GRAU_ACADEMICO</th>\n      <th>CO_COR_RACA_ALUNO</th>\n    </tr>\n  </thead>\n  <tbody>\n    <tr>\n      <th>0</th>\n      <td>4</td>\n      <td>2.0</td>\n      <td>0.0</td>\n    </tr>\n    <tr>\n      <th>1</th>\n      <td>4</td>\n      <td>2.0</td>\n      <td>3.0</td>\n    </tr>\n    <tr>\n      <th>2</th>\n      <td>4</td>\n      <td>1.0</td>\n      <td>0.0</td>\n    </tr>\n    <tr>\n      <th>3</th>\n      <td>4</td>\n      <td>1.0</td>\n      <td>1.0</td>\n    </tr>\n    <tr>\n      <th>4</th>\n      <td>3</td>\n      <td>2.0</td>\n      <td>1.0</td>\n    </tr>\n  </tbody>\n</table>\n</div>"
          },
          "metadata": {},
          "execution_count": 13
        }
      ],
      "source": [
        "dados_2011.head()"
      ]
    },
    {
      "cell_type": "code",
      "execution_count": 14,
      "metadata": {},
      "outputs": [],
      "source": [
        "dados_totais_ate_2016 = [dados_2009, dados_2010, dados_2011, dados_2012, dados_2013,\n",
        "                dados_2014, dados_2015, dados_2016]\n",
        "dados_totais_2017_a_2019 = [dados_2017, dados_2018,dados_2019]"
      ]
    },
    {
      "cell_type": "code",
      "execution_count": 15,
      "metadata": {},
      "outputs": [],
      "source": [
        "def mostrar_dados_nulos(dados_ano):\n",
        "    return print(dados_ano.isnull().sum())"
      ]
    },
    {
      "cell_type": "code",
      "execution_count": 16,
      "metadata": {},
      "outputs": [],
      "source": [
        "def mostrar_anos_ate_2016(i):\n",
        "    if i == 0:\n",
        "        print('Para o ano de 2009...')\n",
        "    elif i == 1:\n",
        "        print('Para o ano de 2010...')\n",
        "    elif i == 2:\n",
        "        print('Para o ano de 2011...')\n",
        "    elif i == 3:\n",
        "        print('Para o ano de 2012...')\n",
        "    elif i == 4:\n",
        "        print('Para o ano de 2013...') \n",
        "    elif i == 5:\n",
        "        print('Para o ano de 2014...') \n",
        "    elif i == 6:\n",
        "        print('Para o ano de 2015...') \n",
        "    else:\n",
        "        print('Para o ano de 2016...') \n",
        "\n",
        "def mostrar_anos_depois_2016(i):\n",
        "    if i == 0:\n",
        "        print('Para o ano de 2017...')\n",
        "    elif i == 1:\n",
        "        print('Para o ano de 2018...')\n",
        "    else:\n",
        "        print('Para o ano de 2019...')"
      ]
    },
    {
      "cell_type": "code",
      "metadata": {
        "id": "tzQDAZbQtM1l",
        "tags": []
      },
      "source": [
        "i = 0\n",
        "while i <= 7:\n",
        "    mostrar_anos_ate_2016(i)\n",
        "    mostrar_dados_nulos(dados_totais_ate_2016[i])\n",
        "    print(\"\")\n",
        "    i += 1"
      ],
      "execution_count": 17,
      "outputs": [
        {
          "output_type": "stream",
          "name": "stdout",
          "text": [
            "Para o ano de 2009...\n",
            "CO_CATEGORIA_ADMINISTRATIVA        0\n",
            "CO_GRAU_ACADEMICO              38181\n",
            "CO_COR_RACA_ALUNO                  0\n",
            "dtype: int64\n",
            "\n",
            "Para o ano de 2010...\n",
            "CO_CATEGORIA_ADMINISTRATIVA        0\n",
            "CO_GRAU_ACADEMICO              62105\n",
            "CO_COR_RACA_ALUNO                  0\n",
            "dtype: int64\n",
            "\n",
            "Para o ano de 2011...\n",
            "CO_CATEGORIA_ADMINISTRATIVA        0\n",
            "CO_GRAU_ACADEMICO              59154\n",
            "CO_COR_RACA_ALUNO                  1\n",
            "dtype: int64\n",
            "\n",
            "Para o ano de 2012...\n",
            "CO_CATEGORIA_ADMINISTRATIVA        0\n",
            "CO_GRAU_ACADEMICO              43813\n",
            "CO_COR_RACA_ALUNO                  0\n",
            "dtype: int64\n",
            "\n",
            "Para o ano de 2013...\n",
            "CO_CATEGORIA_ADMINISTRATIVA        0\n",
            "CO_GRAU_ACADEMICO              51267\n",
            "CO_COR_RACA_ALUNO                  0\n",
            "dtype: int64\n",
            "\n",
            "Para o ano de 2014...\n",
            "CO_CATEGORIA_ADMINISTRATIVA        0\n",
            "CO_GRAU_ACADEMICO              23930\n",
            "CO_COR_RACA_ALUNO                  0\n",
            "dtype: int64\n",
            "\n",
            "Para o ano de 2015...\n",
            "CO_CATEGORIA_ADMINISTRATIVA        0\n",
            "CO_GRAU_ACADEMICO              62530\n",
            "CO_COR_RACA_ALUNO                  0\n",
            "dtype: int64\n",
            "\n",
            "Para o ano de 2016...\n",
            "CO_CATEGORIA_ADMINISTRATIVA        0\n",
            "CO_GRAU_ACADEMICO              60766\n",
            "CO_COR_RACA_ALUNO                  0\n",
            "dtype: int64\n",
            "\n"
          ]
        }
      ]
    },
    {
      "cell_type": "code",
      "execution_count": 18,
      "metadata": {},
      "outputs": [
        {
          "output_type": "stream",
          "name": "stdout",
          "text": [
            "Para o ano de 2017...\n",
            "TP_CATEGORIA_ADMINISTRATIVA        0\n",
            "TP_GRAU_ACADEMICO              65639\n",
            "TP_COR_RACA                        0\n",
            "dtype: int64\n",
            "\n",
            "Para o ano de 2018...\n",
            "TP_CATEGORIA_ADMINISTRATIVA        0\n",
            "TP_GRAU_ACADEMICO              65471\n",
            "TP_COR_RACA                        0\n",
            "dtype: int64\n",
            "\n",
            "Para o ano de 2019...\n",
            "TP_CATEGORIA_ADMINISTRATIVA        0\n",
            "TP_GRAU_ACADEMICO              57471\n",
            "TP_COR_RACA                        0\n",
            "dtype: int64\n",
            "\n"
          ]
        }
      ],
      "source": [
        "i = 0\n",
        "while i <= 2:\n",
        "    mostrar_anos_depois_2016(i)\n",
        "    mostrar_dados_nulos(dados_totais_2017_a_2019[i])\n",
        "    print(\"\")\n",
        "    i += 1"
      ]
    },
    {
      "source": [
        "Um ponto muito importante ao se fazer análise de dados é a verificação se há dados faltantes para que esses dados não prejudiquem a verdadeira análise dos dados e para assim tomar uma decisão do que será feito em relação a falta de informação. Nesse caso os dados faltantes, em todos os data sets são na coluna \"CO_GRAU_ACADEMICO\"(Código do grau acadêmico conferido ao diplomado pelo curso) para dados até 2016, e \"TP_GRAU_ACADEMICO\"(Tipo de grau academico conferido ao diplomado pelo curso), os dois tem nomes diferentes, porém a forma de categorizar são iguais. Ao fazer a leitura do dicionário de variáveis (anexo baixado com junto com os data sets) descobre-se que essa categoria tem 5 divisões, que são:\n",
        "\n",
        "* 1 - Bacharelado\n",
        "* 2 - Licenciatura\n",
        "* 3 - Tecnologócio\n",
        "* 4 - Bacharelado e Licenciatura\n",
        "* (.) - Não aplicável (cursos com nível acadêmico igual a sequencial de formação espefícia ou cursos com área básica de curso)\n",
        "\n",
        "Com isso, percebe-se que os dados nulos apresentados nos data sets são referentes a esses cursos acadêmicos sequanciais, ou seja, são cursos que servem de complementação para o curso superior que a pessoa já tem ou então são cursos básicos. Portanto, as informações que poderiam estar contidas nos dados nulos já estão contidas nas outras categorias direta ou indiretamente. Dessa forma é possível fazer a retirada dos dados faltantes sem risco de perder informações relevantes."
      ],
      "cell_type": "markdown",
      "metadata": {}
    },
    {
      "cell_type": "code",
      "execution_count": 19,
      "metadata": {},
      "outputs": [],
      "source": [
        "def retira_nulos(dados_ano):\n",
        "    dados_ano.dropna(axis = 0, inplace = True)"
      ]
    },
    {
      "cell_type": "code",
      "execution_count": 20,
      "metadata": {},
      "outputs": [],
      "source": [
        "i = 0\n",
        "while i <= 7:\n",
        "    retira_nulos(dados_totais_ate_2016[i])\n",
        "    i += 1"
      ]
    },
    {
      "cell_type": "code",
      "execution_count": 21,
      "metadata": {},
      "outputs": [],
      "source": [
        "i = 0\n",
        "while i <= 2:\n",
        "    retira_nulos(dados_totais_2017_a_2019[i])\n",
        "    i += 1"
      ]
    },
    {
      "cell_type": "code",
      "execution_count": 22,
      "metadata": {},
      "outputs": [
        {
          "output_type": "stream",
          "name": "stdout",
          "text": [
            "Para o ano de 2009...\n",
            "CO_CATEGORIA_ADMINISTRATIVA    0\n",
            "CO_GRAU_ACADEMICO              0\n",
            "CO_COR_RACA_ALUNO              0\n",
            "dtype: int64\n",
            "\n",
            "Para o ano de 2010...\n",
            "CO_CATEGORIA_ADMINISTRATIVA    0\n",
            "CO_GRAU_ACADEMICO              0\n",
            "CO_COR_RACA_ALUNO              0\n",
            "dtype: int64\n",
            "\n",
            "Para o ano de 2011...\n",
            "CO_CATEGORIA_ADMINISTRATIVA    0\n",
            "CO_GRAU_ACADEMICO              0\n",
            "CO_COR_RACA_ALUNO              0\n",
            "dtype: int64\n",
            "\n",
            "Para o ano de 2012...\n",
            "CO_CATEGORIA_ADMINISTRATIVA    0\n",
            "CO_GRAU_ACADEMICO              0\n",
            "CO_COR_RACA_ALUNO              0\n",
            "dtype: int64\n",
            "\n",
            "Para o ano de 2013...\n",
            "CO_CATEGORIA_ADMINISTRATIVA    0\n",
            "CO_GRAU_ACADEMICO              0\n",
            "CO_COR_RACA_ALUNO              0\n",
            "dtype: int64\n",
            "\n",
            "Para o ano de 2014...\n",
            "CO_CATEGORIA_ADMINISTRATIVA    0\n",
            "CO_GRAU_ACADEMICO              0\n",
            "CO_COR_RACA_ALUNO              0\n",
            "dtype: int64\n",
            "\n",
            "Para o ano de 2015...\n",
            "CO_CATEGORIA_ADMINISTRATIVA    0\n",
            "CO_GRAU_ACADEMICO              0\n",
            "CO_COR_RACA_ALUNO              0\n",
            "dtype: int64\n",
            "\n",
            "Para o ano de 2016...\n",
            "CO_CATEGORIA_ADMINISTRATIVA    0\n",
            "CO_GRAU_ACADEMICO              0\n",
            "CO_COR_RACA_ALUNO              0\n",
            "dtype: int64\n",
            "\n"
          ]
        }
      ],
      "source": [
        "i = 0\n",
        "while i <= 7:\n",
        "    mostrar_anos_ate_2016(i)\n",
        "    mostrar_dados_nulos(dados_totais_ate_2016[i])\n",
        "    print(\"\")\n",
        "    i += 1"
      ]
    },
    {
      "cell_type": "code",
      "execution_count": 23,
      "metadata": {},
      "outputs": [
        {
          "output_type": "stream",
          "name": "stdout",
          "text": [
            "Para o ano de 2017...\n",
            "TP_CATEGORIA_ADMINISTRATIVA    0\n",
            "TP_GRAU_ACADEMICO              0\n",
            "TP_COR_RACA                    0\n",
            "dtype: int64\n",
            "\n",
            "Para o ano de 2018...\n",
            "TP_CATEGORIA_ADMINISTRATIVA    0\n",
            "TP_GRAU_ACADEMICO              0\n",
            "TP_COR_RACA                    0\n",
            "dtype: int64\n",
            "\n",
            "Para o ano de 2019...\n",
            "TP_CATEGORIA_ADMINISTRATIVA    0\n",
            "TP_GRAU_ACADEMICO              0\n",
            "TP_COR_RACA                    0\n",
            "dtype: int64\n",
            "\n"
          ]
        }
      ],
      "source": [
        "i = 0\n",
        "while i <= 2:\n",
        "    mostrar_anos_depois_2016(i)\n",
        "    mostrar_dados_nulos(dados_totais_2017_a_2019[i])\n",
        "    print(\"\")\n",
        "    i += 1"
      ]
    },
    {
      "source": [
        "Todos os dados nulos foram retirados."
      ],
      "cell_type": "markdown",
      "metadata": {}
    },
    {
      "cell_type": "code",
      "execution_count": 24,
      "metadata": {},
      "outputs": [
        {
          "output_type": "stream",
          "name": "stdout",
          "text": [
            "<class 'pandas.core.frame.DataFrame'>\nInt64Index: 6943837 entries, 0 to 6982017\nData columns (total 3 columns):\n #   Column                       Dtype  \n---  ------                       -----  \n 0   CO_CATEGORIA_ADMINISTRATIVA  int64  \n 1   CO_GRAU_ACADEMICO            float64\n 2   CO_COR_RACA_ALUNO            int64  \ndtypes: float64(1), int64(2)\nmemory usage: 211.9 MB\n"
          ]
        }
      ],
      "source": [
        "dados_totais_ate_2016[0].info()"
      ]
    },
    {
      "cell_type": "code",
      "execution_count": 25,
      "metadata": {},
      "outputs": [
        {
          "output_type": "stream",
          "name": "stdout",
          "text": [
            "<class 'pandas.core.frame.DataFrame'>\nInt64Index: 11523555 entries, 0 to 11589193\nData columns (total 3 columns):\n #   Column                       Dtype  \n---  ------                       -----  \n 0   TP_CATEGORIA_ADMINISTRATIVA  int64  \n 1   TP_GRAU_ACADEMICO            float64\n 2   TP_COR_RACA                  int64  \ndtypes: float64(1), int64(2)\nmemory usage: 351.7 MB\n"
          ]
        }
      ],
      "source": [
        "dados_totais_2017_a_2019[0].info()"
      ]
    },
    {
      "source": [
        "Todas as variáveis que serão analisadas já estão no tipo adequada para fazer a análise. Isso é uma vantagem, visto que se o tipo das variáveis fossem diferente, como por exemplo se a categoria administrativa estivesse sendo lido como uma *string* ao invés de como *int*, seria necessário fazer a conversão para ai sim fazer a análise."
      ],
      "cell_type": "markdown",
      "metadata": {}
    },
    {
      "cell_type": "code",
      "execution_count": 26,
      "metadata": {},
      "outputs": [
        {
          "output_type": "execute_result",
          "data": {
            "text/plain": [
              "1    5168545\n",
              "3    3727390\n",
              "0    2221118\n",
              "2     867174\n",
              "4     206619\n",
              "5      79957\n",
              "9      22558\n",
              "Name: TP_COR_RACA, dtype: int64"
            ]
          },
          "metadata": {},
          "execution_count": 26
        }
      ],
      "source": [
        "dados_2019['TP_COR_RACA'].value_counts()"
      ]
    },
    {
      "cell_type": "code",
      "execution_count": 27,
      "metadata": {},
      "outputs": [
        {
          "output_type": "execute_result",
          "data": {
            "text/plain": [
              "6    2652541\n",
              "0    2444875\n",
              "1    1212476\n",
              "3     452611\n",
              "2     127732\n",
              "4      44748\n",
              "5       8854\n",
              "Name: CO_COR_RACA_ALUNO, dtype: int64"
            ]
          },
          "metadata": {},
          "execution_count": 27
        }
      ],
      "source": [
        "dados_2009['CO_COR_RACA_ALUNO'].value_counts()"
      ]
    },
    {
      "cell_type": "code",
      "execution_count": 28,
      "metadata": {},
      "outputs": [
        {
          "output_type": "execute_result",
          "data": {
            "text/plain": [
              "6943837"
            ]
          },
          "metadata": {},
          "execution_count": 28
        }
      ],
      "source": [
        "dados_2009['CO_COR_RACA_ALUNO'].shape[0]"
      ]
    },
    {
      "cell_type": "code",
      "execution_count": 29,
      "metadata": {
        "tags": []
      },
      "outputs": [],
      "source": [
        "total_negros_na_universidade = []\n",
        "negros_na_universidade = []\n",
        "def quantidade_negros_antes_de_2017(dados_ano):\n",
        "    for dados in dados_ano[\"CO_COR_RACA_ALUNO\"]:\n",
        "        if dados == 2.0 or dados == 3:\n",
        "            negros_na_universidade.append(dados)\n",
        "            total_negros_na_universidade.append(dados)\n",
        "    print(f'Havia \\033[1;34m{len(negros_na_universidade)}\\033[0;0m na universidade, sendo um total de \\033[1;34m{(len(negros_na_universidade)/dados_ano[\"CO_COR_RACA_ALUNO\"].shape[0]*100):.2f}%\\033[0;0m.')\n",
        "\n",
        "def quantidade_negros(dados_ano):\n",
        "    negros_na_universidade = []\n",
        "    for dados in dados_ano[\"TP_COR_RACA\"]:\n",
        "        if dados == 2 or dados == 3:\n",
        "            negros_na_universidade.append(dados)\n",
        "            total_negros_na_universidade.append(dados)\n",
        "    print(f'Havia \\033[1;34m{len(negros_na_universidade)}\\033[0;0m na universidade, sendo um total de \\033[1;34m{(len(negros_na_universidade)/dados_ano[\"TP_COR_RACA\"].shape[0]*100):.2f}%\\033[0;0m.')"
      ]
    },
    {
      "cell_type": "code",
      "execution_count": 30,
      "metadata": {
        "tags": []
      },
      "outputs": [
        {
          "output_type": "stream",
          "name": "stdout",
          "text": [
            "Havia \u001b[1;34m580343\u001b[0;0m na universidade, sendo um total de \u001b[1;34m8.36%\u001b[0;0m.\n",
            "\n",
            "Havia \u001b[1;34m1397240\u001b[0;0m na universidade, sendo um total de \u001b[1;34m16.88%\u001b[0;0m.\n",
            "\n",
            "Havia \u001b[1;34m2297128\u001b[0;0m na universidade, sendo um total de \u001b[1;34m28.64%\u001b[0;0m.\n",
            "\n",
            "Havia \u001b[1;34m3097019\u001b[0;0m na universidade, sendo um total de \u001b[1;34m48.90%\u001b[0;0m.\n",
            "\n",
            "Havia \u001b[1;34m3693835\u001b[0;0m na universidade, sendo um total de \u001b[1;34m74.87%\u001b[0;0m.\n",
            "\n",
            "Havia \u001b[1;34m4664867\u001b[0;0m na universidade, sendo um total de \u001b[1;34m93.04%\u001b[0;0m.\n",
            "\n",
            "Havia \u001b[1;34m7565627\u001b[0;0m na universidade, sendo um total de \u001b[1;34m68.01%\u001b[0;0m.\n",
            "\n",
            "Havia \u001b[1;34m10874276\u001b[0;0m na universidade, sendo um total de \u001b[1;34m95.49%\u001b[0;0m.\n",
            "\n",
            "Havia \u001b[1;34m3666048\u001b[0;0m na universidade, sendo um total de \u001b[1;34m31.81%\u001b[0;0m.\n",
            "\n",
            "Havia \u001b[1;34m4182494\u001b[0;0m na universidade, sendo um total de \u001b[1;34m34.92%\u001b[0;0m.\n",
            "\n",
            "Havia \u001b[1;34m4594564\u001b[0;0m na universidade, sendo um total de \u001b[1;34m37.37%\u001b[0;0m.\n"
          ]
        }
      ],
      "source": [
        "quantidade_negros_antes_de_2017(dados_2009)\n",
        "negros_universidade_2009 = len(negros_na_universidade)\n",
        "print(\"\")\n",
        "negros_na_universidade_publica = []\n",
        "quantidade_negros_antes_de_2017(dados_2010)\n",
        "negros_universidade_2010 = len(negros_na_universidade)\n",
        "print(\"\")\n",
        "negros_na_universidade_publica = []\n",
        "quantidade_negros_antes_de_2017(dados_2011)\n",
        "negros_universidade_2011 = len(negros_na_universidade)\n",
        "print(\"\")\n",
        "negros_na_universidade_publica = []\n",
        "quantidade_negros_antes_de_2017(dados_2012)\n",
        "negros_universidade_2012 = len(negros_na_universidade)\n",
        "print(\"\")\n",
        "negros_na_universidade_publica = []\n",
        "quantidade_negros_antes_de_2017(dados_2013)\n",
        "negros_universidade_2013 = len(negros_na_universidade)\n",
        "print(\"\")\n",
        "negros_na_universidade_publica = []\n",
        "quantidade_negros_antes_de_2017(dados_2014)\n",
        "negros_universidade_2014 = len(negros_na_universidade)\n",
        "print(\"\")\n",
        "negros_na_universidade_publica = []\n",
        "quantidade_negros_antes_de_2017(dados_2015)\n",
        "negros_universidade_2015 = len(negros_na_universidade)\n",
        "print(\"\")\n",
        "negros_na_universidade_publica = []\n",
        "quantidade_negros_antes_de_2017(dados_2016)\n",
        "negros_universidade_2016 = len(negros_na_universidade)\n",
        "print(\"\")\n",
        "negros_na_universidade_publica = []\n",
        "quantidade_negros(dados_2017)\n",
        "negros_universidade_2017 = len(negros_na_universidade)\n",
        "print(\"\")\n",
        "negros_na_universidade_publica = []\n",
        "quantidade_negros(dados_2018)\n",
        "negros_universidade_2018 = len(negros_na_universidade)\n",
        "print(\"\")\n",
        "negros_na_universidade_publica = []\n",
        "quantidade_negros(dados_2019)\n",
        "negros_universidade_2019 = len(negros_na_universidade)"
      ]
    },
    {
      "cell_type": "code",
      "execution_count": 31,
      "metadata": {},
      "outputs": [
        {
          "output_type": "stream",
          "name": "stdout",
          "text": [
            "No prazo de 2009 até 2019 houveram \u001b[1;34m23317382\u001b[0;0m negros na universidade!\n"
          ]
        }
      ],
      "source": [
        "print(f'No prazo de 2009 até 2019 houveram \\033[1;34m{len(total_negros_na_universidade)}\\033[0;0m negros na universidade!')"
      ]
    },
    {
      "cell_type": "code",
      "execution_count": 33,
      "metadata": {},
      "outputs": [],
      "source": [
        "negros_na_universidade_total = [negros_universidade_2009, negros_universidade_2010, negros_universidade_2011,\n",
        "                                negros_universidade_2012, negros_universidade_2013, negros_universidade_2014,\n",
        "                                negros_universidade_2015, negros_universidade_2016, negros_universidade_2017, \n",
        "                                negros_universidade_2018, negros_universidade_2019]\n",
        "date = [2009, 2010, 2011, 2012, 2013, 2014, 2015, 2016, 2017, 2018, 2019]"
      ]
    },
    {
      "cell_type": "code",
      "execution_count": 34,
      "metadata": {},
      "outputs": [
        {
          "output_type": "display_data",
          "data": {
            "text/plain": "<Figure size 432x288 with 1 Axes>",
            "image/svg+xml": "<?xml version=\"1.0\" encoding=\"utf-8\" standalone=\"no\"?>\n<!DOCTYPE svg PUBLIC \"-//W3C//DTD SVG 1.1//EN\"\n  \"http://www.w3.org/Graphics/SVG/1.1/DTD/svg11.dtd\">\n<!-- Created with matplotlib (https://matplotlib.org/) -->\n<svg height=\"277.314375pt\" version=\"1.1\" viewBox=\"0 0 410.811562 277.314375\" width=\"410.811562pt\" xmlns=\"http://www.w3.org/2000/svg\" xmlns:xlink=\"http://www.w3.org/1999/xlink\">\n <metadata>\n  <rdf:RDF xmlns:cc=\"http://creativecommons.org/ns#\" xmlns:dc=\"http://purl.org/dc/elements/1.1/\" xmlns:rdf=\"http://www.w3.org/1999/02/22-rdf-syntax-ns#\">\n   <cc:Work>\n    <dc:type rdf:resource=\"http://purl.org/dc/dcmitype/StillImage\"/>\n    <dc:date>2020-11-26T23:49:05.060175</dc:date>\n    <dc:format>image/svg+xml</dc:format>\n    <dc:creator>\n     <cc:Agent>\n      <dc:title>Matplotlib v3.3.2, https://matplotlib.org/</dc:title>\n     </cc:Agent>\n    </dc:creator>\n   </cc:Work>\n  </rdf:RDF>\n </metadata>\n <defs>\n  <style type=\"text/css\">*{stroke-linecap:butt;stroke-linejoin:round;}</style>\n </defs>\n <g id=\"figure_1\">\n  <g id=\"patch_1\">\n   <path d=\"M 0 277.314375 \nL 410.811562 277.314375 \nL 410.811562 0 \nL 0 0 \nz\n\" style=\"fill:none;\"/>\n  </g>\n  <g id=\"axes_1\">\n   <g id=\"patch_2\">\n    <path d=\"M 43.78125 239.758125 \nL 378.58125 239.758125 \nL 378.58125 22.318125 \nL 43.78125 22.318125 \nz\n\" style=\"fill:#ffffff;\"/>\n   </g>\n   <g id=\"matplotlib.axis_1\">\n    <g id=\"xtick_1\">\n     <g id=\"line2d_1\">\n      <defs>\n       <path d=\"M 0 0 \nL 0 3.5 \n\" id=\"mb1568231bf\" style=\"stroke:#000000;stroke-width:0.8;\"/>\n      </defs>\n      <g>\n       <use style=\"stroke:#000000;stroke-width:0.8;\" x=\"89.435795\" xlink:href=\"#mb1568231bf\" y=\"239.758125\"/>\n      </g>\n     </g>\n     <g id=\"text_1\">\n      <!-- 2010 -->\n      <g transform=\"translate(76.710795 254.356562)scale(0.1 -0.1)\">\n       <defs>\n        <path d=\"M 19.1875 8.296875 \nL 53.609375 8.296875 \nL 53.609375 0 \nL 7.328125 0 \nL 7.328125 8.296875 \nQ 12.9375 14.109375 22.625 23.890625 \nQ 32.328125 33.6875 34.8125 36.53125 \nQ 39.546875 41.84375 41.421875 45.53125 \nQ 43.3125 49.21875 43.3125 52.78125 \nQ 43.3125 58.59375 39.234375 62.25 \nQ 35.15625 65.921875 28.609375 65.921875 \nQ 23.96875 65.921875 18.8125 64.3125 \nQ 13.671875 62.703125 7.8125 59.421875 \nL 7.8125 69.390625 \nQ 13.765625 71.78125 18.9375 73 \nQ 24.125 74.21875 28.421875 74.21875 \nQ 39.75 74.21875 46.484375 68.546875 \nQ 53.21875 62.890625 53.21875 53.421875 \nQ 53.21875 48.921875 51.53125 44.890625 \nQ 49.859375 40.875 45.40625 35.40625 \nQ 44.1875 33.984375 37.640625 27.21875 \nQ 31.109375 20.453125 19.1875 8.296875 \nz\n\" id=\"DejaVuSans-50\"/>\n        <path d=\"M 31.78125 66.40625 \nQ 24.171875 66.40625 20.328125 58.90625 \nQ 16.5 51.421875 16.5 36.375 \nQ 16.5 21.390625 20.328125 13.890625 \nQ 24.171875 6.390625 31.78125 6.390625 \nQ 39.453125 6.390625 43.28125 13.890625 \nQ 47.125 21.390625 47.125 36.375 \nQ 47.125 51.421875 43.28125 58.90625 \nQ 39.453125 66.40625 31.78125 66.40625 \nz\nM 31.78125 74.21875 \nQ 44.046875 74.21875 50.515625 64.515625 \nQ 56.984375 54.828125 56.984375 36.375 \nQ 56.984375 17.96875 50.515625 8.265625 \nQ 44.046875 -1.421875 31.78125 -1.421875 \nQ 19.53125 -1.421875 13.0625 8.265625 \nQ 6.59375 17.96875 6.59375 36.375 \nQ 6.59375 54.828125 13.0625 64.515625 \nQ 19.53125 74.21875 31.78125 74.21875 \nz\n\" id=\"DejaVuSans-48\"/>\n        <path d=\"M 12.40625 8.296875 \nL 28.515625 8.296875 \nL 28.515625 63.921875 \nL 10.984375 60.40625 \nL 10.984375 69.390625 \nL 28.421875 72.90625 \nL 38.28125 72.90625 \nL 38.28125 8.296875 \nL 54.390625 8.296875 \nL 54.390625 0 \nL 12.40625 0 \nz\n\" id=\"DejaVuSans-49\"/>\n       </defs>\n       <use xlink:href=\"#DejaVuSans-50\"/>\n       <use x=\"63.623047\" xlink:href=\"#DejaVuSans-48\"/>\n       <use x=\"127.246094\" xlink:href=\"#DejaVuSans-49\"/>\n       <use x=\"190.869141\" xlink:href=\"#DejaVuSans-48\"/>\n      </g>\n     </g>\n    </g>\n    <g id=\"xtick_2\">\n     <g id=\"line2d_2\">\n      <g>\n       <use style=\"stroke:#000000;stroke-width:0.8;\" x=\"150.308523\" xlink:href=\"#mb1568231bf\" y=\"239.758125\"/>\n      </g>\n     </g>\n     <g id=\"text_2\">\n      <!-- 2012 -->\n      <g transform=\"translate(137.583523 254.356562)scale(0.1 -0.1)\">\n       <use xlink:href=\"#DejaVuSans-50\"/>\n       <use x=\"63.623047\" xlink:href=\"#DejaVuSans-48\"/>\n       <use x=\"127.246094\" xlink:href=\"#DejaVuSans-49\"/>\n       <use x=\"190.869141\" xlink:href=\"#DejaVuSans-50\"/>\n      </g>\n     </g>\n    </g>\n    <g id=\"xtick_3\">\n     <g id=\"line2d_3\">\n      <g>\n       <use style=\"stroke:#000000;stroke-width:0.8;\" x=\"211.18125\" xlink:href=\"#mb1568231bf\" y=\"239.758125\"/>\n      </g>\n     </g>\n     <g id=\"text_3\">\n      <!-- 2014 -->\n      <g transform=\"translate(198.45625 254.356562)scale(0.1 -0.1)\">\n       <defs>\n        <path d=\"M 37.796875 64.3125 \nL 12.890625 25.390625 \nL 37.796875 25.390625 \nz\nM 35.203125 72.90625 \nL 47.609375 72.90625 \nL 47.609375 25.390625 \nL 58.015625 25.390625 \nL 58.015625 17.1875 \nL 47.609375 17.1875 \nL 47.609375 0 \nL 37.796875 0 \nL 37.796875 17.1875 \nL 4.890625 17.1875 \nL 4.890625 26.703125 \nz\n\" id=\"DejaVuSans-52\"/>\n       </defs>\n       <use xlink:href=\"#DejaVuSans-50\"/>\n       <use x=\"63.623047\" xlink:href=\"#DejaVuSans-48\"/>\n       <use x=\"127.246094\" xlink:href=\"#DejaVuSans-49\"/>\n       <use x=\"190.869141\" xlink:href=\"#DejaVuSans-52\"/>\n      </g>\n     </g>\n    </g>\n    <g id=\"xtick_4\">\n     <g id=\"line2d_4\">\n      <g>\n       <use style=\"stroke:#000000;stroke-width:0.8;\" x=\"272.053977\" xlink:href=\"#mb1568231bf\" y=\"239.758125\"/>\n      </g>\n     </g>\n     <g id=\"text_4\">\n      <!-- 2016 -->\n      <g transform=\"translate(259.328977 254.356562)scale(0.1 -0.1)\">\n       <defs>\n        <path d=\"M 33.015625 40.375 \nQ 26.375 40.375 22.484375 35.828125 \nQ 18.609375 31.296875 18.609375 23.390625 \nQ 18.609375 15.53125 22.484375 10.953125 \nQ 26.375 6.390625 33.015625 6.390625 \nQ 39.65625 6.390625 43.53125 10.953125 \nQ 47.40625 15.53125 47.40625 23.390625 \nQ 47.40625 31.296875 43.53125 35.828125 \nQ 39.65625 40.375 33.015625 40.375 \nz\nM 52.59375 71.296875 \nL 52.59375 62.3125 \nQ 48.875 64.0625 45.09375 64.984375 \nQ 41.3125 65.921875 37.59375 65.921875 \nQ 27.828125 65.921875 22.671875 59.328125 \nQ 17.53125 52.734375 16.796875 39.40625 \nQ 19.671875 43.65625 24.015625 45.921875 \nQ 28.375 48.1875 33.59375 48.1875 \nQ 44.578125 48.1875 50.953125 41.515625 \nQ 57.328125 34.859375 57.328125 23.390625 \nQ 57.328125 12.15625 50.6875 5.359375 \nQ 44.046875 -1.421875 33.015625 -1.421875 \nQ 20.359375 -1.421875 13.671875 8.265625 \nQ 6.984375 17.96875 6.984375 36.375 \nQ 6.984375 53.65625 15.1875 63.9375 \nQ 23.390625 74.21875 37.203125 74.21875 \nQ 40.921875 74.21875 44.703125 73.484375 \nQ 48.484375 72.75 52.59375 71.296875 \nz\n\" id=\"DejaVuSans-54\"/>\n       </defs>\n       <use xlink:href=\"#DejaVuSans-50\"/>\n       <use x=\"63.623047\" xlink:href=\"#DejaVuSans-48\"/>\n       <use x=\"127.246094\" xlink:href=\"#DejaVuSans-49\"/>\n       <use x=\"190.869141\" xlink:href=\"#DejaVuSans-54\"/>\n      </g>\n     </g>\n    </g>\n    <g id=\"xtick_5\">\n     <g id=\"line2d_5\">\n      <g>\n       <use style=\"stroke:#000000;stroke-width:0.8;\" x=\"332.926705\" xlink:href=\"#mb1568231bf\" y=\"239.758125\"/>\n      </g>\n     </g>\n     <g id=\"text_5\">\n      <!-- 2018 -->\n      <g transform=\"translate(320.201705 254.356562)scale(0.1 -0.1)\">\n       <defs>\n        <path d=\"M 31.78125 34.625 \nQ 24.75 34.625 20.71875 30.859375 \nQ 16.703125 27.09375 16.703125 20.515625 \nQ 16.703125 13.921875 20.71875 10.15625 \nQ 24.75 6.390625 31.78125 6.390625 \nQ 38.8125 6.390625 42.859375 10.171875 \nQ 46.921875 13.96875 46.921875 20.515625 \nQ 46.921875 27.09375 42.890625 30.859375 \nQ 38.875 34.625 31.78125 34.625 \nz\nM 21.921875 38.8125 \nQ 15.578125 40.375 12.03125 44.71875 \nQ 8.5 49.078125 8.5 55.328125 \nQ 8.5 64.0625 14.71875 69.140625 \nQ 20.953125 74.21875 31.78125 74.21875 \nQ 42.671875 74.21875 48.875 69.140625 \nQ 55.078125 64.0625 55.078125 55.328125 \nQ 55.078125 49.078125 51.53125 44.71875 \nQ 48 40.375 41.703125 38.8125 \nQ 48.828125 37.15625 52.796875 32.3125 \nQ 56.78125 27.484375 56.78125 20.515625 \nQ 56.78125 9.90625 50.3125 4.234375 \nQ 43.84375 -1.421875 31.78125 -1.421875 \nQ 19.734375 -1.421875 13.25 4.234375 \nQ 6.78125 9.90625 6.78125 20.515625 \nQ 6.78125 27.484375 10.78125 32.3125 \nQ 14.796875 37.15625 21.921875 38.8125 \nz\nM 18.3125 54.390625 \nQ 18.3125 48.734375 21.84375 45.5625 \nQ 25.390625 42.390625 31.78125 42.390625 \nQ 38.140625 42.390625 41.71875 45.5625 \nQ 45.3125 48.734375 45.3125 54.390625 \nQ 45.3125 60.0625 41.71875 63.234375 \nQ 38.140625 66.40625 31.78125 66.40625 \nQ 25.390625 66.40625 21.84375 63.234375 \nQ 18.3125 60.0625 18.3125 54.390625 \nz\n\" id=\"DejaVuSans-56\"/>\n       </defs>\n       <use xlink:href=\"#DejaVuSans-50\"/>\n       <use x=\"63.623047\" xlink:href=\"#DejaVuSans-48\"/>\n       <use x=\"127.246094\" xlink:href=\"#DejaVuSans-49\"/>\n       <use x=\"190.869141\" xlink:href=\"#DejaVuSans-56\"/>\n      </g>\n     </g>\n    </g>\n    <g id=\"text_6\">\n     <!-- Anos -->\n     <g transform=\"translate(198.928125 268.034687)scale(0.1 -0.1)\">\n      <defs>\n       <path d=\"M 34.1875 63.1875 \nL 20.796875 26.90625 \nL 47.609375 26.90625 \nz\nM 28.609375 72.90625 \nL 39.796875 72.90625 \nL 67.578125 0 \nL 57.328125 0 \nL 50.6875 18.703125 \nL 17.828125 18.703125 \nL 11.1875 0 \nL 0.78125 0 \nz\n\" id=\"DejaVuSans-65\"/>\n       <path d=\"M 54.890625 33.015625 \nL 54.890625 0 \nL 45.90625 0 \nL 45.90625 32.71875 \nQ 45.90625 40.484375 42.875 44.328125 \nQ 39.84375 48.1875 33.796875 48.1875 \nQ 26.515625 48.1875 22.3125 43.546875 \nQ 18.109375 38.921875 18.109375 30.90625 \nL 18.109375 0 \nL 9.078125 0 \nL 9.078125 54.6875 \nL 18.109375 54.6875 \nL 18.109375 46.1875 \nQ 21.34375 51.125 25.703125 53.5625 \nQ 30.078125 56 35.796875 56 \nQ 45.21875 56 50.046875 50.171875 \nQ 54.890625 44.34375 54.890625 33.015625 \nz\n\" id=\"DejaVuSans-110\"/>\n       <path d=\"M 30.609375 48.390625 \nQ 23.390625 48.390625 19.1875 42.75 \nQ 14.984375 37.109375 14.984375 27.296875 \nQ 14.984375 17.484375 19.15625 11.84375 \nQ 23.34375 6.203125 30.609375 6.203125 \nQ 37.796875 6.203125 41.984375 11.859375 \nQ 46.1875 17.53125 46.1875 27.296875 \nQ 46.1875 37.015625 41.984375 42.703125 \nQ 37.796875 48.390625 30.609375 48.390625 \nz\nM 30.609375 56 \nQ 42.328125 56 49.015625 48.375 \nQ 55.71875 40.765625 55.71875 27.296875 \nQ 55.71875 13.875 49.015625 6.21875 \nQ 42.328125 -1.421875 30.609375 -1.421875 \nQ 18.84375 -1.421875 12.171875 6.21875 \nQ 5.515625 13.875 5.515625 27.296875 \nQ 5.515625 40.765625 12.171875 48.375 \nQ 18.84375 56 30.609375 56 \nz\n\" id=\"DejaVuSans-111\"/>\n       <path d=\"M 44.28125 53.078125 \nL 44.28125 44.578125 \nQ 40.484375 46.53125 36.375 47.5 \nQ 32.28125 48.484375 27.875 48.484375 \nQ 21.1875 48.484375 17.84375 46.4375 \nQ 14.5 44.390625 14.5 40.28125 \nQ 14.5 37.15625 16.890625 35.375 \nQ 19.28125 33.59375 26.515625 31.984375 \nL 29.59375 31.296875 \nQ 39.15625 29.25 43.1875 25.515625 \nQ 47.21875 21.78125 47.21875 15.09375 \nQ 47.21875 7.46875 41.1875 3.015625 \nQ 35.15625 -1.421875 24.609375 -1.421875 \nQ 20.21875 -1.421875 15.453125 -0.5625 \nQ 10.6875 0.296875 5.421875 2 \nL 5.421875 11.28125 \nQ 10.40625 8.6875 15.234375 7.390625 \nQ 20.0625 6.109375 24.8125 6.109375 \nQ 31.15625 6.109375 34.5625 8.28125 \nQ 37.984375 10.453125 37.984375 14.40625 \nQ 37.984375 18.0625 35.515625 20.015625 \nQ 33.0625 21.96875 24.703125 23.78125 \nL 21.578125 24.515625 \nQ 13.234375 26.265625 9.515625 29.90625 \nQ 5.8125 33.546875 5.8125 39.890625 \nQ 5.8125 47.609375 11.28125 51.796875 \nQ 16.75 56 26.8125 56 \nQ 31.78125 56 36.171875 55.265625 \nQ 40.578125 54.546875 44.28125 53.078125 \nz\n\" id=\"DejaVuSans-115\"/>\n      </defs>\n      <use xlink:href=\"#DejaVuSans-65\"/>\n      <use x=\"68.408203\" xlink:href=\"#DejaVuSans-110\"/>\n      <use x=\"131.787109\" xlink:href=\"#DejaVuSans-111\"/>\n      <use x=\"192.96875\" xlink:href=\"#DejaVuSans-115\"/>\n     </g>\n    </g>\n   </g>\n   <g id=\"matplotlib.axis_2\">\n    <g id=\"ytick_1\">\n     <g id=\"line2d_6\">\n      <defs>\n       <path d=\"M 0 0 \nL -3.5 0 \n\" id=\"m5fc83d54fc\" style=\"stroke:#000000;stroke-width:0.8;\"/>\n      </defs>\n      <g>\n       <use style=\"stroke:#000000;stroke-width:0.8;\" x=\"43.78125\" xlink:href=\"#m5fc83d54fc\" y=\"202.613045\"/>\n      </g>\n     </g>\n     <g id=\"text_7\">\n      <!-- 0.2 -->\n      <g transform=\"translate(20.878125 206.412264)scale(0.1 -0.1)\">\n       <defs>\n        <path d=\"M 10.6875 12.40625 \nL 21 12.40625 \nL 21 0 \nL 10.6875 0 \nz\n\" id=\"DejaVuSans-46\"/>\n       </defs>\n       <use xlink:href=\"#DejaVuSans-48\"/>\n       <use x=\"63.623047\" xlink:href=\"#DejaVuSans-46\"/>\n       <use x=\"95.410156\" xlink:href=\"#DejaVuSans-50\"/>\n      </g>\n     </g>\n    </g>\n    <g id=\"ytick_2\">\n     <g id=\"line2d_7\">\n      <g>\n       <use style=\"stroke:#000000;stroke-width:0.8;\" x=\"43.78125\" xlink:href=\"#m5fc83d54fc\" y=\"164.207369\"/>\n      </g>\n     </g>\n     <g id=\"text_8\">\n      <!-- 0.4 -->\n      <g transform=\"translate(20.878125 168.006588)scale(0.1 -0.1)\">\n       <use xlink:href=\"#DejaVuSans-48\"/>\n       <use x=\"63.623047\" xlink:href=\"#DejaVuSans-46\"/>\n       <use x=\"95.410156\" xlink:href=\"#DejaVuSans-52\"/>\n      </g>\n     </g>\n    </g>\n    <g id=\"ytick_3\">\n     <g id=\"line2d_8\">\n      <g>\n       <use style=\"stroke:#000000;stroke-width:0.8;\" x=\"43.78125\" xlink:href=\"#m5fc83d54fc\" y=\"125.801694\"/>\n      </g>\n     </g>\n     <g id=\"text_9\">\n      <!-- 0.6 -->\n      <g transform=\"translate(20.878125 129.600912)scale(0.1 -0.1)\">\n       <use xlink:href=\"#DejaVuSans-48\"/>\n       <use x=\"63.623047\" xlink:href=\"#DejaVuSans-46\"/>\n       <use x=\"95.410156\" xlink:href=\"#DejaVuSans-54\"/>\n      </g>\n     </g>\n    </g>\n    <g id=\"ytick_4\">\n     <g id=\"line2d_9\">\n      <g>\n       <use style=\"stroke:#000000;stroke-width:0.8;\" x=\"43.78125\" xlink:href=\"#m5fc83d54fc\" y=\"87.396018\"/>\n      </g>\n     </g>\n     <g id=\"text_10\">\n      <!-- 0.8 -->\n      <g transform=\"translate(20.878125 91.195236)scale(0.1 -0.1)\">\n       <use xlink:href=\"#DejaVuSans-48\"/>\n       <use x=\"63.623047\" xlink:href=\"#DejaVuSans-46\"/>\n       <use x=\"95.410156\" xlink:href=\"#DejaVuSans-56\"/>\n      </g>\n     </g>\n    </g>\n    <g id=\"ytick_5\">\n     <g id=\"line2d_10\">\n      <g>\n       <use style=\"stroke:#000000;stroke-width:0.8;\" x=\"43.78125\" xlink:href=\"#m5fc83d54fc\" y=\"48.990342\"/>\n      </g>\n     </g>\n     <g id=\"text_11\">\n      <!-- 1.0 -->\n      <g transform=\"translate(20.878125 52.78956)scale(0.1 -0.1)\">\n       <use xlink:href=\"#DejaVuSans-49\"/>\n       <use x=\"63.623047\" xlink:href=\"#DejaVuSans-46\"/>\n       <use x=\"95.410156\" xlink:href=\"#DejaVuSans-48\"/>\n      </g>\n     </g>\n    </g>\n    <g id=\"text_12\">\n     <!-- Pessoas negras -->\n     <g transform=\"translate(14.798438 169.618594)rotate(-90)scale(0.1 -0.1)\">\n      <defs>\n       <path d=\"M 19.671875 64.796875 \nL 19.671875 37.40625 \nL 32.078125 37.40625 \nQ 38.96875 37.40625 42.71875 40.96875 \nQ 46.484375 44.53125 46.484375 51.125 \nQ 46.484375 57.671875 42.71875 61.234375 \nQ 38.96875 64.796875 32.078125 64.796875 \nz\nM 9.8125 72.90625 \nL 32.078125 72.90625 \nQ 44.34375 72.90625 50.609375 67.359375 \nQ 56.890625 61.8125 56.890625 51.125 \nQ 56.890625 40.328125 50.609375 34.8125 \nQ 44.34375 29.296875 32.078125 29.296875 \nL 19.671875 29.296875 \nL 19.671875 0 \nL 9.8125 0 \nz\n\" id=\"DejaVuSans-80\"/>\n       <path d=\"M 56.203125 29.59375 \nL 56.203125 25.203125 \nL 14.890625 25.203125 \nQ 15.484375 15.921875 20.484375 11.0625 \nQ 25.484375 6.203125 34.421875 6.203125 \nQ 39.59375 6.203125 44.453125 7.46875 \nQ 49.3125 8.734375 54.109375 11.28125 \nL 54.109375 2.78125 \nQ 49.265625 0.734375 44.1875 -0.34375 \nQ 39.109375 -1.421875 33.890625 -1.421875 \nQ 20.796875 -1.421875 13.15625 6.1875 \nQ 5.515625 13.8125 5.515625 26.8125 \nQ 5.515625 40.234375 12.765625 48.109375 \nQ 20.015625 56 32.328125 56 \nQ 43.359375 56 49.78125 48.890625 \nQ 56.203125 41.796875 56.203125 29.59375 \nz\nM 47.21875 32.234375 \nQ 47.125 39.59375 43.09375 43.984375 \nQ 39.0625 48.390625 32.421875 48.390625 \nQ 24.90625 48.390625 20.390625 44.140625 \nQ 15.875 39.890625 15.1875 32.171875 \nz\n\" id=\"DejaVuSans-101\"/>\n       <path d=\"M 34.28125 27.484375 \nQ 23.390625 27.484375 19.1875 25 \nQ 14.984375 22.515625 14.984375 16.5 \nQ 14.984375 11.71875 18.140625 8.90625 \nQ 21.296875 6.109375 26.703125 6.109375 \nQ 34.1875 6.109375 38.703125 11.40625 \nQ 43.21875 16.703125 43.21875 25.484375 \nL 43.21875 27.484375 \nz\nM 52.203125 31.203125 \nL 52.203125 0 \nL 43.21875 0 \nL 43.21875 8.296875 \nQ 40.140625 3.328125 35.546875 0.953125 \nQ 30.953125 -1.421875 24.3125 -1.421875 \nQ 15.921875 -1.421875 10.953125 3.296875 \nQ 6 8.015625 6 15.921875 \nQ 6 25.140625 12.171875 29.828125 \nQ 18.359375 34.515625 30.609375 34.515625 \nL 43.21875 34.515625 \nL 43.21875 35.40625 \nQ 43.21875 41.609375 39.140625 45 \nQ 35.0625 48.390625 27.6875 48.390625 \nQ 23 48.390625 18.546875 47.265625 \nQ 14.109375 46.140625 10.015625 43.890625 \nL 10.015625 52.203125 \nQ 14.9375 54.109375 19.578125 55.046875 \nQ 24.21875 56 28.609375 56 \nQ 40.484375 56 46.34375 49.84375 \nQ 52.203125 43.703125 52.203125 31.203125 \nz\n\" id=\"DejaVuSans-97\"/>\n       <path id=\"DejaVuSans-32\"/>\n       <path d=\"M 45.40625 27.984375 \nQ 45.40625 37.75 41.375 43.109375 \nQ 37.359375 48.484375 30.078125 48.484375 \nQ 22.859375 48.484375 18.828125 43.109375 \nQ 14.796875 37.75 14.796875 27.984375 \nQ 14.796875 18.265625 18.828125 12.890625 \nQ 22.859375 7.515625 30.078125 7.515625 \nQ 37.359375 7.515625 41.375 12.890625 \nQ 45.40625 18.265625 45.40625 27.984375 \nz\nM 54.390625 6.78125 \nQ 54.390625 -7.171875 48.1875 -13.984375 \nQ 42 -20.796875 29.203125 -20.796875 \nQ 24.46875 -20.796875 20.265625 -20.09375 \nQ 16.0625 -19.390625 12.109375 -17.921875 \nL 12.109375 -9.1875 \nQ 16.0625 -11.328125 19.921875 -12.34375 \nQ 23.78125 -13.375 27.78125 -13.375 \nQ 36.625 -13.375 41.015625 -8.765625 \nQ 45.40625 -4.15625 45.40625 5.171875 \nL 45.40625 9.625 \nQ 42.625 4.78125 38.28125 2.390625 \nQ 33.9375 0 27.875 0 \nQ 17.828125 0 11.671875 7.65625 \nQ 5.515625 15.328125 5.515625 27.984375 \nQ 5.515625 40.671875 11.671875 48.328125 \nQ 17.828125 56 27.875 56 \nQ 33.9375 56 38.28125 53.609375 \nQ 42.625 51.21875 45.40625 46.390625 \nL 45.40625 54.6875 \nL 54.390625 54.6875 \nz\n\" id=\"DejaVuSans-103\"/>\n       <path d=\"M 41.109375 46.296875 \nQ 39.59375 47.171875 37.8125 47.578125 \nQ 36.03125 48 33.890625 48 \nQ 26.265625 48 22.1875 43.046875 \nQ 18.109375 38.09375 18.109375 28.8125 \nL 18.109375 0 \nL 9.078125 0 \nL 9.078125 54.6875 \nL 18.109375 54.6875 \nL 18.109375 46.1875 \nQ 20.953125 51.171875 25.484375 53.578125 \nQ 30.03125 56 36.53125 56 \nQ 37.453125 56 38.578125 55.875 \nQ 39.703125 55.765625 41.0625 55.515625 \nz\n\" id=\"DejaVuSans-114\"/>\n      </defs>\n      <use xlink:href=\"#DejaVuSans-80\"/>\n      <use x=\"56.677734\" xlink:href=\"#DejaVuSans-101\"/>\n      <use x=\"118.201172\" xlink:href=\"#DejaVuSans-115\"/>\n      <use x=\"170.300781\" xlink:href=\"#DejaVuSans-115\"/>\n      <use x=\"222.400391\" xlink:href=\"#DejaVuSans-111\"/>\n      <use x=\"283.582031\" xlink:href=\"#DejaVuSans-97\"/>\n      <use x=\"344.861328\" xlink:href=\"#DejaVuSans-115\"/>\n      <use x=\"396.960938\" xlink:href=\"#DejaVuSans-32\"/>\n      <use x=\"428.748047\" xlink:href=\"#DejaVuSans-110\"/>\n      <use x=\"492.126953\" xlink:href=\"#DejaVuSans-101\"/>\n      <use x=\"553.650391\" xlink:href=\"#DejaVuSans-103\"/>\n      <use x=\"617.126953\" xlink:href=\"#DejaVuSans-114\"/>\n      <use x=\"658.240234\" xlink:href=\"#DejaVuSans-97\"/>\n      <use x=\"719.519531\" xlink:href=\"#DejaVuSans-115\"/>\n     </g>\n    </g>\n    <g id=\"text_13\">\n     <!-- 1e7 -->\n     <g transform=\"translate(43.78125 19.318125)scale(0.1 -0.1)\">\n      <defs>\n       <path d=\"M 8.203125 72.90625 \nL 55.078125 72.90625 \nL 55.078125 68.703125 \nL 28.609375 0 \nL 18.3125 0 \nL 43.21875 64.59375 \nL 8.203125 64.59375 \nz\n\" id=\"DejaVuSans-55\"/>\n      </defs>\n      <use xlink:href=\"#DejaVuSans-49\"/>\n      <use x=\"63.623047\" xlink:href=\"#DejaVuSans-101\"/>\n      <use x=\"125.146484\" xlink:href=\"#DejaVuSans-55\"/>\n     </g>\n    </g>\n   </g>\n   <g id=\"line2d_11\">\n    <path clip-path=\"url(#p66dc5c4b71)\" d=\"M 58.999432 229.874489 \nL 89.435795 214.187748 \nL 119.872159 196.907344 \nL 150.308523 181.547167 \nL 180.744886 170.086606 \nL 211.18125 151.440036 \nL 241.617614 95.737212 \nL 272.053977 32.201761 \nL 302.490341 32.201761 \nL 332.926705 32.201761 \nL 363.363068 32.201761 \n\" style=\"fill:none;stroke:#1f77b4;stroke-linecap:square;stroke-width:1.5;\"/>\n   </g>\n   <g id=\"patch_3\">\n    <path d=\"M 43.78125 239.758125 \nL 43.78125 22.318125 \n\" style=\"fill:none;stroke:#000000;stroke-linecap:square;stroke-linejoin:miter;stroke-width:0.8;\"/>\n   </g>\n   <g id=\"patch_4\">\n    <path d=\"M 378.58125 239.758125 \nL 378.58125 22.318125 \n\" style=\"fill:none;stroke:#000000;stroke-linecap:square;stroke-linejoin:miter;stroke-width:0.8;\"/>\n   </g>\n   <g id=\"patch_5\">\n    <path d=\"M 43.78125 239.758125 \nL 378.58125 239.758125 \n\" style=\"fill:none;stroke:#000000;stroke-linecap:square;stroke-linejoin:miter;stroke-width:0.8;\"/>\n   </g>\n   <g id=\"patch_6\">\n    <path d=\"M 43.78125 22.318125 \nL 378.58125 22.318125 \n\" style=\"fill:none;stroke:#000000;stroke-linecap:square;stroke-linejoin:miter;stroke-width:0.8;\"/>\n   </g>\n   <g id=\"text_14\">\n    <!-- Quantidade de pessoas negras na universidade de 2009 a 2019 -->\n    <g transform=\"translate(18.750938 16.318125)scale(0.12 -0.12)\">\n     <defs>\n      <path d=\"M 39.40625 66.21875 \nQ 28.65625 66.21875 22.328125 58.203125 \nQ 16.015625 50.203125 16.015625 36.375 \nQ 16.015625 22.609375 22.328125 14.59375 \nQ 28.65625 6.59375 39.40625 6.59375 \nQ 50.140625 6.59375 56.421875 14.59375 \nQ 62.703125 22.609375 62.703125 36.375 \nQ 62.703125 50.203125 56.421875 58.203125 \nQ 50.140625 66.21875 39.40625 66.21875 \nz\nM 53.21875 1.3125 \nL 66.21875 -12.890625 \nL 54.296875 -12.890625 \nL 43.5 -1.21875 \nQ 41.890625 -1.3125 41.03125 -1.359375 \nQ 40.1875 -1.421875 39.40625 -1.421875 \nQ 24.03125 -1.421875 14.8125 8.859375 \nQ 5.609375 19.140625 5.609375 36.375 \nQ 5.609375 53.65625 14.8125 63.9375 \nQ 24.03125 74.21875 39.40625 74.21875 \nQ 54.734375 74.21875 63.90625 63.9375 \nQ 73.09375 53.65625 73.09375 36.375 \nQ 73.09375 23.6875 67.984375 14.640625 \nQ 62.890625 5.609375 53.21875 1.3125 \nz\n\" id=\"DejaVuSans-81\"/>\n      <path d=\"M 8.5 21.578125 \nL 8.5 54.6875 \nL 17.484375 54.6875 \nL 17.484375 21.921875 \nQ 17.484375 14.15625 20.5 10.265625 \nQ 23.53125 6.390625 29.59375 6.390625 \nQ 36.859375 6.390625 41.078125 11.03125 \nQ 45.3125 15.671875 45.3125 23.6875 \nL 45.3125 54.6875 \nL 54.296875 54.6875 \nL 54.296875 0 \nL 45.3125 0 \nL 45.3125 8.40625 \nQ 42.046875 3.421875 37.71875 1 \nQ 33.40625 -1.421875 27.6875 -1.421875 \nQ 18.265625 -1.421875 13.375 4.4375 \nQ 8.5 10.296875 8.5 21.578125 \nz\nM 31.109375 56 \nz\n\" id=\"DejaVuSans-117\"/>\n      <path d=\"M 18.3125 70.21875 \nL 18.3125 54.6875 \nL 36.8125 54.6875 \nL 36.8125 47.703125 \nL 18.3125 47.703125 \nL 18.3125 18.015625 \nQ 18.3125 11.328125 20.140625 9.421875 \nQ 21.96875 7.515625 27.59375 7.515625 \nL 36.8125 7.515625 \nL 36.8125 0 \nL 27.59375 0 \nQ 17.1875 0 13.234375 3.875 \nQ 9.28125 7.765625 9.28125 18.015625 \nL 9.28125 47.703125 \nL 2.6875 47.703125 \nL 2.6875 54.6875 \nL 9.28125 54.6875 \nL 9.28125 70.21875 \nz\n\" id=\"DejaVuSans-116\"/>\n      <path d=\"M 9.421875 54.6875 \nL 18.40625 54.6875 \nL 18.40625 0 \nL 9.421875 0 \nz\nM 9.421875 75.984375 \nL 18.40625 75.984375 \nL 18.40625 64.59375 \nL 9.421875 64.59375 \nz\n\" id=\"DejaVuSans-105\"/>\n      <path d=\"M 45.40625 46.390625 \nL 45.40625 75.984375 \nL 54.390625 75.984375 \nL 54.390625 0 \nL 45.40625 0 \nL 45.40625 8.203125 \nQ 42.578125 3.328125 38.25 0.953125 \nQ 33.9375 -1.421875 27.875 -1.421875 \nQ 17.96875 -1.421875 11.734375 6.484375 \nQ 5.515625 14.40625 5.515625 27.296875 \nQ 5.515625 40.1875 11.734375 48.09375 \nQ 17.96875 56 27.875 56 \nQ 33.9375 56 38.25 53.625 \nQ 42.578125 51.265625 45.40625 46.390625 \nz\nM 14.796875 27.296875 \nQ 14.796875 17.390625 18.875 11.75 \nQ 22.953125 6.109375 30.078125 6.109375 \nQ 37.203125 6.109375 41.296875 11.75 \nQ 45.40625 17.390625 45.40625 27.296875 \nQ 45.40625 37.203125 41.296875 42.84375 \nQ 37.203125 48.484375 30.078125 48.484375 \nQ 22.953125 48.484375 18.875 42.84375 \nQ 14.796875 37.203125 14.796875 27.296875 \nz\n\" id=\"DejaVuSans-100\"/>\n      <path d=\"M 18.109375 8.203125 \nL 18.109375 -20.796875 \nL 9.078125 -20.796875 \nL 9.078125 54.6875 \nL 18.109375 54.6875 \nL 18.109375 46.390625 \nQ 20.953125 51.265625 25.265625 53.625 \nQ 29.59375 56 35.59375 56 \nQ 45.5625 56 51.78125 48.09375 \nQ 58.015625 40.1875 58.015625 27.296875 \nQ 58.015625 14.40625 51.78125 6.484375 \nQ 45.5625 -1.421875 35.59375 -1.421875 \nQ 29.59375 -1.421875 25.265625 0.953125 \nQ 20.953125 3.328125 18.109375 8.203125 \nz\nM 48.6875 27.296875 \nQ 48.6875 37.203125 44.609375 42.84375 \nQ 40.53125 48.484375 33.40625 48.484375 \nQ 26.265625 48.484375 22.1875 42.84375 \nQ 18.109375 37.203125 18.109375 27.296875 \nQ 18.109375 17.390625 22.1875 11.75 \nQ 26.265625 6.109375 33.40625 6.109375 \nQ 40.53125 6.109375 44.609375 11.75 \nQ 48.6875 17.390625 48.6875 27.296875 \nz\n\" id=\"DejaVuSans-112\"/>\n      <path d=\"M 2.984375 54.6875 \nL 12.5 54.6875 \nL 29.59375 8.796875 \nL 46.6875 54.6875 \nL 56.203125 54.6875 \nL 35.6875 0 \nL 23.484375 0 \nz\n\" id=\"DejaVuSans-118\"/>\n      <path d=\"M 10.984375 1.515625 \nL 10.984375 10.5 \nQ 14.703125 8.734375 18.5 7.8125 \nQ 22.3125 6.890625 25.984375 6.890625 \nQ 35.75 6.890625 40.890625 13.453125 \nQ 46.046875 20.015625 46.78125 33.40625 \nQ 43.953125 29.203125 39.59375 26.953125 \nQ 35.25 24.703125 29.984375 24.703125 \nQ 19.046875 24.703125 12.671875 31.3125 \nQ 6.296875 37.9375 6.296875 49.421875 \nQ 6.296875 60.640625 12.9375 67.421875 \nQ 19.578125 74.21875 30.609375 74.21875 \nQ 43.265625 74.21875 49.921875 64.515625 \nQ 56.59375 54.828125 56.59375 36.375 \nQ 56.59375 19.140625 48.40625 8.859375 \nQ 40.234375 -1.421875 26.421875 -1.421875 \nQ 22.703125 -1.421875 18.890625 -0.6875 \nQ 15.09375 0.046875 10.984375 1.515625 \nz\nM 30.609375 32.421875 \nQ 37.25 32.421875 41.125 36.953125 \nQ 45.015625 41.5 45.015625 49.421875 \nQ 45.015625 57.28125 41.125 61.84375 \nQ 37.25 66.40625 30.609375 66.40625 \nQ 23.96875 66.40625 20.09375 61.84375 \nQ 16.21875 57.28125 16.21875 49.421875 \nQ 16.21875 41.5 20.09375 36.953125 \nQ 23.96875 32.421875 30.609375 32.421875 \nz\n\" id=\"DejaVuSans-57\"/>\n     </defs>\n     <use xlink:href=\"#DejaVuSans-81\"/>\n     <use x=\"78.710938\" xlink:href=\"#DejaVuSans-117\"/>\n     <use x=\"142.089844\" xlink:href=\"#DejaVuSans-97\"/>\n     <use x=\"203.369141\" xlink:href=\"#DejaVuSans-110\"/>\n     <use x=\"266.748047\" xlink:href=\"#DejaVuSans-116\"/>\n     <use x=\"305.957031\" xlink:href=\"#DejaVuSans-105\"/>\n     <use x=\"333.740234\" xlink:href=\"#DejaVuSans-100\"/>\n     <use x=\"397.216797\" xlink:href=\"#DejaVuSans-97\"/>\n     <use x=\"458.496094\" xlink:href=\"#DejaVuSans-100\"/>\n     <use x=\"521.972656\" xlink:href=\"#DejaVuSans-101\"/>\n     <use x=\"583.496094\" xlink:href=\"#DejaVuSans-32\"/>\n     <use x=\"615.283203\" xlink:href=\"#DejaVuSans-100\"/>\n     <use x=\"678.759766\" xlink:href=\"#DejaVuSans-101\"/>\n     <use x=\"740.283203\" xlink:href=\"#DejaVuSans-32\"/>\n     <use x=\"772.070312\" xlink:href=\"#DejaVuSans-112\"/>\n     <use x=\"835.546875\" xlink:href=\"#DejaVuSans-101\"/>\n     <use x=\"897.070312\" xlink:href=\"#DejaVuSans-115\"/>\n     <use x=\"949.169922\" xlink:href=\"#DejaVuSans-115\"/>\n     <use x=\"1001.269531\" xlink:href=\"#DejaVuSans-111\"/>\n     <use x=\"1062.451172\" xlink:href=\"#DejaVuSans-97\"/>\n     <use x=\"1123.730469\" xlink:href=\"#DejaVuSans-115\"/>\n     <use x=\"1175.830078\" xlink:href=\"#DejaVuSans-32\"/>\n     <use x=\"1207.617188\" xlink:href=\"#DejaVuSans-110\"/>\n     <use x=\"1270.996094\" xlink:href=\"#DejaVuSans-101\"/>\n     <use x=\"1332.519531\" xlink:href=\"#DejaVuSans-103\"/>\n     <use x=\"1395.996094\" xlink:href=\"#DejaVuSans-114\"/>\n     <use x=\"1437.109375\" xlink:href=\"#DejaVuSans-97\"/>\n     <use x=\"1498.388672\" xlink:href=\"#DejaVuSans-115\"/>\n     <use x=\"1550.488281\" xlink:href=\"#DejaVuSans-32\"/>\n     <use x=\"1582.275391\" xlink:href=\"#DejaVuSans-110\"/>\n     <use x=\"1645.654297\" xlink:href=\"#DejaVuSans-97\"/>\n     <use x=\"1706.933594\" xlink:href=\"#DejaVuSans-32\"/>\n     <use x=\"1738.720703\" xlink:href=\"#DejaVuSans-117\"/>\n     <use x=\"1802.099609\" xlink:href=\"#DejaVuSans-110\"/>\n     <use x=\"1865.478516\" xlink:href=\"#DejaVuSans-105\"/>\n     <use x=\"1893.261719\" xlink:href=\"#DejaVuSans-118\"/>\n     <use x=\"1952.441406\" xlink:href=\"#DejaVuSans-101\"/>\n     <use x=\"2013.964844\" xlink:href=\"#DejaVuSans-114\"/>\n     <use x=\"2055.078125\" xlink:href=\"#DejaVuSans-115\"/>\n     <use x=\"2107.177734\" xlink:href=\"#DejaVuSans-105\"/>\n     <use x=\"2134.960938\" xlink:href=\"#DejaVuSans-100\"/>\n     <use x=\"2198.4375\" xlink:href=\"#DejaVuSans-97\"/>\n     <use x=\"2259.716797\" xlink:href=\"#DejaVuSans-100\"/>\n     <use x=\"2323.193359\" xlink:href=\"#DejaVuSans-101\"/>\n     <use x=\"2384.716797\" xlink:href=\"#DejaVuSans-32\"/>\n     <use x=\"2416.503906\" xlink:href=\"#DejaVuSans-100\"/>\n     <use x=\"2479.980469\" xlink:href=\"#DejaVuSans-101\"/>\n     <use x=\"2541.503906\" xlink:href=\"#DejaVuSans-32\"/>\n     <use x=\"2573.291016\" xlink:href=\"#DejaVuSans-50\"/>\n     <use x=\"2636.914062\" xlink:href=\"#DejaVuSans-48\"/>\n     <use x=\"2700.537109\" xlink:href=\"#DejaVuSans-48\"/>\n     <use x=\"2764.160156\" xlink:href=\"#DejaVuSans-57\"/>\n     <use x=\"2827.783203\" xlink:href=\"#DejaVuSans-32\"/>\n     <use x=\"2859.570312\" xlink:href=\"#DejaVuSans-97\"/>\n     <use x=\"2920.849609\" xlink:href=\"#DejaVuSans-32\"/>\n     <use x=\"2952.636719\" xlink:href=\"#DejaVuSans-50\"/>\n     <use x=\"3016.259766\" xlink:href=\"#DejaVuSans-48\"/>\n     <use x=\"3079.882812\" xlink:href=\"#DejaVuSans-49\"/>\n     <use x=\"3143.505859\" xlink:href=\"#DejaVuSans-57\"/>\n    </g>\n   </g>\n  </g>\n </g>\n <defs>\n  <clipPath id=\"p66dc5c4b71\">\n   <rect height=\"217.44\" width=\"334.8\" x=\"43.78125\" y=\"22.318125\"/>\n  </clipPath>\n </defs>\n</svg>\n",
            "image/png": "[encoded data removed]"
          },
          "metadata": {
            "needs_background": "light"
          }
        }
      ],
      "source": [
        "plt.plot(date, negros_na_universidade_total)\n",
        "plt.title('Quantidade de pessoas negras na universidade de 2009 a 2019')\n",
        "plt.ylabel('Pessoas negras')\n",
        "plt.xlabel('Anos')\n",
        "plt.show()"
      ]
    },
    {
      "cell_type": "code",
      "execution_count": 35,
      "metadata": {},
      "outputs": [],
      "source": [
        "total_negros_na_universidade_publica = []\n",
        "negros_na_universidade_publica = []\n",
        "def quantidade_negros_publica_antes_de_2017(dados_ano):\n",
        "    for dados_publica in dados_ano[\"CO_CATEGORIA_ADMINISTRATIVA\"]:\n",
        "        if dados_publica == 1 | dados_publica == 2 | dados_publica == 3:\n",
        "            negros_na_universidade_publica.append(dados_publica)\n",
        "            total_negros_na_universidade_publica.append(dados_publica)\n",
        "    print(f'Havia \\033[1;34m{len(negros_na_universidade_publica)}\\033[0;0m na universidade pública (Federal, Estadual ou Municipal), sendo um total de \\033[1;34m{(len(negros_na_universidade_publica)/dados_ano[\"CO_CATEGORIA_ADMINISTRATIVA\"].shape[0]*100):.2f}%\\033[0;0m.')\n",
        "\n",
        "def quantidade_negros_publica(dados_ano):\n",
        "    negros_na_universidade_publica = []\n",
        "    for dados_publica in dados_ano[\"TP_CATEGORIA_ADMINISTRATIVA\"]:\n",
        "        if dados_publica == 1 | dados_publica == 2 | dados_publica == 3:\n",
        "            negros_na_universidade_publica.append(dados_publica)\n",
        "            total_negros_na_universidade_publica.append(dados_publica)\n",
        "    print(f'Havia \\033[1;34m{len(negros_na_universidade_publica)}\\033[0;0m na universidade pública (Federal, Estadual ou Municipal), sendo um total de \\033[1;34m{(len(negros_na_universidade_publica)/dados_ano[\"TP_CATEGORIA_ADMINISTRATIVA\"].shape[0]*100):.2f}%\\033[0;0m.')"
      ]
    },
    {
      "cell_type": "code",
      "execution_count": 42,
      "metadata": {},
      "outputs": [
        {
          "output_type": "stream",
          "name": "stdout",
          "text": [
            "Havia \u001b[1;34m131744\u001b[0;0m na universidade pública (Federal, Estadual ou Municipal), sendo um total de \u001b[1;34m1.90%\u001b[0;0m.\n",
            "\n",
            "Havia \u001b[1;34m128034\u001b[0;0m na universidade pública (Federal, Estadual ou Municipal), sendo um total de \u001b[1;34m1.55%\u001b[0;0m.\n",
            "\n",
            "Havia \u001b[1;34m137528\u001b[0;0m na universidade pública (Federal, Estadual ou Municipal), sendo um total de \u001b[1;34m1.71%\u001b[0;0m.\n",
            "\n",
            "Havia \u001b[1;34m49092\u001b[0;0m na universidade pública (Federal, Estadual ou Municipal), sendo um total de \u001b[1;34m0.78%\u001b[0;0m.\n",
            "\n",
            "Havia \u001b[1;34m16505\u001b[0;0m na universidade pública (Federal, Estadual ou Municipal), sendo um total de \u001b[1;34m0.33%\u001b[0;0m.\n",
            "\n",
            "Havia \u001b[1;34m37119\u001b[0;0m na universidade pública (Federal, Estadual ou Municipal), sendo um total de \u001b[1;34m0.74%\u001b[0;0m.\n",
            "\n",
            "Havia \u001b[1;34m60425\u001b[0;0m na universidade pública (Federal, Estadual ou Municipal), sendo um total de \u001b[1;34m0.54%\u001b[0;0m.\n",
            "\n",
            "Havia \u001b[1;34m58671\u001b[0;0m na universidade pública (Federal, Estadual ou Municipal), sendo um total de \u001b[1;34m0.52%\u001b[0;0m.\n",
            "\n",
            "Havia \u001b[1;34m109774\u001b[0;0m na universidade pública (Federal, Estadual ou Municipal), sendo um total de \u001b[1;34m0.95%\u001b[0;0m.\n",
            "\n",
            "Havia \u001b[1;34m87798\u001b[0;0m na universidade pública (Federal, Estadual ou Municipal), sendo um total de \u001b[1;34m0.73%\u001b[0;0m.\n",
            "\n",
            "Havia \u001b[1;34m81015\u001b[0;0m na universidade pública (Federal, Estadual ou Municipal), sendo um total de \u001b[1;34m0.66%\u001b[0;0m.\n"
          ]
        }
      ],
      "source": [
        "quantidade_negros_publica_antes_de_2017(dados_2009)\n",
        "negros_universidade_publica_2009 = len(negros_na_universidade_publica)\n",
        "print(\"\")\n",
        "negros_na_universidade_publica = []\n",
        "quantidade_negros_publica_antes_de_2017(dados_2010)\n",
        "negros_universidade_publica_2010 = len(negros_na_universidade_publica)\n",
        "print(\"\")\n",
        "negros_na_universidade_publica = []\n",
        "quantidade_negros_publica_antes_de_2017(dados_2011)\n",
        "negros_universidade_publica_2011 = len(negros_na_universidade_publica)\n",
        "print(\"\")\n",
        "negros_na_universidade_publica = []\n",
        "quantidade_negros_publica_antes_de_2017(dados_2012)\n",
        "negros_universidade_publica_2012 = len(negros_na_universidade_publica)\n",
        "print(\"\")\n",
        "negros_na_universidade_publica = []\n",
        "quantidade_negros_publica_antes_de_2017(dados_2013)\n",
        "negros_universidade_publica_2013 = len(negros_na_universidade_publica)\n",
        "print(\"\")\n",
        "negros_na_universidade_publica = []\n",
        "quantidade_negros_publica_antes_de_2017(dados_2014)\n",
        "negros_universidade_publica_2014 = len(negros_na_universidade_publica)\n",
        "print(\"\")\n",
        "negros_na_universidade_publica = []\n",
        "quantidade_negros_publica_antes_de_2017(dados_2015)\n",
        "negros_universidade_publica_2015 = len(negros_na_universidade_publica)\n",
        "print(\"\")\n",
        "negros_na_universidade_publica = []\n",
        "quantidade_negros_publica_antes_de_2017(dados_2016)\n",
        "negros_universidade_publica_2016 = len(negros_na_universidade_publica)\n",
        "print(\"\")\n",
        "negros_na_universidade_publica = []\n",
        "quantidade_negros_publica(dados_2017)\n",
        "negros_universidade_publica_2017 = len(negros_na_universidade_publica)\n",
        "print(\"\")\n",
        "negros_na_universidade_publica = []\n",
        "quantidade_negros_publica(dados_2018)\n",
        "negros_universidade_publica_2018 = len(negros_na_universidade_publica)\n",
        "print(\"\")\n",
        "negros_na_universidade_publica = []\n",
        "quantidade_negros_publica(dados_2019)\n",
        "negros_universidade_publica_2019 = len(negros_na_universidade_publica)"
      ]
    },
    {
      "cell_type": "code",
      "execution_count": 37,
      "metadata": {},
      "outputs": [
        {
          "output_type": "stream",
          "name": "stdout",
          "text": [
            "No prazo de 2009 até 2019 houveram \u001b[1;34m897705\u001b[0;0m negros na universidade pública!\n"
          ]
        }
      ],
      "source": [
        "print(f'No prazo de 2009 até 2019 houveram \\033[1;34m{len(total_negros_na_universidade_publica)}\\033[0;0m negros na universidade pública!')"
      ]
    },
    {
      "cell_type": "code",
      "execution_count": 43,
      "metadata": {},
      "outputs": [],
      "source": [
        "negros_na_universidade_publica_total = [negros_universidade_publica_2009, negros_universidade_publica_2010, \n",
        "                                        negros_universidade_publica_2011, negros_universidade_publica_2012,\n",
        "                                        negros_universidade_publica_2013, negros_universidade_publica_2014,\n",
        "                                        negros_universidade_publica_2015, negros_universidade_publica_2016, \n",
        "                                        negros_universidade_publica_2017, negros_universidade_publica_2018, \n",
        "                                        negros_universidade_publica_2019]\n",
        "date = [2009, 2010, 2011, 2012, 2013, 2014, 2015, 2016, 2017, 2018, 2019]"
      ]
    },
    {
      "cell_type": "code",
      "execution_count": 44,
      "metadata": {},
      "outputs": [
        {
          "output_type": "display_data",
          "data": {
            "text/plain": "<Figure size 432x288 with 1 Axes>",
            "image/svg+xml": "<?xml version=\"1.0\" encoding=\"utf-8\" standalone=\"no\"?>\n<!DOCTYPE svg PUBLIC \"-//W3C//DTD SVG 1.1//EN\"\n  \"http://www.w3.org/Graphics/SVG/1.1/DTD/svg11.dtd\">\n<!-- Created with matplotlib (https://matplotlib.org/) -->\n<svg height=\"277.314375pt\" version=\"1.1\" viewBox=\"0 0 433.083437 277.314375\" width=\"433.083437pt\" xmlns=\"http://www.w3.org/2000/svg\" xmlns:xlink=\"http://www.w3.org/1999/xlink\">\n <metadata>\n  <rdf:RDF xmlns:cc=\"http://creativecommons.org/ns#\" xmlns:dc=\"http://purl.org/dc/elements/1.1/\" xmlns:rdf=\"http://www.w3.org/1999/02/22-rdf-syntax-ns#\">\n   <cc:Work>\n    <dc:type rdf:resource=\"http://purl.org/dc/dcmitype/StillImage\"/>\n    <dc:date>2020-11-26T23:54:53.044335</dc:date>\n    <dc:format>image/svg+xml</dc:format>\n    <dc:creator>\n     <cc:Agent>\n      <dc:title>Matplotlib v3.3.2, https://matplotlib.org/</dc:title>\n     </cc:Agent>\n    </dc:creator>\n   </cc:Work>\n  </rdf:RDF>\n </metadata>\n <defs>\n  <style type=\"text/css\">*{stroke-linecap:butt;stroke-linejoin:round;}</style>\n </defs>\n <g id=\"figure_1\">\n  <g id=\"patch_1\">\n   <path d=\"M 0 277.314375 \nL 433.083438 277.314375 \nL 433.083438 0 \nL 0 0 \nz\n\" style=\"fill:none;\"/>\n  </g>\n  <g id=\"axes_1\">\n   <g id=\"patch_2\">\n    <path d=\"M 66.053125 239.758125 \nL 400.853125 239.758125 \nL 400.853125 22.318125 \nL 66.053125 22.318125 \nz\n\" style=\"fill:#ffffff;\"/>\n   </g>\n   <g id=\"matplotlib.axis_1\">\n    <g id=\"xtick_1\">\n     <g id=\"line2d_1\">\n      <defs>\n       <path d=\"M 0 0 \nL 0 3.5 \n\" id=\"m2cc5947481\" style=\"stroke:#000000;stroke-width:0.8;\"/>\n      </defs>\n      <g>\n       <use style=\"stroke:#000000;stroke-width:0.8;\" x=\"111.70767\" xlink:href=\"#m2cc5947481\" y=\"239.758125\"/>\n      </g>\n     </g>\n     <g id=\"text_1\">\n      <!-- 2010 -->\n      <g transform=\"translate(98.98267 254.356562)scale(0.1 -0.1)\">\n       <defs>\n        <path d=\"M 19.1875 8.296875 \nL 53.609375 8.296875 \nL 53.609375 0 \nL 7.328125 0 \nL 7.328125 8.296875 \nQ 12.9375 14.109375 22.625 23.890625 \nQ 32.328125 33.6875 34.8125 36.53125 \nQ 39.546875 41.84375 41.421875 45.53125 \nQ 43.3125 49.21875 43.3125 52.78125 \nQ 43.3125 58.59375 39.234375 62.25 \nQ 35.15625 65.921875 28.609375 65.921875 \nQ 23.96875 65.921875 18.8125 64.3125 \nQ 13.671875 62.703125 7.8125 59.421875 \nL 7.8125 69.390625 \nQ 13.765625 71.78125 18.9375 73 \nQ 24.125 74.21875 28.421875 74.21875 \nQ 39.75 74.21875 46.484375 68.546875 \nQ 53.21875 62.890625 53.21875 53.421875 \nQ 53.21875 48.921875 51.53125 44.890625 \nQ 49.859375 40.875 45.40625 35.40625 \nQ 44.1875 33.984375 37.640625 27.21875 \nQ 31.109375 20.453125 19.1875 8.296875 \nz\n\" id=\"DejaVuSans-50\"/>\n        <path d=\"M 31.78125 66.40625 \nQ 24.171875 66.40625 20.328125 58.90625 \nQ 16.5 51.421875 16.5 36.375 \nQ 16.5 21.390625 20.328125 13.890625 \nQ 24.171875 6.390625 31.78125 6.390625 \nQ 39.453125 6.390625 43.28125 13.890625 \nQ 47.125 21.390625 47.125 36.375 \nQ 47.125 51.421875 43.28125 58.90625 \nQ 39.453125 66.40625 31.78125 66.40625 \nz\nM 31.78125 74.21875 \nQ 44.046875 74.21875 50.515625 64.515625 \nQ 56.984375 54.828125 56.984375 36.375 \nQ 56.984375 17.96875 50.515625 8.265625 \nQ 44.046875 -1.421875 31.78125 -1.421875 \nQ 19.53125 -1.421875 13.0625 8.265625 \nQ 6.59375 17.96875 6.59375 36.375 \nQ 6.59375 54.828125 13.0625 64.515625 \nQ 19.53125 74.21875 31.78125 74.21875 \nz\n\" id=\"DejaVuSans-48\"/>\n        <path d=\"M 12.40625 8.296875 \nL 28.515625 8.296875 \nL 28.515625 63.921875 \nL 10.984375 60.40625 \nL 10.984375 69.390625 \nL 28.421875 72.90625 \nL 38.28125 72.90625 \nL 38.28125 8.296875 \nL 54.390625 8.296875 \nL 54.390625 0 \nL 12.40625 0 \nz\n\" id=\"DejaVuSans-49\"/>\n       </defs>\n       <use xlink:href=\"#DejaVuSans-50\"/>\n       <use x=\"63.623047\" xlink:href=\"#DejaVuSans-48\"/>\n       <use x=\"127.246094\" xlink:href=\"#DejaVuSans-49\"/>\n       <use x=\"190.869141\" xlink:href=\"#DejaVuSans-48\"/>\n      </g>\n     </g>\n    </g>\n    <g id=\"xtick_2\">\n     <g id=\"line2d_2\">\n      <g>\n       <use style=\"stroke:#000000;stroke-width:0.8;\" x=\"172.580398\" xlink:href=\"#m2cc5947481\" y=\"239.758125\"/>\n      </g>\n     </g>\n     <g id=\"text_2\">\n      <!-- 2012 -->\n      <g transform=\"translate(159.855398 254.356562)scale(0.1 -0.1)\">\n       <use xlink:href=\"#DejaVuSans-50\"/>\n       <use x=\"63.623047\" xlink:href=\"#DejaVuSans-48\"/>\n       <use x=\"127.246094\" xlink:href=\"#DejaVuSans-49\"/>\n       <use x=\"190.869141\" xlink:href=\"#DejaVuSans-50\"/>\n      </g>\n     </g>\n    </g>\n    <g id=\"xtick_3\">\n     <g id=\"line2d_3\">\n      <g>\n       <use style=\"stroke:#000000;stroke-width:0.8;\" x=\"233.453125\" xlink:href=\"#m2cc5947481\" y=\"239.758125\"/>\n      </g>\n     </g>\n     <g id=\"text_3\">\n      <!-- 2014 -->\n      <g transform=\"translate(220.728125 254.356562)scale(0.1 -0.1)\">\n       <defs>\n        <path d=\"M 37.796875 64.3125 \nL 12.890625 25.390625 \nL 37.796875 25.390625 \nz\nM 35.203125 72.90625 \nL 47.609375 72.90625 \nL 47.609375 25.390625 \nL 58.015625 25.390625 \nL 58.015625 17.1875 \nL 47.609375 17.1875 \nL 47.609375 0 \nL 37.796875 0 \nL 37.796875 17.1875 \nL 4.890625 17.1875 \nL 4.890625 26.703125 \nz\n\" id=\"DejaVuSans-52\"/>\n       </defs>\n       <use xlink:href=\"#DejaVuSans-50\"/>\n       <use x=\"63.623047\" xlink:href=\"#DejaVuSans-48\"/>\n       <use x=\"127.246094\" xlink:href=\"#DejaVuSans-49\"/>\n       <use x=\"190.869141\" xlink:href=\"#DejaVuSans-52\"/>\n      </g>\n     </g>\n    </g>\n    <g id=\"xtick_4\">\n     <g id=\"line2d_4\">\n      <g>\n       <use style=\"stroke:#000000;stroke-width:0.8;\" x=\"294.325852\" xlink:href=\"#m2cc5947481\" y=\"239.758125\"/>\n      </g>\n     </g>\n     <g id=\"text_4\">\n      <!-- 2016 -->\n      <g transform=\"translate(281.600852 254.356562)scale(0.1 -0.1)\">\n       <defs>\n        <path d=\"M 33.015625 40.375 \nQ 26.375 40.375 22.484375 35.828125 \nQ 18.609375 31.296875 18.609375 23.390625 \nQ 18.609375 15.53125 22.484375 10.953125 \nQ 26.375 6.390625 33.015625 6.390625 \nQ 39.65625 6.390625 43.53125 10.953125 \nQ 47.40625 15.53125 47.40625 23.390625 \nQ 47.40625 31.296875 43.53125 35.828125 \nQ 39.65625 40.375 33.015625 40.375 \nz\nM 52.59375 71.296875 \nL 52.59375 62.3125 \nQ 48.875 64.0625 45.09375 64.984375 \nQ 41.3125 65.921875 37.59375 65.921875 \nQ 27.828125 65.921875 22.671875 59.328125 \nQ 17.53125 52.734375 16.796875 39.40625 \nQ 19.671875 43.65625 24.015625 45.921875 \nQ 28.375 48.1875 33.59375 48.1875 \nQ 44.578125 48.1875 50.953125 41.515625 \nQ 57.328125 34.859375 57.328125 23.390625 \nQ 57.328125 12.15625 50.6875 5.359375 \nQ 44.046875 -1.421875 33.015625 -1.421875 \nQ 20.359375 -1.421875 13.671875 8.265625 \nQ 6.984375 17.96875 6.984375 36.375 \nQ 6.984375 53.65625 15.1875 63.9375 \nQ 23.390625 74.21875 37.203125 74.21875 \nQ 40.921875 74.21875 44.703125 73.484375 \nQ 48.484375 72.75 52.59375 71.296875 \nz\n\" id=\"DejaVuSans-54\"/>\n       </defs>\n       <use xlink:href=\"#DejaVuSans-50\"/>\n       <use x=\"63.623047\" xlink:href=\"#DejaVuSans-48\"/>\n       <use x=\"127.246094\" xlink:href=\"#DejaVuSans-49\"/>\n       <use x=\"190.869141\" xlink:href=\"#DejaVuSans-54\"/>\n      </g>\n     </g>\n    </g>\n    <g id=\"xtick_5\">\n     <g id=\"line2d_5\">\n      <g>\n       <use style=\"stroke:#000000;stroke-width:0.8;\" x=\"355.19858\" xlink:href=\"#m2cc5947481\" y=\"239.758125\"/>\n      </g>\n     </g>\n     <g id=\"text_5\">\n      <!-- 2018 -->\n      <g transform=\"translate(342.47358 254.356562)scale(0.1 -0.1)\">\n       <defs>\n        <path d=\"M 31.78125 34.625 \nQ 24.75 34.625 20.71875 30.859375 \nQ 16.703125 27.09375 16.703125 20.515625 \nQ 16.703125 13.921875 20.71875 10.15625 \nQ 24.75 6.390625 31.78125 6.390625 \nQ 38.8125 6.390625 42.859375 10.171875 \nQ 46.921875 13.96875 46.921875 20.515625 \nQ 46.921875 27.09375 42.890625 30.859375 \nQ 38.875 34.625 31.78125 34.625 \nz\nM 21.921875 38.8125 \nQ 15.578125 40.375 12.03125 44.71875 \nQ 8.5 49.078125 8.5 55.328125 \nQ 8.5 64.0625 14.71875 69.140625 \nQ 20.953125 74.21875 31.78125 74.21875 \nQ 42.671875 74.21875 48.875 69.140625 \nQ 55.078125 64.0625 55.078125 55.328125 \nQ 55.078125 49.078125 51.53125 44.71875 \nQ 48 40.375 41.703125 38.8125 \nQ 48.828125 37.15625 52.796875 32.3125 \nQ 56.78125 27.484375 56.78125 20.515625 \nQ 56.78125 9.90625 50.3125 4.234375 \nQ 43.84375 -1.421875 31.78125 -1.421875 \nQ 19.734375 -1.421875 13.25 4.234375 \nQ 6.78125 9.90625 6.78125 20.515625 \nQ 6.78125 27.484375 10.78125 32.3125 \nQ 14.796875 37.15625 21.921875 38.8125 \nz\nM 18.3125 54.390625 \nQ 18.3125 48.734375 21.84375 45.5625 \nQ 25.390625 42.390625 31.78125 42.390625 \nQ 38.140625 42.390625 41.71875 45.5625 \nQ 45.3125 48.734375 45.3125 54.390625 \nQ 45.3125 60.0625 41.71875 63.234375 \nQ 38.140625 66.40625 31.78125 66.40625 \nQ 25.390625 66.40625 21.84375 63.234375 \nQ 18.3125 60.0625 18.3125 54.390625 \nz\n\" id=\"DejaVuSans-56\"/>\n       </defs>\n       <use xlink:href=\"#DejaVuSans-50\"/>\n       <use x=\"63.623047\" xlink:href=\"#DejaVuSans-48\"/>\n       <use x=\"127.246094\" xlink:href=\"#DejaVuSans-49\"/>\n       <use x=\"190.869141\" xlink:href=\"#DejaVuSans-56\"/>\n      </g>\n     </g>\n    </g>\n    <g id=\"text_6\">\n     <!-- Anos -->\n     <g transform=\"translate(221.2 268.034687)scale(0.1 -0.1)\">\n      <defs>\n       <path d=\"M 34.1875 63.1875 \nL 20.796875 26.90625 \nL 47.609375 26.90625 \nz\nM 28.609375 72.90625 \nL 39.796875 72.90625 \nL 67.578125 0 \nL 57.328125 0 \nL 50.6875 18.703125 \nL 17.828125 18.703125 \nL 11.1875 0 \nL 0.78125 0 \nz\n\" id=\"DejaVuSans-65\"/>\n       <path d=\"M 54.890625 33.015625 \nL 54.890625 0 \nL 45.90625 0 \nL 45.90625 32.71875 \nQ 45.90625 40.484375 42.875 44.328125 \nQ 39.84375 48.1875 33.796875 48.1875 \nQ 26.515625 48.1875 22.3125 43.546875 \nQ 18.109375 38.921875 18.109375 30.90625 \nL 18.109375 0 \nL 9.078125 0 \nL 9.078125 54.6875 \nL 18.109375 54.6875 \nL 18.109375 46.1875 \nQ 21.34375 51.125 25.703125 53.5625 \nQ 30.078125 56 35.796875 56 \nQ 45.21875 56 50.046875 50.171875 \nQ 54.890625 44.34375 54.890625 33.015625 \nz\n\" id=\"DejaVuSans-110\"/>\n       <path d=\"M 30.609375 48.390625 \nQ 23.390625 48.390625 19.1875 42.75 \nQ 14.984375 37.109375 14.984375 27.296875 \nQ 14.984375 17.484375 19.15625 11.84375 \nQ 23.34375 6.203125 30.609375 6.203125 \nQ 37.796875 6.203125 41.984375 11.859375 \nQ 46.1875 17.53125 46.1875 27.296875 \nQ 46.1875 37.015625 41.984375 42.703125 \nQ 37.796875 48.390625 30.609375 48.390625 \nz\nM 30.609375 56 \nQ 42.328125 56 49.015625 48.375 \nQ 55.71875 40.765625 55.71875 27.296875 \nQ 55.71875 13.875 49.015625 6.21875 \nQ 42.328125 -1.421875 30.609375 -1.421875 \nQ 18.84375 -1.421875 12.171875 6.21875 \nQ 5.515625 13.875 5.515625 27.296875 \nQ 5.515625 40.765625 12.171875 48.375 \nQ 18.84375 56 30.609375 56 \nz\n\" id=\"DejaVuSans-111\"/>\n       <path d=\"M 44.28125 53.078125 \nL 44.28125 44.578125 \nQ 40.484375 46.53125 36.375 47.5 \nQ 32.28125 48.484375 27.875 48.484375 \nQ 21.1875 48.484375 17.84375 46.4375 \nQ 14.5 44.390625 14.5 40.28125 \nQ 14.5 37.15625 16.890625 35.375 \nQ 19.28125 33.59375 26.515625 31.984375 \nL 29.59375 31.296875 \nQ 39.15625 29.25 43.1875 25.515625 \nQ 47.21875 21.78125 47.21875 15.09375 \nQ 47.21875 7.46875 41.1875 3.015625 \nQ 35.15625 -1.421875 24.609375 -1.421875 \nQ 20.21875 -1.421875 15.453125 -0.5625 \nQ 10.6875 0.296875 5.421875 2 \nL 5.421875 11.28125 \nQ 10.40625 8.6875 15.234375 7.390625 \nQ 20.0625 6.109375 24.8125 6.109375 \nQ 31.15625 6.109375 34.5625 8.28125 \nQ 37.984375 10.453125 37.984375 14.40625 \nQ 37.984375 18.0625 35.515625 20.015625 \nQ 33.0625 21.96875 24.703125 23.78125 \nL 21.578125 24.515625 \nQ 13.234375 26.265625 9.515625 29.90625 \nQ 5.8125 33.546875 5.8125 39.890625 \nQ 5.8125 47.609375 11.28125 51.796875 \nQ 16.75 56 26.8125 56 \nQ 31.78125 56 36.171875 55.265625 \nQ 40.578125 54.546875 44.28125 53.078125 \nz\n\" id=\"DejaVuSans-115\"/>\n      </defs>\n      <use xlink:href=\"#DejaVuSans-65\"/>\n      <use x=\"68.408203\" xlink:href=\"#DejaVuSans-110\"/>\n      <use x=\"131.787109\" xlink:href=\"#DejaVuSans-111\"/>\n      <use x=\"192.96875\" xlink:href=\"#DejaVuSans-115\"/>\n     </g>\n    </g>\n   </g>\n   <g id=\"matplotlib.axis_2\">\n    <g id=\"ytick_1\">\n     <g id=\"line2d_6\">\n      <defs>\n       <path d=\"M 0 0 \nL -3.5 0 \n\" id=\"mac5574eabb\" style=\"stroke:#000000;stroke-width:0.8;\"/>\n      </defs>\n      <g>\n       <use style=\"stroke:#000000;stroke-width:0.8;\" x=\"66.053125\" xlink:href=\"#mac5574eabb\" y=\"229.874489\"/>\n      </g>\n     </g>\n     <g id=\"text_7\">\n      <!-- 0 -->\n      <g transform=\"translate(52.690625 233.673707)scale(0.1 -0.1)\">\n       <use xlink:href=\"#DejaVuSans-48\"/>\n      </g>\n     </g>\n    </g>\n    <g id=\"ytick_2\">\n     <g id=\"line2d_7\">\n      <g>\n       <use style=\"stroke:#000000;stroke-width:0.8;\" x=\"66.053125\" xlink:href=\"#mac5574eabb\" y=\"201.127946\"/>\n      </g>\n     </g>\n     <g id=\"text_8\">\n      <!-- 20000 -->\n      <g transform=\"translate(27.240625 204.927165)scale(0.1 -0.1)\">\n       <use xlink:href=\"#DejaVuSans-50\"/>\n       <use x=\"63.623047\" xlink:href=\"#DejaVuSans-48\"/>\n       <use x=\"127.246094\" xlink:href=\"#DejaVuSans-48\"/>\n       <use x=\"190.869141\" xlink:href=\"#DejaVuSans-48\"/>\n       <use x=\"254.492188\" xlink:href=\"#DejaVuSans-48\"/>\n      </g>\n     </g>\n    </g>\n    <g id=\"ytick_3\">\n     <g id=\"line2d_8\">\n      <g>\n       <use style=\"stroke:#000000;stroke-width:0.8;\" x=\"66.053125\" xlink:href=\"#mac5574eabb\" y=\"172.381403\"/>\n      </g>\n     </g>\n     <g id=\"text_9\">\n      <!-- 40000 -->\n      <g transform=\"translate(27.240625 176.180622)scale(0.1 -0.1)\">\n       <use xlink:href=\"#DejaVuSans-52\"/>\n       <use x=\"63.623047\" xlink:href=\"#DejaVuSans-48\"/>\n       <use x=\"127.246094\" xlink:href=\"#DejaVuSans-48\"/>\n       <use x=\"190.869141\" xlink:href=\"#DejaVuSans-48\"/>\n       <use x=\"254.492188\" xlink:href=\"#DejaVuSans-48\"/>\n      </g>\n     </g>\n    </g>\n    <g id=\"ytick_4\">\n     <g id=\"line2d_9\">\n      <g>\n       <use style=\"stroke:#000000;stroke-width:0.8;\" x=\"66.053125\" xlink:href=\"#mac5574eabb\" y=\"143.63486\"/>\n      </g>\n     </g>\n     <g id=\"text_10\">\n      <!-- 60000 -->\n      <g transform=\"translate(27.240625 147.434079)scale(0.1 -0.1)\">\n       <use xlink:href=\"#DejaVuSans-54\"/>\n       <use x=\"63.623047\" xlink:href=\"#DejaVuSans-48\"/>\n       <use x=\"127.246094\" xlink:href=\"#DejaVuSans-48\"/>\n       <use x=\"190.869141\" xlink:href=\"#DejaVuSans-48\"/>\n       <use x=\"254.492188\" xlink:href=\"#DejaVuSans-48\"/>\n      </g>\n     </g>\n    </g>\n    <g id=\"ytick_5\">\n     <g id=\"line2d_10\">\n      <g>\n       <use style=\"stroke:#000000;stroke-width:0.8;\" x=\"66.053125\" xlink:href=\"#mac5574eabb\" y=\"114.888317\"/>\n      </g>\n     </g>\n     <g id=\"text_11\">\n      <!-- 80000 -->\n      <g transform=\"translate(27.240625 118.687536)scale(0.1 -0.1)\">\n       <use xlink:href=\"#DejaVuSans-56\"/>\n       <use x=\"63.623047\" xlink:href=\"#DejaVuSans-48\"/>\n       <use x=\"127.246094\" xlink:href=\"#DejaVuSans-48\"/>\n       <use x=\"190.869141\" xlink:href=\"#DejaVuSans-48\"/>\n       <use x=\"254.492188\" xlink:href=\"#DejaVuSans-48\"/>\n      </g>\n     </g>\n    </g>\n    <g id=\"ytick_6\">\n     <g id=\"line2d_11\">\n      <g>\n       <use style=\"stroke:#000000;stroke-width:0.8;\" x=\"66.053125\" xlink:href=\"#mac5574eabb\" y=\"86.141774\"/>\n      </g>\n     </g>\n     <g id=\"text_12\">\n      <!-- 100000 -->\n      <g transform=\"translate(20.878125 89.940993)scale(0.1 -0.1)\">\n       <use xlink:href=\"#DejaVuSans-49\"/>\n       <use x=\"63.623047\" xlink:href=\"#DejaVuSans-48\"/>\n       <use x=\"127.246094\" xlink:href=\"#DejaVuSans-48\"/>\n       <use x=\"190.869141\" xlink:href=\"#DejaVuSans-48\"/>\n       <use x=\"254.492188\" xlink:href=\"#DejaVuSans-48\"/>\n       <use x=\"318.115234\" xlink:href=\"#DejaVuSans-48\"/>\n      </g>\n     </g>\n    </g>\n    <g id=\"ytick_7\">\n     <g id=\"line2d_12\">\n      <g>\n       <use style=\"stroke:#000000;stroke-width:0.8;\" x=\"66.053125\" xlink:href=\"#mac5574eabb\" y=\"57.395232\"/>\n      </g>\n     </g>\n     <g id=\"text_13\">\n      <!-- 120000 -->\n      <g transform=\"translate(20.878125 61.19445)scale(0.1 -0.1)\">\n       <use xlink:href=\"#DejaVuSans-49\"/>\n       <use x=\"63.623047\" xlink:href=\"#DejaVuSans-50\"/>\n       <use x=\"127.246094\" xlink:href=\"#DejaVuSans-48\"/>\n       <use x=\"190.869141\" xlink:href=\"#DejaVuSans-48\"/>\n       <use x=\"254.492188\" xlink:href=\"#DejaVuSans-48\"/>\n       <use x=\"318.115234\" xlink:href=\"#DejaVuSans-48\"/>\n      </g>\n     </g>\n    </g>\n    <g id=\"ytick_8\">\n     <g id=\"line2d_13\">\n      <g>\n       <use style=\"stroke:#000000;stroke-width:0.8;\" x=\"66.053125\" xlink:href=\"#mac5574eabb\" y=\"28.648689\"/>\n      </g>\n     </g>\n     <g id=\"text_14\">\n      <!-- 140000 -->\n      <g transform=\"translate(20.878125 32.447907)scale(0.1 -0.1)\">\n       <use xlink:href=\"#DejaVuSans-49\"/>\n       <use x=\"63.623047\" xlink:href=\"#DejaVuSans-52\"/>\n       <use x=\"127.246094\" xlink:href=\"#DejaVuSans-48\"/>\n       <use x=\"190.869141\" xlink:href=\"#DejaVuSans-48\"/>\n       <use x=\"254.492188\" xlink:href=\"#DejaVuSans-48\"/>\n       <use x=\"318.115234\" xlink:href=\"#DejaVuSans-48\"/>\n      </g>\n     </g>\n    </g>\n    <g id=\"text_15\">\n     <!-- Pessoas negras -->\n     <g transform=\"translate(14.798438 169.618594)rotate(-90)scale(0.1 -0.1)\">\n      <defs>\n       <path d=\"M 19.671875 64.796875 \nL 19.671875 37.40625 \nL 32.078125 37.40625 \nQ 38.96875 37.40625 42.71875 40.96875 \nQ 46.484375 44.53125 46.484375 51.125 \nQ 46.484375 57.671875 42.71875 61.234375 \nQ 38.96875 64.796875 32.078125 64.796875 \nz\nM 9.8125 72.90625 \nL 32.078125 72.90625 \nQ 44.34375 72.90625 50.609375 67.359375 \nQ 56.890625 61.8125 56.890625 51.125 \nQ 56.890625 40.328125 50.609375 34.8125 \nQ 44.34375 29.296875 32.078125 29.296875 \nL 19.671875 29.296875 \nL 19.671875 0 \nL 9.8125 0 \nz\n\" id=\"DejaVuSans-80\"/>\n       <path d=\"M 56.203125 29.59375 \nL 56.203125 25.203125 \nL 14.890625 25.203125 \nQ 15.484375 15.921875 20.484375 11.0625 \nQ 25.484375 6.203125 34.421875 6.203125 \nQ 39.59375 6.203125 44.453125 7.46875 \nQ 49.3125 8.734375 54.109375 11.28125 \nL 54.109375 2.78125 \nQ 49.265625 0.734375 44.1875 -0.34375 \nQ 39.109375 -1.421875 33.890625 -1.421875 \nQ 20.796875 -1.421875 13.15625 6.1875 \nQ 5.515625 13.8125 5.515625 26.8125 \nQ 5.515625 40.234375 12.765625 48.109375 \nQ 20.015625 56 32.328125 56 \nQ 43.359375 56 49.78125 48.890625 \nQ 56.203125 41.796875 56.203125 29.59375 \nz\nM 47.21875 32.234375 \nQ 47.125 39.59375 43.09375 43.984375 \nQ 39.0625 48.390625 32.421875 48.390625 \nQ 24.90625 48.390625 20.390625 44.140625 \nQ 15.875 39.890625 15.1875 32.171875 \nz\n\" id=\"DejaVuSans-101\"/>\n       <path d=\"M 34.28125 27.484375 \nQ 23.390625 27.484375 19.1875 25 \nQ 14.984375 22.515625 14.984375 16.5 \nQ 14.984375 11.71875 18.140625 8.90625 \nQ 21.296875 6.109375 26.703125 6.109375 \nQ 34.1875 6.109375 38.703125 11.40625 \nQ 43.21875 16.703125 43.21875 25.484375 \nL 43.21875 27.484375 \nz\nM 52.203125 31.203125 \nL 52.203125 0 \nL 43.21875 0 \nL 43.21875 8.296875 \nQ 40.140625 3.328125 35.546875 0.953125 \nQ 30.953125 -1.421875 24.3125 -1.421875 \nQ 15.921875 -1.421875 10.953125 3.296875 \nQ 6 8.015625 6 15.921875 \nQ 6 25.140625 12.171875 29.828125 \nQ 18.359375 34.515625 30.609375 34.515625 \nL 43.21875 34.515625 \nL 43.21875 35.40625 \nQ 43.21875 41.609375 39.140625 45 \nQ 35.0625 48.390625 27.6875 48.390625 \nQ 23 48.390625 18.546875 47.265625 \nQ 14.109375 46.140625 10.015625 43.890625 \nL 10.015625 52.203125 \nQ 14.9375 54.109375 19.578125 55.046875 \nQ 24.21875 56 28.609375 56 \nQ 40.484375 56 46.34375 49.84375 \nQ 52.203125 43.703125 52.203125 31.203125 \nz\n\" id=\"DejaVuSans-97\"/>\n       <path id=\"DejaVuSans-32\"/>\n       <path d=\"M 45.40625 27.984375 \nQ 45.40625 37.75 41.375 43.109375 \nQ 37.359375 48.484375 30.078125 48.484375 \nQ 22.859375 48.484375 18.828125 43.109375 \nQ 14.796875 37.75 14.796875 27.984375 \nQ 14.796875 18.265625 18.828125 12.890625 \nQ 22.859375 7.515625 30.078125 7.515625 \nQ 37.359375 7.515625 41.375 12.890625 \nQ 45.40625 18.265625 45.40625 27.984375 \nz\nM 54.390625 6.78125 \nQ 54.390625 -7.171875 48.1875 -13.984375 \nQ 42 -20.796875 29.203125 -20.796875 \nQ 24.46875 -20.796875 20.265625 -20.09375 \nQ 16.0625 -19.390625 12.109375 -17.921875 \nL 12.109375 -9.1875 \nQ 16.0625 -11.328125 19.921875 -12.34375 \nQ 23.78125 -13.375 27.78125 -13.375 \nQ 36.625 -13.375 41.015625 -8.765625 \nQ 45.40625 -4.15625 45.40625 5.171875 \nL 45.40625 9.625 \nQ 42.625 4.78125 38.28125 2.390625 \nQ 33.9375 0 27.875 0 \nQ 17.828125 0 11.671875 7.65625 \nQ 5.515625 15.328125 5.515625 27.984375 \nQ 5.515625 40.671875 11.671875 48.328125 \nQ 17.828125 56 27.875 56 \nQ 33.9375 56 38.28125 53.609375 \nQ 42.625 51.21875 45.40625 46.390625 \nL 45.40625 54.6875 \nL 54.390625 54.6875 \nz\n\" id=\"DejaVuSans-103\"/>\n       <path d=\"M 41.109375 46.296875 \nQ 39.59375 47.171875 37.8125 47.578125 \nQ 36.03125 48 33.890625 48 \nQ 26.265625 48 22.1875 43.046875 \nQ 18.109375 38.09375 18.109375 28.8125 \nL 18.109375 0 \nL 9.078125 0 \nL 9.078125 54.6875 \nL 18.109375 54.6875 \nL 18.109375 46.1875 \nQ 20.953125 51.171875 25.484375 53.578125 \nQ 30.03125 56 36.53125 56 \nQ 37.453125 56 38.578125 55.875 \nQ 39.703125 55.765625 41.0625 55.515625 \nz\n\" id=\"DejaVuSans-114\"/>\n      </defs>\n      <use xlink:href=\"#DejaVuSans-80\"/>\n      <use x=\"56.677734\" xlink:href=\"#DejaVuSans-101\"/>\n      <use x=\"118.201172\" xlink:href=\"#DejaVuSans-115\"/>\n      <use x=\"170.300781\" xlink:href=\"#DejaVuSans-115\"/>\n      <use x=\"222.400391\" xlink:href=\"#DejaVuSans-111\"/>\n      <use x=\"283.582031\" xlink:href=\"#DejaVuSans-97\"/>\n      <use x=\"344.861328\" xlink:href=\"#DejaVuSans-115\"/>\n      <use x=\"396.960938\" xlink:href=\"#DejaVuSans-32\"/>\n      <use x=\"428.748047\" xlink:href=\"#DejaVuSans-110\"/>\n      <use x=\"492.126953\" xlink:href=\"#DejaVuSans-101\"/>\n      <use x=\"553.650391\" xlink:href=\"#DejaVuSans-103\"/>\n      <use x=\"617.126953\" xlink:href=\"#DejaVuSans-114\"/>\n      <use x=\"658.240234\" xlink:href=\"#DejaVuSans-97\"/>\n      <use x=\"719.519531\" xlink:href=\"#DejaVuSans-115\"/>\n     </g>\n    </g>\n   </g>\n   <g id=\"line2d_14\">\n    <path clip-path=\"url(#p2d423e2366)\" d=\"M 81.271307 40.515262 \nL 111.70767 45.847745 \nL 142.144034 32.201761 \nL 172.580398 159.313225 \nL 203.016761 206.151404 \nL 233.453125 176.522342 \nL 263.889489 143.023996 \nL 294.325852 145.545068 \nL 324.762216 229.874489 \nL 355.19858 229.874489 \nL 385.634943 229.874489 \n\" style=\"fill:none;stroke:#1f77b4;stroke-linecap:square;stroke-width:1.5;\"/>\n   </g>\n   <g id=\"patch_3\">\n    <path d=\"M 66.053125 239.758125 \nL 66.053125 22.318125 \n\" style=\"fill:none;stroke:#000000;stroke-linecap:square;stroke-linejoin:miter;stroke-width:0.8;\"/>\n   </g>\n   <g id=\"patch_4\">\n    <path d=\"M 400.853125 239.758125 \nL 400.853125 22.318125 \n\" style=\"fill:none;stroke:#000000;stroke-linecap:square;stroke-linejoin:miter;stroke-width:0.8;\"/>\n   </g>\n   <g id=\"patch_5\">\n    <path d=\"M 66.053125 239.758125 \nL 400.853125 239.758125 \n\" style=\"fill:none;stroke:#000000;stroke-linecap:square;stroke-linejoin:miter;stroke-width:0.8;\"/>\n   </g>\n   <g id=\"patch_6\">\n    <path d=\"M 66.053125 22.318125 \nL 400.853125 22.318125 \n\" style=\"fill:none;stroke:#000000;stroke-linecap:square;stroke-linejoin:miter;stroke-width:0.8;\"/>\n   </g>\n   <g id=\"text_16\">\n    <!-- Quantidade de pessoas negras na universidade de 2009 a 2019 -->\n    <g transform=\"translate(41.022813 16.318125)scale(0.12 -0.12)\">\n     <defs>\n      <path d=\"M 39.40625 66.21875 \nQ 28.65625 66.21875 22.328125 58.203125 \nQ 16.015625 50.203125 16.015625 36.375 \nQ 16.015625 22.609375 22.328125 14.59375 \nQ 28.65625 6.59375 39.40625 6.59375 \nQ 50.140625 6.59375 56.421875 14.59375 \nQ 62.703125 22.609375 62.703125 36.375 \nQ 62.703125 50.203125 56.421875 58.203125 \nQ 50.140625 66.21875 39.40625 66.21875 \nz\nM 53.21875 1.3125 \nL 66.21875 -12.890625 \nL 54.296875 -12.890625 \nL 43.5 -1.21875 \nQ 41.890625 -1.3125 41.03125 -1.359375 \nQ 40.1875 -1.421875 39.40625 -1.421875 \nQ 24.03125 -1.421875 14.8125 8.859375 \nQ 5.609375 19.140625 5.609375 36.375 \nQ 5.609375 53.65625 14.8125 63.9375 \nQ 24.03125 74.21875 39.40625 74.21875 \nQ 54.734375 74.21875 63.90625 63.9375 \nQ 73.09375 53.65625 73.09375 36.375 \nQ 73.09375 23.6875 67.984375 14.640625 \nQ 62.890625 5.609375 53.21875 1.3125 \nz\n\" id=\"DejaVuSans-81\"/>\n      <path d=\"M 8.5 21.578125 \nL 8.5 54.6875 \nL 17.484375 54.6875 \nL 17.484375 21.921875 \nQ 17.484375 14.15625 20.5 10.265625 \nQ 23.53125 6.390625 29.59375 6.390625 \nQ 36.859375 6.390625 41.078125 11.03125 \nQ 45.3125 15.671875 45.3125 23.6875 \nL 45.3125 54.6875 \nL 54.296875 54.6875 \nL 54.296875 0 \nL 45.3125 0 \nL 45.3125 8.40625 \nQ 42.046875 3.421875 37.71875 1 \nQ 33.40625 -1.421875 27.6875 -1.421875 \nQ 18.265625 -1.421875 13.375 4.4375 \nQ 8.5 10.296875 8.5 21.578125 \nz\nM 31.109375 56 \nz\n\" id=\"DejaVuSans-117\"/>\n      <path d=\"M 18.3125 70.21875 \nL 18.3125 54.6875 \nL 36.8125 54.6875 \nL 36.8125 47.703125 \nL 18.3125 47.703125 \nL 18.3125 18.015625 \nQ 18.3125 11.328125 20.140625 9.421875 \nQ 21.96875 7.515625 27.59375 7.515625 \nL 36.8125 7.515625 \nL 36.8125 0 \nL 27.59375 0 \nQ 17.1875 0 13.234375 3.875 \nQ 9.28125 7.765625 9.28125 18.015625 \nL 9.28125 47.703125 \nL 2.6875 47.703125 \nL 2.6875 54.6875 \nL 9.28125 54.6875 \nL 9.28125 70.21875 \nz\n\" id=\"DejaVuSans-116\"/>\n      <path d=\"M 9.421875 54.6875 \nL 18.40625 54.6875 \nL 18.40625 0 \nL 9.421875 0 \nz\nM 9.421875 75.984375 \nL 18.40625 75.984375 \nL 18.40625 64.59375 \nL 9.421875 64.59375 \nz\n\" id=\"DejaVuSans-105\"/>\n      <path d=\"M 45.40625 46.390625 \nL 45.40625 75.984375 \nL 54.390625 75.984375 \nL 54.390625 0 \nL 45.40625 0 \nL 45.40625 8.203125 \nQ 42.578125 3.328125 38.25 0.953125 \nQ 33.9375 -1.421875 27.875 -1.421875 \nQ 17.96875 -1.421875 11.734375 6.484375 \nQ 5.515625 14.40625 5.515625 27.296875 \nQ 5.515625 40.1875 11.734375 48.09375 \nQ 17.96875 56 27.875 56 \nQ 33.9375 56 38.25 53.625 \nQ 42.578125 51.265625 45.40625 46.390625 \nz\nM 14.796875 27.296875 \nQ 14.796875 17.390625 18.875 11.75 \nQ 22.953125 6.109375 30.078125 6.109375 \nQ 37.203125 6.109375 41.296875 11.75 \nQ 45.40625 17.390625 45.40625 27.296875 \nQ 45.40625 37.203125 41.296875 42.84375 \nQ 37.203125 48.484375 30.078125 48.484375 \nQ 22.953125 48.484375 18.875 42.84375 \nQ 14.796875 37.203125 14.796875 27.296875 \nz\n\" id=\"DejaVuSans-100\"/>\n      <path d=\"M 18.109375 8.203125 \nL 18.109375 -20.796875 \nL 9.078125 -20.796875 \nL 9.078125 54.6875 \nL 18.109375 54.6875 \nL 18.109375 46.390625 \nQ 20.953125 51.265625 25.265625 53.625 \nQ 29.59375 56 35.59375 56 \nQ 45.5625 56 51.78125 48.09375 \nQ 58.015625 40.1875 58.015625 27.296875 \nQ 58.015625 14.40625 51.78125 6.484375 \nQ 45.5625 -1.421875 35.59375 -1.421875 \nQ 29.59375 -1.421875 25.265625 0.953125 \nQ 20.953125 3.328125 18.109375 8.203125 \nz\nM 48.6875 27.296875 \nQ 48.6875 37.203125 44.609375 42.84375 \nQ 40.53125 48.484375 33.40625 48.484375 \nQ 26.265625 48.484375 22.1875 42.84375 \nQ 18.109375 37.203125 18.109375 27.296875 \nQ 18.109375 17.390625 22.1875 11.75 \nQ 26.265625 6.109375 33.40625 6.109375 \nQ 40.53125 6.109375 44.609375 11.75 \nQ 48.6875 17.390625 48.6875 27.296875 \nz\n\" id=\"DejaVuSans-112\"/>\n      <path d=\"M 2.984375 54.6875 \nL 12.5 54.6875 \nL 29.59375 8.796875 \nL 46.6875 54.6875 \nL 56.203125 54.6875 \nL 35.6875 0 \nL 23.484375 0 \nz\n\" id=\"DejaVuSans-118\"/>\n      <path d=\"M 10.984375 1.515625 \nL 10.984375 10.5 \nQ 14.703125 8.734375 18.5 7.8125 \nQ 22.3125 6.890625 25.984375 6.890625 \nQ 35.75 6.890625 40.890625 13.453125 \nQ 46.046875 20.015625 46.78125 33.40625 \nQ 43.953125 29.203125 39.59375 26.953125 \nQ 35.25 24.703125 29.984375 24.703125 \nQ 19.046875 24.703125 12.671875 31.3125 \nQ 6.296875 37.9375 6.296875 49.421875 \nQ 6.296875 60.640625 12.9375 67.421875 \nQ 19.578125 74.21875 30.609375 74.21875 \nQ 43.265625 74.21875 49.921875 64.515625 \nQ 56.59375 54.828125 56.59375 36.375 \nQ 56.59375 19.140625 48.40625 8.859375 \nQ 40.234375 -1.421875 26.421875 -1.421875 \nQ 22.703125 -1.421875 18.890625 -0.6875 \nQ 15.09375 0.046875 10.984375 1.515625 \nz\nM 30.609375 32.421875 \nQ 37.25 32.421875 41.125 36.953125 \nQ 45.015625 41.5 45.015625 49.421875 \nQ 45.015625 57.28125 41.125 61.84375 \nQ 37.25 66.40625 30.609375 66.40625 \nQ 23.96875 66.40625 20.09375 61.84375 \nQ 16.21875 57.28125 16.21875 49.421875 \nQ 16.21875 41.5 20.09375 36.953125 \nQ 23.96875 32.421875 30.609375 32.421875 \nz\n\" id=\"DejaVuSans-57\"/>\n     </defs>\n     <use xlink:href=\"#DejaVuSans-81\"/>\n     <use x=\"78.710938\" xlink:href=\"#DejaVuSans-117\"/>\n     <use x=\"142.089844\" xlink:href=\"#DejaVuSans-97\"/>\n     <use x=\"203.369141\" xlink:href=\"#DejaVuSans-110\"/>\n     <use x=\"266.748047\" xlink:href=\"#DejaVuSans-116\"/>\n     <use x=\"305.957031\" xlink:href=\"#DejaVuSans-105\"/>\n     <use x=\"333.740234\" xlink:href=\"#DejaVuSans-100\"/>\n     <use x=\"397.216797\" xlink:href=\"#DejaVuSans-97\"/>\n     <use x=\"458.496094\" xlink:href=\"#DejaVuSans-100\"/>\n     <use x=\"521.972656\" xlink:href=\"#DejaVuSans-101\"/>\n     <use x=\"583.496094\" xlink:href=\"#DejaVuSans-32\"/>\n     <use x=\"615.283203\" xlink:href=\"#DejaVuSans-100\"/>\n     <use x=\"678.759766\" xlink:href=\"#DejaVuSans-101\"/>\n     <use x=\"740.283203\" xlink:href=\"#DejaVuSans-32\"/>\n     <use x=\"772.070312\" xlink:href=\"#DejaVuSans-112\"/>\n     <use x=\"835.546875\" xlink:href=\"#DejaVuSans-101\"/>\n     <use x=\"897.070312\" xlink:href=\"#DejaVuSans-115\"/>\n     <use x=\"949.169922\" xlink:href=\"#DejaVuSans-115\"/>\n     <use x=\"1001.269531\" xlink:href=\"#DejaVuSans-111\"/>\n     <use x=\"1062.451172\" xlink:href=\"#DejaVuSans-97\"/>\n     <use x=\"1123.730469\" xlink:href=\"#DejaVuSans-115\"/>\n     <use x=\"1175.830078\" xlink:href=\"#DejaVuSans-32\"/>\n     <use x=\"1207.617188\" xlink:href=\"#DejaVuSans-110\"/>\n     <use x=\"1270.996094\" xlink:href=\"#DejaVuSans-101\"/>\n     <use x=\"1332.519531\" xlink:href=\"#DejaVuSans-103\"/>\n     <use x=\"1395.996094\" xlink:href=\"#DejaVuSans-114\"/>\n     <use x=\"1437.109375\" xlink:href=\"#DejaVuSans-97\"/>\n     <use x=\"1498.388672\" xlink:href=\"#DejaVuSans-115\"/>\n     <use x=\"1550.488281\" xlink:href=\"#DejaVuSans-32\"/>\n     <use x=\"1582.275391\" xlink:href=\"#DejaVuSans-110\"/>\n     <use x=\"1645.654297\" xlink:href=\"#DejaVuSans-97\"/>\n     <use x=\"1706.933594\" xlink:href=\"#DejaVuSans-32\"/>\n     <use x=\"1738.720703\" xlink:href=\"#DejaVuSans-117\"/>\n     <use x=\"1802.099609\" xlink:href=\"#DejaVuSans-110\"/>\n     <use x=\"1865.478516\" xlink:href=\"#DejaVuSans-105\"/>\n     <use x=\"1893.261719\" xlink:href=\"#DejaVuSans-118\"/>\n     <use x=\"1952.441406\" xlink:href=\"#DejaVuSans-101\"/>\n     <use x=\"2013.964844\" xlink:href=\"#DejaVuSans-114\"/>\n     <use x=\"2055.078125\" xlink:href=\"#DejaVuSans-115\"/>\n     <use x=\"2107.177734\" xlink:href=\"#DejaVuSans-105\"/>\n     <use x=\"2134.960938\" xlink:href=\"#DejaVuSans-100\"/>\n     <use x=\"2198.4375\" xlink:href=\"#DejaVuSans-97\"/>\n     <use x=\"2259.716797\" xlink:href=\"#DejaVuSans-100\"/>\n     <use x=\"2323.193359\" xlink:href=\"#DejaVuSans-101\"/>\n     <use x=\"2384.716797\" xlink:href=\"#DejaVuSans-32\"/>\n     <use x=\"2416.503906\" xlink:href=\"#DejaVuSans-100\"/>\n     <use x=\"2479.980469\" xlink:href=\"#DejaVuSans-101\"/>\n     <use x=\"2541.503906\" xlink:href=\"#DejaVuSans-32\"/>\n     <use x=\"2573.291016\" xlink:href=\"#DejaVuSans-50\"/>\n     <use x=\"2636.914062\" xlink:href=\"#DejaVuSans-48\"/>\n     <use x=\"2700.537109\" xlink:href=\"#DejaVuSans-48\"/>\n     <use x=\"2764.160156\" xlink:href=\"#DejaVuSans-57\"/>\n     <use x=\"2827.783203\" xlink:href=\"#DejaVuSans-32\"/>\n     <use x=\"2859.570312\" xlink:href=\"#DejaVuSans-97\"/>\n     <use x=\"2920.849609\" xlink:href=\"#DejaVuSans-32\"/>\n     <use x=\"2952.636719\" xlink:href=\"#DejaVuSans-50\"/>\n     <use x=\"3016.259766\" xlink:href=\"#DejaVuSans-48\"/>\n     <use x=\"3079.882812\" xlink:href=\"#DejaVuSans-49\"/>\n     <use x=\"3143.505859\" xlink:href=\"#DejaVuSans-57\"/>\n    </g>\n   </g>\n  </g>\n </g>\n <defs>\n  <clipPath id=\"p2d423e2366\">\n   <rect height=\"217.44\" width=\"334.8\" x=\"66.053125\" y=\"22.318125\"/>\n  </clipPath>\n </defs>\n</svg>\n",
            "image/png": "[encoded data removed]"
          },
          "metadata": {
            "needs_background": "light"
          }
        }
      ],
      "source": [
        "plt.plot(date, negros_na_universidade_publica_total)\n",
        "plt.title('Quantidade de pessoas negras na universidade de 2009 a 2019')\n",
        "plt.ylabel('Pessoas negras')\n",
        "plt.xlabel('Anos')\n",
        "plt.show()"
      ]
    },
    {
      "cell_type": "code",
      "execution_count": 46,
      "metadata": {},
      "outputs": [
        {
          "output_type": "execute_result",
          "data": {
            "text/plain": [
              "1.0    4483810\n",
              "2.0    1378768\n",
              "3.0     833624\n",
              "4.0     247635\n",
              "Name: CO_GRAU_ACADEMICO, dtype: int64"
            ]
          },
          "metadata": {},
          "execution_count": 46
        }
      ],
      "source": [
        "dados_2009[\"CO_GRAU_ACADEMICO\"].value_counts()"
      ]
    },
    {
      "cell_type": "code",
      "execution_count": null,
      "metadata": {},
      "outputs": [],
      "source": []
    }
  ]
}