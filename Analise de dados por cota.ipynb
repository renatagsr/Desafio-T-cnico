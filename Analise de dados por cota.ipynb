{
  "nbformat": 4,
  "nbformat_minor": 0,
  "metadata": {
    "colab": {
      "name": "Untitled3.ipynb",
      "provenance": [],
      "authorship_tag": "ABX9TyPsFOOcx4SBPsvHZ3WUQk8t",
      "include_colab_link": true
    },
    "kernelspec": {
      "name": "python3",
      "display_name": "Python 3"
    }
  },
  "cells": [
    {
      "cell_type": "code",
      "metadata": {
        "id": "h1fRvy9y0Iya"
      },
      "source": [
        "import pandas as pd"
      ],
      "execution_count": 1,
      "outputs": []
    },
    {
      "cell_type": "code",
      "metadata": {
        "id": "sm-bMVrmuAox"
      },
      "source": [
        "cols = [\n",
        "    \"TP_CATEGORIA_ADMINISTRATIVA\",\n",
        "    \"TP_ORGANIZACAO_ACADEMICA\",\n",
        "    \"TP_COR_RACA\",\n",
        "    \"TP_SEXO\",\n",
        "    \"NU_ANO_NASCIMENTO\",\n",
        "    \"TP_SITUACAO\",\n",
        "    \"DT_INGRESSO_CURSO\",\n",
        "    \"IN_RESERVA_ETNICO\",\n",
        "    \"IN_RESERVA_ENSINO_PUBLICO\",\n",
        "    \"IN_RESERVA_RENDA_FAMILIAR\"\n",
        "]"
      ],
      "execution_count": 2,
      "outputs": []
    },
    {
      "cell_type": "code",
      "metadata": {
        "id": "nlEkve2IPNY7"
      },
      "source": [
        "dados_2019 = pd.read_csv('SUP_ALUNO_2019.CSV', sep='|', encoding=\"latin1\", usecols=cols )"
      ],
      "execution_count": 3,
      "outputs": []
    },
    {
      "cell_type": "code",
      "metadata": {
        "id": "PpJ8aVoIUfR1",
        "colab": {
          "base_uri": "https://localhost:8080/",
          "height": 204
        },
        "outputId": "59d34474-192d-4a5f-baac-934315c0e32a"
      },
      "source": [
        "dados_2019.head()"
      ],
      "execution_count": 4,
      "outputs": [
        {
          "output_type": "execute_result",
          "data": {
            "text/plain": [
              "   TP_CATEGORIA_ADMINISTRATIVA  TP_ORGANIZACAO_ACADEMICA  TP_COR_RACA  \\\n",
              "0                            1                         1            2   \n",
              "1                            1                         1            3   \n",
              "2                            1                         1            3   \n",
              "3                            1                         1            2   \n",
              "4                            1                         1            3   \n",
              "\n",
              "   TP_SEXO  NU_ANO_NASCIMENTO  TP_SITUACAO   DT_INGRESSO_CURSO  \\\n",
              "0        1               1992            2  01JAN2017:00:00:00   \n",
              "1        2               1987            3  01JAN2016:00:00:00   \n",
              "2        2               1988            2  01JAN2012:00:00:00   \n",
              "3        1               1988            4  01JAN2015:00:00:00   \n",
              "4        2               1977            6  01JAN2013:00:00:00   \n",
              "\n",
              "   IN_RESERVA_ETNICO  IN_RESERVA_ENSINO_PUBLICO  IN_RESERVA_RENDA_FAMILIAR  \n",
              "0                NaN                        NaN                        NaN  \n",
              "1                1.0                        1.0                        0.0  \n",
              "2                0.0                        1.0                        0.0  \n",
              "3                1.0                        1.0                        0.0  \n",
              "4                1.0                        1.0                        0.0  "
            ],
            "text/html": "<div>\n<style scoped>\n    .dataframe tbody tr th:only-of-type {\n        vertical-align: middle;\n    }\n\n    .dataframe tbody tr th {\n        vertical-align: top;\n    }\n\n    .dataframe thead th {\n        text-align: right;\n    }\n</style>\n<table border=\"1\" class=\"dataframe\">\n  <thead>\n    <tr style=\"text-align: right;\">\n      <th></th>\n      <th>TP_CATEGORIA_ADMINISTRATIVA</th>\n      <th>TP_ORGANIZACAO_ACADEMICA</th>\n      <th>TP_COR_RACA</th>\n      <th>TP_SEXO</th>\n      <th>NU_ANO_NASCIMENTO</th>\n      <th>TP_SITUACAO</th>\n      <th>DT_INGRESSO_CURSO</th>\n      <th>IN_RESERVA_ETNICO</th>\n      <th>IN_RESERVA_ENSINO_PUBLICO</th>\n      <th>IN_RESERVA_RENDA_FAMILIAR</th>\n    </tr>\n  </thead>\n  <tbody>\n    <tr>\n      <th>0</th>\n      <td>1</td>\n      <td>1</td>\n      <td>2</td>\n      <td>1</td>\n      <td>1992</td>\n      <td>2</td>\n      <td>01JAN2017:00:00:00</td>\n      <td>NaN</td>\n      <td>NaN</td>\n      <td>NaN</td>\n    </tr>\n    <tr>\n      <th>1</th>\n      <td>1</td>\n      <td>1</td>\n      <td>3</td>\n      <td>2</td>\n      <td>1987</td>\n      <td>3</td>\n      <td>01JAN2016:00:00:00</td>\n      <td>1.0</td>\n      <td>1.0</td>\n      <td>0.0</td>\n    </tr>\n    <tr>\n      <th>2</th>\n      <td>1</td>\n      <td>1</td>\n      <td>3</td>\n      <td>2</td>\n      <td>1988</td>\n      <td>2</td>\n      <td>01JAN2012:00:00:00</td>\n      <td>0.0</td>\n      <td>1.0</td>\n      <td>0.0</td>\n    </tr>\n    <tr>\n      <th>3</th>\n      <td>1</td>\n      <td>1</td>\n      <td>2</td>\n      <td>1</td>\n      <td>1988</td>\n      <td>4</td>\n      <td>01JAN2015:00:00:00</td>\n      <td>1.0</td>\n      <td>1.0</td>\n      <td>0.0</td>\n    </tr>\n    <tr>\n      <th>4</th>\n      <td>1</td>\n      <td>1</td>\n      <td>3</td>\n      <td>2</td>\n      <td>1977</td>\n      <td>6</td>\n      <td>01JAN2013:00:00:00</td>\n      <td>1.0</td>\n      <td>1.0</td>\n      <td>0.0</td>\n    </tr>\n  </tbody>\n</table>\n</div>"
          },
          "metadata": {},
          "execution_count": 4
        }
      ]
    },
    {
      "cell_type": "code",
      "execution_count": 9,
      "metadata": {},
      "outputs": [
        {
          "output_type": "stream",
          "name": "stdout",
          "text": [
            "<class 'pandas.core.frame.DataFrame'>\nRangeIndex: 12350832 entries, 0 to 12350831\nData columns (total 10 columns):\n #   Column                       Dtype  \n---  ------                       -----  \n 0   TP_CATEGORIA_ADMINISTRATIVA  int64  \n 1   TP_ORGANIZACAO_ACADEMICA     int64  \n 2   TP_COR_RACA                  int64  \n 3   TP_SEXO                      int64  \n 4   NU_ANO_NASCIMENTO            int64  \n 5   TP_SITUACAO                  int64  \n 6   DT_INGRESSO_CURSO            object \n 7   IN_RESERVA_ETNICO            float64\n 8   IN_RESERVA_ENSINO_PUBLICO    float64\n 9   IN_RESERVA_RENDA_FAMILIAR    float64\ndtypes: float64(3), int64(6), object(1)\nmemory usage: 942.3+ MB\n"
          ]
        }
      ],
      "source": [
        "dados_2019.info()"
      ]
    },
    {
      "cell_type": "code",
      "metadata": {
        "id": "tzQDAZbQtM1l"
      },
      "source": [
        "dados_2019.isnull().sum()"
      ],
      "execution_count": 15,
      "outputs": [
        {
          "output_type": "execute_result",
          "data": {
            "text/plain": [
              "TP_CATEGORIA_ADMINISTRATIVA           0\n",
              "TP_ORGANIZACAO_ACADEMICA              0\n",
              "TP_COR_RACA                           0\n",
              "TP_SEXO                               0\n",
              "NU_ANO_NASCIMENTO                     0\n",
              "TP_SITUACAO                           0\n",
              "DT_INGRESSO_CURSO                     0\n",
              "IN_RESERVA_ETNICO              11657589\n",
              "IN_RESERVA_ENSINO_PUBLICO      11657589\n",
              "IN_RESERVA_RENDA_FAMILIAR      11657589\n",
              "dtype: int64"
            ]
          },
          "metadata": {},
          "execution_count": 15
        }
      ]
    },
    {
      "source": [
        "Ao fazer a leitura do dicionário de variáves foi possível ver que para as categorias \"IN_RESERVA_ETNICO\"(Informa se o aluno ingressou por meio de programa de reserva de vagas de cunho etnico), \"IN_RESERVA_ENSINO_PUBLICO\"(Informa se o aluno ingressou por meio de programa de reserva de vagas para egressos da escola pública) e \"IN_RESERVA_RENDA_FAMILIAR\"(Informa se o aluno ingressou por meio de programa de reserva de vagas de cunho social/renda familiar) há três respostas que são:\n",
        "\n",
        "* 0 - Não (Aluno possui outro tipo de reserva)\n",
        "* 1 - Sim \n",
        "* (.) - Aluno não possui qualquer tipo de reserva de vagas\n",
        "\n",
        "Com isso, percebe-se que os dados que estão sendo informados como nulos nessas três colunas significam que o aluno não possui qualquer tipo de reserva de vagas, portanto para a análise de cada uma dessas colunas não haverá prejuízo algum em se fazer a retirada dos dados nulos, visto que eles não representam nenhuma informação útil para a análise. "
      ],
      "cell_type": "markdown",
      "metadata": {}
    },
    {
      "cell_type": "code",
      "execution_count": 16,
      "metadata": {},
      "outputs": [],
      "source": [
        "dados_2019 = dados_2019.dropna(axis=0)"
      ]
    },
    {
      "cell_type": "code",
      "execution_count": 17,
      "metadata": {},
      "outputs": [
        {
          "output_type": "execute_result",
          "data": {
            "text/plain": [
              "TP_CATEGORIA_ADMINISTRATIVA    0\n",
              "TP_ORGANIZACAO_ACADEMICA       0\n",
              "TP_COR_RACA                    0\n",
              "TP_SEXO                        0\n",
              "NU_ANO_NASCIMENTO              0\n",
              "TP_SITUACAO                    0\n",
              "DT_INGRESSO_CURSO              0\n",
              "IN_RESERVA_ETNICO              0\n",
              "IN_RESERVA_ENSINO_PUBLICO      0\n",
              "IN_RESERVA_RENDA_FAMILIAR      0\n",
              "dtype: int64"
            ]
          },
          "metadata": {},
          "execution_count": 17
        }
      ],
      "source": [
        "dados_2019.isnull().sum()"
      ]
    },
    {
      "cell_type": "code",
      "execution_count": null,
      "metadata": {},
      "outputs": [],
      "source": []
    }
  ]
}