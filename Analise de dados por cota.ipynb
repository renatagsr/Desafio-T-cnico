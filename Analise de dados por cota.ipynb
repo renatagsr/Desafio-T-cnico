{
  "nbformat": 4,
  "nbformat_minor": 0,
  "metadata": {
    "colab": {
      "name": "Untitled3.ipynb",
      "provenance": [],
      "authorship_tag": "ABX9TyPsFOOcx4SBPsvHZ3WUQk8t",
      "include_colab_link": true
    },
    "kernelspec": {
      "name": "python3",
      "display_name": "Python 3"
    }
  },
  "cells": [
    {
      "cell_type": "code",
      "metadata": {
        "id": "h1fRvy9y0Iya"
      },
      "source": [
        "import pandas as pd"
      ],
      "execution_count": 1,
      "outputs": []
    },
    {
      "cell_type": "code",
      "metadata": {
        "id": "sm-bMVrmuAox"
      },
      "source": [
        "cols = [\n",
        "    \"CO_CURSO\",\n",
        "    \"TP_NIVEL_ACADEMICO\",\n",
        "    \"TP_COR_RACA\",\n",
        "    \"TP_SEXO\",\n",
        "    \"NU_ANO_NASCIMENTO\"\n",
        "]"
      ],
      "execution_count": 2,
      "outputs": []
    },
    {
      "cell_type": "code",
      "metadata": {
        "id": "nlEkve2IPNY7"
      },
      "source": [
        "curso = pd.read_csv('SUP_ALUNO_2019.CSV', sep='|', encoding=\"latin1\", usecols=cols )"
      ],
      "execution_count": 4,
      "outputs": []
    },
    {
      "cell_type": "code",
      "metadata": {
        "id": "PpJ8aVoIUfR1",
        "colab": {
          "base_uri": "https://localhost:8080/",
          "height": 204
        },
        "outputId": "59d34474-192d-4a5f-baac-934315c0e32a"
      },
      "source": [
        "curso.head()"
      ],
      "execution_count": 5,
      "outputs": [
        {
          "output_type": "execute_result",
          "data": {
            "text/plain": [
              "   CO_CURSO  TP_NIVEL_ACADEMICO  TP_COR_RACA  TP_SEXO  NU_ANO_NASCIMENTO\n",
              "0         1                   1            2        1               1992\n",
              "1         1                   1            3        2               1987\n",
              "2         1                   1            3        2               1988\n",
              "3         1                   1            2        1               1988\n",
              "4         1                   1            3        2               1977"
            ],
            "text/html": "<div>\n<style scoped>\n    .dataframe tbody tr th:only-of-type {\n        vertical-align: middle;\n    }\n\n    .dataframe tbody tr th {\n        vertical-align: top;\n    }\n\n    .dataframe thead th {\n        text-align: right;\n    }\n</style>\n<table border=\"1\" class=\"dataframe\">\n  <thead>\n    <tr style=\"text-align: right;\">\n      <th></th>\n      <th>CO_CURSO</th>\n      <th>TP_NIVEL_ACADEMICO</th>\n      <th>TP_COR_RACA</th>\n      <th>TP_SEXO</th>\n      <th>NU_ANO_NASCIMENTO</th>\n    </tr>\n  </thead>\n  <tbody>\n    <tr>\n      <th>0</th>\n      <td>1</td>\n      <td>1</td>\n      <td>2</td>\n      <td>1</td>\n      <td>1992</td>\n    </tr>\n    <tr>\n      <th>1</th>\n      <td>1</td>\n      <td>1</td>\n      <td>3</td>\n      <td>2</td>\n      <td>1987</td>\n    </tr>\n    <tr>\n      <th>2</th>\n      <td>1</td>\n      <td>1</td>\n      <td>3</td>\n      <td>2</td>\n      <td>1988</td>\n    </tr>\n    <tr>\n      <th>3</th>\n      <td>1</td>\n      <td>1</td>\n      <td>2</td>\n      <td>1</td>\n      <td>1988</td>\n    </tr>\n    <tr>\n      <th>4</th>\n      <td>1</td>\n      <td>1</td>\n      <td>3</td>\n      <td>2</td>\n      <td>1977</td>\n    </tr>\n  </tbody>\n</table>\n</div>"
          },
          "metadata": {},
          "execution_count": 5
        }
      ]
    },
    {
      "cell_type": "code",
      "metadata": {
        "id": "tzQDAZbQtM1l"
      },
      "source": [],
      "execution_count": 13,
      "outputs": []
    }
  ]
}