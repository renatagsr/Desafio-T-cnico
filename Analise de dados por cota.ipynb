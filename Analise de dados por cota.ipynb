{
  "nbformat": 4,
  "nbformat_minor": 0,
  "metadata": {
    "colab": {
      "name": "Untitled3.ipynb",
      "provenance": [],
      "authorship_tag": "ABX9TyPsFOOcx4SBPsvHZ3WUQk8t",
      "include_colab_link": true
    },
    "kernelspec": {
      "name": "python3",
      "display_name": "Python 3"
    }
  },
  "cells": [
    {
      "cell_type": "code",
      "metadata": {
        "id": "h1fRvy9y0Iya"
      },
      "source": [
        "import pandas as pd\n",
        "import matplotlib.pyplot as plt"
      ],
      "execution_count": 1,
      "outputs": []
    },
    {
      "cell_type": "code",
      "execution_count": 2,
      "metadata": {},
      "outputs": [],
      "source": [
        "cols_ate_2016 = [\n",
        "    \"CO_COR_RACA_ALUNO\",\n",
        "    \"CO_CATEGORIA_ADMINISTRATIVA\",\n",
        "    \"CO_CURSO\",\n",
        "]"
      ]
    },
    {
      "cell_type": "code",
      "execution_count": 3,
      "metadata": {},
      "outputs": [],
      "source": [
        "def ler_dados_ate_2016(dados_ano):\n",
        "    return pd.read_csv(dados_ano, sep='|', encoding=\"latin1\", usecols=cols_ate_2016)"
      ]
    },
    {
      "cell_type": "code",
      "execution_count": 4,
      "metadata": {},
      "outputs": [],
      "source": [
        "dados_2009 = ler_dados_ate_2016('DM_ALUNO_2009.CSV')\n",
        "dados_2010 = ler_dados_ate_2016('DM_ALUNO_2010.CSV')\n",
        "dados_2011 = ler_dados_ate_2016('DM_ALUNO_2011.CSV')\n",
        "dados_2012 = ler_dados_ate_2016('DM_ALUNO_2012.CSV')\n",
        "dados_2013 = ler_dados_ate_2016('DM_ALUNO_2013.CSV')\n",
        "dados_2014 = ler_dados_ate_2016('DM_ALUNO_2014.CSV')\n",
        "dados_2015 = ler_dados_ate_2016('DM_ALUNO_2015.CSV')\n",
        "dados_2016 = ler_dados_ate_2016('DM_ALUNO_2016.CSV')"
      ]
    },
    {
      "cell_type": "code",
      "metadata": {
        "id": "sm-bMVrmuAox"
      },
      "source": [
        "cols = [\n",
        "    \"TP_COR_RACA\",\n",
        "    \"TP_CATEGORIA_ADMINISTRATIVA\",\n",
        "    \"CO_CURSO\"\n",
        "]"
      ],
      "execution_count": 8,
      "outputs": []
    },
    {
      "cell_type": "code",
      "execution_count": 9,
      "metadata": {},
      "outputs": [],
      "source": [
        "def ler_dados(dados_ano):\n",
        "    return pd.read_csv(dados_ano, sep='|', encoding=\"latin1\", usecols=cols)"
      ]
    },
    {
      "cell_type": "code",
      "execution_count": 10,
      "metadata": {},
      "outputs": [],
      "source": [
        "dados_2017 = ler_dados('DM_ALUNO_2017.CSV')\n",
        "dados_2018 = ler_dados('DM_ALUNO_2018.CSV')\n",
        "dados_2019 = ler_dados('SUP_ALUNO_2019.CSV')"
      ]
    },
    {
      "cell_type": "code",
      "metadata": {
        "id": "PpJ8aVoIUfR1",
        "colab": {
          "base_uri": "https://localhost:8080/",
          "height": 204
        },
        "outputId": "59d34474-192d-4a5f-baac-934315c0e32a"
      },
      "source": [
        "dados_2019.head()"
      ],
      "execution_count": 11,
      "outputs": [
        {
          "output_type": "execute_result",
          "data": {
            "text/plain": [
              "   TP_COR_RACA  TP_SEXO  IN_RESERVA_ETNICO\n",
              "0            2        1                NaN\n",
              "1            3        2                1.0\n",
              "2            3        2                0.0\n",
              "3            2        1                1.0\n",
              "4            3        2                1.0"
            ],
            "text/html": "<div>\n<style scoped>\n    .dataframe tbody tr th:only-of-type {\n        vertical-align: middle;\n    }\n\n    .dataframe tbody tr th {\n        vertical-align: top;\n    }\n\n    .dataframe thead th {\n        text-align: right;\n    }\n</style>\n<table border=\"1\" class=\"dataframe\">\n  <thead>\n    <tr style=\"text-align: right;\">\n      <th></th>\n      <th>TP_COR_RACA</th>\n      <th>TP_SEXO</th>\n      <th>IN_RESERVA_ETNICO</th>\n    </tr>\n  </thead>\n  <tbody>\n    <tr>\n      <th>0</th>\n      <td>2</td>\n      <td>1</td>\n      <td>NaN</td>\n    </tr>\n    <tr>\n      <th>1</th>\n      <td>3</td>\n      <td>2</td>\n      <td>1.0</td>\n    </tr>\n    <tr>\n      <th>2</th>\n      <td>3</td>\n      <td>2</td>\n      <td>0.0</td>\n    </tr>\n    <tr>\n      <th>3</th>\n      <td>2</td>\n      <td>1</td>\n      <td>1.0</td>\n    </tr>\n    <tr>\n      <th>4</th>\n      <td>3</td>\n      <td>2</td>\n      <td>1.0</td>\n    </tr>\n  </tbody>\n</table>\n</div>"
          },
          "metadata": {},
          "execution_count": 11
        }
      ]
    },
    {
      "cell_type": "code",
      "execution_count": 12,
      "metadata": {},
      "outputs": [
        {
          "output_type": "execute_result",
          "data": {
            "text/plain": [
              "   CO_COR_RACA_ALUNO  IN_SEXO_ALUNO  IN_RESERVA_ETNICO\n",
              "0                0.0            1.0                NaN\n",
              "1                3.0            1.0                NaN\n",
              "2                0.0            1.0                NaN\n",
              "3                1.0            0.0                NaN\n",
              "4                1.0            1.0                NaN"
            ],
            "text/html": "<div>\n<style scoped>\n    .dataframe tbody tr th:only-of-type {\n        vertical-align: middle;\n    }\n\n    .dataframe tbody tr th {\n        vertical-align: top;\n    }\n\n    .dataframe thead th {\n        text-align: right;\n    }\n</style>\n<table border=\"1\" class=\"dataframe\">\n  <thead>\n    <tr style=\"text-align: right;\">\n      <th></th>\n      <th>CO_COR_RACA_ALUNO</th>\n      <th>IN_SEXO_ALUNO</th>\n      <th>IN_RESERVA_ETNICO</th>\n    </tr>\n  </thead>\n  <tbody>\n    <tr>\n      <th>0</th>\n      <td>0.0</td>\n      <td>1.0</td>\n      <td>NaN</td>\n    </tr>\n    <tr>\n      <th>1</th>\n      <td>3.0</td>\n      <td>1.0</td>\n      <td>NaN</td>\n    </tr>\n    <tr>\n      <th>2</th>\n      <td>0.0</td>\n      <td>1.0</td>\n      <td>NaN</td>\n    </tr>\n    <tr>\n      <th>3</th>\n      <td>1.0</td>\n      <td>0.0</td>\n      <td>NaN</td>\n    </tr>\n    <tr>\n      <th>4</th>\n      <td>1.0</td>\n      <td>1.0</td>\n      <td>NaN</td>\n    </tr>\n  </tbody>\n</table>\n</div>"
          },
          "metadata": {},
          "execution_count": 12
        }
      ],
      "source": [
        "dados_2011.head()"
      ]
    },
    {
      "cell_type": "code",
      "execution_count": 14,
      "metadata": {},
      "outputs": [],
      "source": [
        "def mostrar_dados_nulos(dados_ano):\n",
        "    return print(dados_ano.isnull().sum())"
      ]
    },
    {
      "cell_type": "code",
      "metadata": {
        "id": "tzQDAZbQtM1l"
      },
      "source": [
        "mostrar_dados_nulos(dados_2009)\n",
        "print(\"\")\n",
        "mostrar_dados_nulos(dados_2012)\n",
        "print(\"\")\n",
        "mostrar_dados_nulos(dados_2015)\n",
        "print(\"\")\n",
        "mostrar_dados_nulos(dados_2019)"
      ],
      "execution_count": 17,
      "outputs": [
        {
          "output_type": "stream",
          "name": "stdout",
          "text": [
            "IN_RESERVA_ETNICO    0\n",
            "IN_SEXO_ALUNO        0\n",
            "CO_COR_RACA_ALUNO    0\n",
            "dtype: int64\n",
            "\n",
            "CO_COR_RACA_ALUNO          0\n",
            "IN_SEXO_ALUNO              0\n",
            "IN_RESERVA_ETNICO    6235191\n",
            "dtype: int64\n",
            "\n",
            "CO_COR_RACA_ALUNO           0\n",
            "IN_SEXO_ALUNO               0\n",
            "IN_RESERVA_ETNICO    10758393\n",
            "dtype: int64\n",
            "\n",
            "TP_COR_RACA                 0\n",
            "TP_SEXO                     0\n",
            "IN_RESERVA_ETNICO    11657589\n",
            "dtype: int64\n"
          ]
        }
      ]
    },
    {
      "source": [
        "Ao fazer a leitura do dicionário de variáves (baixado juntamente com os dados utilizados nesse notebook) foi possível ver que para a \"IN_RESERVA_ETNICO\"(Informa se o aluno ingressou por meio de programa de reserva de vagas de cunho etnico) há três respostas que são:\n",
        "\n",
        "* 0 - Não (Aluno possui outro tipo de reserva)\n",
        "* 1 - Sim \n",
        "* (.) - Aluno não possui qualquer tipo de reserva de vagas\n",
        "\n",
        "Com isso, percebe-se que os dados que estão sendo informados como nulos nessa coluna significa que o aluno não possui qualquer tipo de reserva de vagas, portanto para a análise dessa coluna não haverá prejuízo algum em se fazer a retirada dos dados nulos, visto que eles não representam nenhuma informação útil para a análise. E foi perceptível que o padrão repetiu para todos os anos analisados."
      ],
      "cell_type": "markdown",
      "metadata": {}
    },
    {
      "cell_type": "code",
      "execution_count": 21,
      "metadata": {},
      "outputs": [],
      "source": [
        "def retira_dados_nulos(dados_ano):\n",
        "    return dados_ano.dropna(axis=0, inplace=True)"
      ]
    },
    {
      "cell_type": "code",
      "execution_count": 27,
      "metadata": {},
      "outputs": [],
      "source": [
        "retira_dados_nulos(dados_2009)\n",
        "retira_dados_nulos(dados_2010)\n",
        "retira_dados_nulos(dados_2011)\n",
        "retira_dados_nulos(dados_2012)\n",
        "retira_dados_nulos(dados_2013)\n",
        "retira_dados_nulos(dados_2014)\n",
        "retira_dados_nulos(dados_2015)\n",
        "retira_dados_nulos(dados_2016)\n",
        "retira_dados_nulos(dados_2017)\n",
        "retira_dados_nulos(dados_2018)\n",
        "retira_dados_nulos(dados_2019)"
      ]
    },
    {
      "cell_type": "code",
      "execution_count": 28,
      "metadata": {},
      "outputs": [
        {
          "output_type": "stream",
          "name": "stdout",
          "text": [
            "IN_RESERVA_ETNICO    0\nIN_SEXO_ALUNO        0\nCO_COR_RACA_ALUNO    0\ndtype: int64\n\nCO_COR_RACA_ALUNO    0\nIN_SEXO_ALUNO        0\nIN_RESERVA_ETNICO    0\ndtype: int64\n\nCO_COR_RACA_ALUNO    0\nIN_SEXO_ALUNO        0\nIN_RESERVA_ETNICO    0\ndtype: int64\n\nTP_COR_RACA          0\nTP_SEXO              0\nIN_RESERVA_ETNICO    0\ndtype: int64\n"
          ]
        }
      ],
      "source": [
        "mostrar_dados_nulos(dados_2009)\n",
        "print(\"\")\n",
        "mostrar_dados_nulos(dados_2012)\n",
        "print(\"\")\n",
        "mostrar_dados_nulos(dados_2015)\n",
        "print(\"\")\n",
        "mostrar_dados_nulos(dados_2019)"
      ]
    },
    {
      "source": [
        "De fato não restou nenhuma informação nula, permitindo que a análise dos dados seja feita."
      ],
      "cell_type": "markdown",
      "metadata": {}
    },
    {
      "cell_type": "code",
      "execution_count": 30,
      "metadata": {},
      "outputs": [
        {
          "output_type": "stream",
          "name": "stdout",
          "text": [
            "<class 'pandas.core.frame.DataFrame'>\nInt64Index: 138655 entries, 2130 to 8337163\nData columns (total 3 columns):\n #   Column             Non-Null Count   Dtype  \n---  ------             --------------   -----  \n 0   CO_COR_RACA_ALUNO  138655 non-null  int64  \n 1   IN_SEXO_ALUNO      138655 non-null  int64  \n 2   IN_RESERVA_ETNICO  138655 non-null  float64\ndtypes: float64(1), int64(2)\nmemory usage: 4.2 MB\nNone\n\n<class 'pandas.core.frame.DataFrame'>\nInt64Index: 184718 entries, 2 to 4982417\nData columns (total 3 columns):\n #   Column             Non-Null Count   Dtype  \n---  ------             --------------   -----  \n 0   CO_COR_RACA_ALUNO  184718 non-null  int64  \n 1   IN_SEXO_ALUNO      184718 non-null  int64  \n 2   IN_RESERVA_ETNICO  184718 non-null  float64\ndtypes: float64(1), int64(2)\nmemory usage: 5.6 MB\nNone\n\n<class 'pandas.core.frame.DataFrame'>\nInt64Index: 509236 entries, 0 to 11447346\nData columns (total 3 columns):\n #   Column             Non-Null Count   Dtype  \n---  ------             --------------   -----  \n 0   CO_COR_RACA_ALUNO  509236 non-null  int64  \n 1   IN_SEXO_ALUNO      509236 non-null  int64  \n 2   IN_RESERVA_ETNICO  509236 non-null  float64\ndtypes: float64(1), int64(2)\nmemory usage: 15.5 MB\nNone\n\n<class 'pandas.core.frame.DataFrame'>\nInt64Index: 626658 entries, 1 to 12043654\nData columns (total 3 columns):\n #   Column             Non-Null Count   Dtype  \n---  ------             --------------   -----  \n 0   TP_COR_RACA        626658 non-null  int64  \n 1   TP_SEXO            626658 non-null  int64  \n 2   IN_RESERVA_ETNICO  626658 non-null  float64\ndtypes: float64(1), int64(2)\nmemory usage: 19.1 MB\nNone\n"
          ]
        }
      ],
      "source": [
        "print(dados_2010.info())\n",
        "print(\"\")\n",
        "print(dados_2013.info())\n",
        "print(\"\")\n",
        "print(dados_2016.info())\n",
        "print(\"\")\n",
        "print(dados_2018.info())"
      ]
    },
    {
      "source": [
        "Todas as variáveis que serão analisadas já estão no tipo adequada para fazer a análise."
      ],
      "cell_type": "markdown",
      "metadata": {}
    },
    {
      "cell_type": "code",
      "execution_count": 82,
      "metadata": {
        "tags": []
      },
      "outputs": [],
      "source": [
        "total_negros_na_universidade = []\n",
        "def quantidade_negros_antes_de_2017(dados_ano):\n",
        "    negros_na_universidade = []\n",
        "    for dados in dados_ano[\"CO_COR_RACA_ALUNO\"]:\n",
        "        if dados == 2.0:\n",
        "            negros_na_universidade.append(dados)\n",
        "            total_negros_na_universidade.append(dados)\n",
        "    print(f'Havia \\033[1;34m{len(negros_na_universidade)}\\033[0;0m na universidade, sendo um total de \\033[1;34m{(len(negros_na_universidade)/dados_ano[\"CO_COR_RACA_ALUNO\"].shape[0]*100):.2f}%\\033[0;0m.')\n",
        "\n",
        "def quantidade_negros(dados_ano):\n",
        "    negros_na_universidade = []\n",
        "    for dados in dados_ano[\"TP_COR_RACA\"]:\n",
        "        if dados == 2:\n",
        "            negros_na_universidade.append(dados)\n",
        "            total_negros_na_universidade.append(dados)\n",
        "    print(f'Havia \\033[1;34m{len(negros_na_universidade)}\\033[0;0m na universidade, sendo um total de \\033[1;34m{(len(negros_na_universidade)/dados_ano[\"TP_COR_RACA\"].shape[0]*100):.2f}%\\033[0;0m.')"
      ]
    },
    {
      "cell_type": "code",
      "execution_count": 83,
      "metadata": {
        "tags": []
      },
      "outputs": [
        {
          "output_type": "stream",
          "name": "stdout",
          "text": [
            "Havia \u001b[1;34m127936\u001b[0;0m na universidade, sendo um total de \u001b[1;34m1.83%\u001b[0;0m.\n",
            "\n",
            "Havia \u001b[1;34m14741\u001b[0;0m na universidade, sendo um total de \u001b[1;34m10.63%\u001b[0;0m.\n",
            "\n",
            "Havia \u001b[1;34m13790\u001b[0;0m na universidade, sendo um total de \u001b[1;34m9.38%\u001b[0;0m.\n",
            "\n",
            "Havia \u001b[1;34m13330\u001b[0;0m na universidade, sendo um total de \u001b[1;34m9.41%\u001b[0;0m.\n",
            "\n",
            "Havia \u001b[1;34m16677\u001b[0;0m na universidade, sendo um total de \u001b[1;34m9.03%\u001b[0;0m.\n",
            "\n",
            "Havia \u001b[1;34m24326\u001b[0;0m na universidade, sendo um total de \u001b[1;34m14.68%\u001b[0;0m.\n",
            "\n",
            "Havia \u001b[1;34m59554\u001b[0;0m na universidade, sendo um total de \u001b[1;34m13.89%\u001b[0;0m.\n",
            "\n",
            "Havia \u001b[1;34m79255\u001b[0;0m na universidade, sendo um total de \u001b[1;34m15.56%\u001b[0;0m.\n",
            "\n",
            "Havia \u001b[1;34m99255\u001b[0;0m na universidade, sendo um total de \u001b[1;34m17.20%\u001b[0;0m.\n",
            "\n",
            "Havia \u001b[1;34m109745\u001b[0;0m na universidade, sendo um total de \u001b[1;34m17.51%\u001b[0;0m.\n",
            "\n",
            "Havia \u001b[1;34m118585\u001b[0;0m na universidade, sendo um total de \u001b[1;34m17.11%\u001b[0;0m.\n"
          ]
        }
      ],
      "source": [
        "quantidade_negros_antes_de_2017(dados_2009)\n",
        "print(\"\")\n",
        "quantidade_negros_antes_de_2017(dados_2010)\n",
        "print(\"\")\n",
        "quantidade_negros_antes_de_2017(dados_2011)\n",
        "print(\"\")\n",
        "quantidade_negros_antes_de_2017(dados_2012)\n",
        "print(\"\")\n",
        "quantidade_negros_antes_de_2017(dados_2013)\n",
        "print(\"\")\n",
        "quantidade_negros_antes_de_2017(dados_2014)\n",
        "print(\"\")\n",
        "quantidade_negros_antes_de_2017(dados_2015)\n",
        "print(\"\")\n",
        "quantidade_negros_antes_de_2017(dados_2016)\n",
        "print(\"\")\n",
        "quantidade_negros(dados_2017)\n",
        "print(\"\")\n",
        "quantidade_negros(dados_2018)\n",
        "print(\"\")\n",
        "quantidade_negros(dados_2019)"
      ]
    },
    {
      "cell_type": "code",
      "execution_count": 84,
      "metadata": {},
      "outputs": [
        {
          "output_type": "stream",
          "name": "stdout",
          "text": [
            "No prazo de 2009 até 2019 houveram \u001b[1;34m677194\u001b[0;0m negros na universidade!\n"
          ]
        }
      ],
      "source": [
        "print(f'No prazo de 2009 até 2019 houveram \\033[1;34m{len(total_negros_na_universidade)}\\033[0;0m negros na universidade!')"
      ]
    },
    {
      "cell_type": "code",
      "execution_count": 87,
      "metadata": {},
      "outputs": [
        {
          "output_type": "error",
          "ename": "TypeError",
          "evalue": "bar() missing 1 required positional argument: 'height'",
          "traceback": [
            "\u001b[0;31m---------------------------------------------------------------------------\u001b[0m",
            "\u001b[0;31mTypeError\u001b[0m                                 Traceback (most recent call last)",
            "\u001b[0;32m<ipython-input-87-bcb999a213c3>\u001b[0m in \u001b[0;36m<module>\u001b[0;34m\u001b[0m\n\u001b[1;32m      1\u001b[0m \u001b[0mfig\u001b[0m\u001b[0;34m,\u001b[0m \u001b[0max\u001b[0m \u001b[0;34m=\u001b[0m \u001b[0mplt\u001b[0m\u001b[0;34m.\u001b[0m\u001b[0msubplots\u001b[0m\u001b[0;34m(\u001b[0m\u001b[0mfigsize\u001b[0m \u001b[0;34m=\u001b[0m \u001b[0;34m(\u001b[0m\u001b[0;36m20\u001b[0m\u001b[0;34m,\u001b[0m \u001b[0;36m16\u001b[0m\u001b[0;34m)\u001b[0m\u001b[0;34m)\u001b[0m\u001b[0;34m\u001b[0m\u001b[0;34m\u001b[0m\u001b[0m\n\u001b[1;32m      2\u001b[0m \u001b[0;34m\u001b[0m\u001b[0m\n\u001b[0;32m----> 3\u001b[0;31m \u001b[0mret_1\u001b[0m \u001b[0;34m=\u001b[0m \u001b[0max\u001b[0m\u001b[0;34m.\u001b[0m\u001b[0mbar\u001b[0m\u001b[0;34m(\u001b[0m\u001b[0mdados_2009\u001b[0m\u001b[0;34m[\u001b[0m\u001b[0;34m\"CO_COR_RACA_ALUNO\"\u001b[0m\u001b[0;34m]\u001b[0m\u001b[0;34m)\u001b[0m\u001b[0;34m\u001b[0m\u001b[0;34m\u001b[0m\u001b[0m\n\u001b[0m\u001b[1;32m      4\u001b[0m \u001b[0mret_2\u001b[0m \u001b[0;34m=\u001b[0m \u001b[0max\u001b[0m\u001b[0;34m.\u001b[0m\u001b[0mbar\u001b[0m\u001b[0;34m(\u001b[0m\u001b[0mdados_2010\u001b[0m\u001b[0;34m[\u001b[0m\u001b[0;34m\"CO_COR_RACA_ALUNO\"\u001b[0m\u001b[0;34m]\u001b[0m\u001b[0;34m)\u001b[0m\u001b[0;34m\u001b[0m\u001b[0;34m\u001b[0m\u001b[0m\n\u001b[1;32m      5\u001b[0m \u001b[0;34m\u001b[0m\u001b[0m\n",
            "\u001b[0;32m~/anaconda3/lib/python3.8/site-packages/matplotlib/__init__.py\u001b[0m in \u001b[0;36minner\u001b[0;34m(ax, data, *args, **kwargs)\u001b[0m\n\u001b[1;32m   1436\u001b[0m     \u001b[0;32mdef\u001b[0m \u001b[0minner\u001b[0m\u001b[0;34m(\u001b[0m\u001b[0max\u001b[0m\u001b[0;34m,\u001b[0m \u001b[0;34m*\u001b[0m\u001b[0margs\u001b[0m\u001b[0;34m,\u001b[0m \u001b[0mdata\u001b[0m\u001b[0;34m=\u001b[0m\u001b[0;32mNone\u001b[0m\u001b[0;34m,\u001b[0m \u001b[0;34m**\u001b[0m\u001b[0mkwargs\u001b[0m\u001b[0;34m)\u001b[0m\u001b[0;34m:\u001b[0m\u001b[0;34m\u001b[0m\u001b[0;34m\u001b[0m\u001b[0m\n\u001b[1;32m   1437\u001b[0m         \u001b[0;32mif\u001b[0m \u001b[0mdata\u001b[0m \u001b[0;32mis\u001b[0m \u001b[0;32mNone\u001b[0m\u001b[0;34m:\u001b[0m\u001b[0;34m\u001b[0m\u001b[0;34m\u001b[0m\u001b[0m\n\u001b[0;32m-> 1438\u001b[0;31m             \u001b[0;32mreturn\u001b[0m \u001b[0mfunc\u001b[0m\u001b[0;34m(\u001b[0m\u001b[0max\u001b[0m\u001b[0;34m,\u001b[0m \u001b[0;34m*\u001b[0m\u001b[0mmap\u001b[0m\u001b[0;34m(\u001b[0m\u001b[0msanitize_sequence\u001b[0m\u001b[0;34m,\u001b[0m \u001b[0margs\u001b[0m\u001b[0;34m)\u001b[0m\u001b[0;34m,\u001b[0m \u001b[0;34m**\u001b[0m\u001b[0mkwargs\u001b[0m\u001b[0;34m)\u001b[0m\u001b[0;34m\u001b[0m\u001b[0;34m\u001b[0m\u001b[0m\n\u001b[0m\u001b[1;32m   1439\u001b[0m \u001b[0;34m\u001b[0m\u001b[0m\n\u001b[1;32m   1440\u001b[0m         \u001b[0mbound\u001b[0m \u001b[0;34m=\u001b[0m \u001b[0mnew_sig\u001b[0m\u001b[0;34m.\u001b[0m\u001b[0mbind\u001b[0m\u001b[0;34m(\u001b[0m\u001b[0max\u001b[0m\u001b[0;34m,\u001b[0m \u001b[0;34m*\u001b[0m\u001b[0margs\u001b[0m\u001b[0;34m,\u001b[0m \u001b[0;34m**\u001b[0m\u001b[0mkwargs\u001b[0m\u001b[0;34m)\u001b[0m\u001b[0;34m\u001b[0m\u001b[0;34m\u001b[0m\u001b[0m\n",
            "\u001b[0;31mTypeError\u001b[0m: bar() missing 1 required positional argument: 'height'"
          ]
        }
      ],
      "source": [
        "fig, ax = plt.subplots(figsize = (20, 16))\n",
        "\n",
        "ret_1 = ax.bar(dados_2009[\"CO_COR_RACA_ALUNO\"])\n",
        "ret_2 = ax.bar(dados_2010[\"CO_COR_RACA_ALUNO\"])\n",
        "\n",
        "plt.tight_layout()\n",
        "plt.plot()"
      ]
    },
    {
      "cell_type": "code",
      "execution_count": null,
      "metadata": {},
      "outputs": [],
      "source": []
    }
  ]
}