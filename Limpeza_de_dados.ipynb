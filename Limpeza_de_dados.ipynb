{
 "metadata": {
  "language_info": {
   "codemirror_mode": {
    "name": "ipython",
    "version": 3
   },
   "file_extension": ".py",
   "mimetype": "text/x-python",
   "name": "python",
   "nbconvert_exporter": "python",
   "pygments_lexer": "ipython3",
   "version": "3.8.5-final"
  },
  "orig_nbformat": 2,
  "kernelspec": {
   "name": "python3",
   "display_name": "Python 3"
  }
 },
 "nbformat": 4,
 "nbformat_minor": 2,
 "cells": [
  {
   "cell_type": "code",
   "execution_count": 1,
   "metadata": {},
   "outputs": [],
   "source": [
    "import pandas as pd"
   ]
  },
  {
   "cell_type": "code",
   "execution_count": 2,
   "metadata": {},
   "outputs": [],
   "source": [
    "columns_ate_2016 = [\n",
    "    \"CO_COR_RACA_ALUNO\",\n",
    "    \"CO_CATEGORIA_ADMINISTRATIVA\",\n",
    "    \"CO_GRAU_ACADEMICO\"\n",
    "]"
   ]
  },
  {
   "cell_type": "code",
   "execution_count": 3,
   "metadata": {},
   "outputs": [],
   "source": [
    "def read_data_until_2016(year_data):\n",
    "    return pd.read_csv(year_data, sep='|', encoding=\"latin1\", usecols=columns_ate_2016)"
   ]
  },
  {
   "cell_type": "code",
   "execution_count": 4,
   "metadata": {},
   "outputs": [],
   "source": [
    "data_2009 = read_data_until_2016('DM_ALUNO_2009.CSV')\n",
    "data_2010 = read_data_until_2016('DM_ALUNO_2010.CSV')\n",
    "data_2011 = read_data_until_2016('DM_ALUNO_2011.CSV')\n",
    "data_2012 = read_data_until_2016('DM_ALUNO_2012.CSV')\n",
    "data_2013 = read_data_until_2016('DM_ALUNO_2013.CSV')\n",
    "data_2014 = read_data_until_2016('DM_ALUNO_2014.CSV')\n",
    "data_2015 = read_data_until_2016('DM_ALUNO_2015.CSV')\n",
    "data_2016 = read_data_until_2016('DM_ALUNO_2016.CSV')"
   ]
  },
  {
   "cell_type": "code",
   "execution_count": 5,
   "metadata": {},
   "outputs": [],
   "source": [
    "columns = [\n",
    "    \"TP_COR_RACA\",\n",
    "    \"TP_CATEGORIA_ADMINISTRATIVA\",\n",
    "    \"TP_GRAU_ACADEMICO\"\n",
    "]"
   ]
  },
  {
   "cell_type": "code",
   "execution_count": 6,
   "metadata": {},
   "outputs": [],
   "source": [
    "def read_data_since_2017(year_data):\n",
    "    return pd.read_csv(year_data, sep='|', encoding=\"latin1\", usecols=columns)"
   ]
  },
  {
   "cell_type": "code",
   "execution_count": 7,
   "metadata": {},
   "outputs": [],
   "source": [
    "data_2017 = read_data_since_2017('DM_ALUNO_2017.CSV')\n",
    "data_2018 = read_data_since_2017('DM_ALUNO_2018.CSV')\n",
    "data_2019 = read_data_since_2017('SUP_ALUNO_2019.CSV')"
   ]
  },
  {
   "cell_type": "code",
   "execution_count": 8,
   "metadata": {},
   "outputs": [
    {
     "output_type": "execute_result",
     "data": {
      "text/plain": [
       "   TP_CATEGORIA_ADMINISTRATIVA  TP_GRAU_ACADEMICO  TP_COR_RACA\n",
       "0                            1                1.0            2\n",
       "1                            1                1.0            3\n",
       "2                            1                1.0            3\n",
       "3                            1                1.0            2\n",
       "4                            1                1.0            3"
      ],
      "text/html": "<div>\n<style scoped>\n    .dataframe tbody tr th:only-of-type {\n        vertical-align: middle;\n    }\n\n    .dataframe tbody tr th {\n        vertical-align: top;\n    }\n\n    .dataframe thead th {\n        text-align: right;\n    }\n</style>\n<table border=\"1\" class=\"dataframe\">\n  <thead>\n    <tr style=\"text-align: right;\">\n      <th></th>\n      <th>TP_CATEGORIA_ADMINISTRATIVA</th>\n      <th>TP_GRAU_ACADEMICO</th>\n      <th>TP_COR_RACA</th>\n    </tr>\n  </thead>\n  <tbody>\n    <tr>\n      <th>0</th>\n      <td>1</td>\n      <td>1.0</td>\n      <td>2</td>\n    </tr>\n    <tr>\n      <th>1</th>\n      <td>1</td>\n      <td>1.0</td>\n      <td>3</td>\n    </tr>\n    <tr>\n      <th>2</th>\n      <td>1</td>\n      <td>1.0</td>\n      <td>3</td>\n    </tr>\n    <tr>\n      <th>3</th>\n      <td>1</td>\n      <td>1.0</td>\n      <td>2</td>\n    </tr>\n    <tr>\n      <th>4</th>\n      <td>1</td>\n      <td>1.0</td>\n      <td>3</td>\n    </tr>\n  </tbody>\n</table>\n</div>"
     },
     "metadata": {},
     "execution_count": 8
    }
   ],
   "source": [
    "data_2019.head()"
   ]
  },
  {
   "cell_type": "code",
   "execution_count": 9,
   "metadata": {},
   "outputs": [
    {
     "output_type": "execute_result",
     "data": {
      "text/plain": [
       "   CO_CATEGORIA_ADMINISTRATIVA  CO_GRAU_ACADEMICO  CO_COR_RACA_ALUNO\n",
       "0                            4                2.0                0.0\n",
       "1                            4                2.0                3.0\n",
       "2                            4                1.0                0.0\n",
       "3                            4                1.0                1.0\n",
       "4                            3                2.0                1.0"
      ],
      "text/html": "<div>\n<style scoped>\n    .dataframe tbody tr th:only-of-type {\n        vertical-align: middle;\n    }\n\n    .dataframe tbody tr th {\n        vertical-align: top;\n    }\n\n    .dataframe thead th {\n        text-align: right;\n    }\n</style>\n<table border=\"1\" class=\"dataframe\">\n  <thead>\n    <tr style=\"text-align: right;\">\n      <th></th>\n      <th>CO_CATEGORIA_ADMINISTRATIVA</th>\n      <th>CO_GRAU_ACADEMICO</th>\n      <th>CO_COR_RACA_ALUNO</th>\n    </tr>\n  </thead>\n  <tbody>\n    <tr>\n      <th>0</th>\n      <td>4</td>\n      <td>2.0</td>\n      <td>0.0</td>\n    </tr>\n    <tr>\n      <th>1</th>\n      <td>4</td>\n      <td>2.0</td>\n      <td>3.0</td>\n    </tr>\n    <tr>\n      <th>2</th>\n      <td>4</td>\n      <td>1.0</td>\n      <td>0.0</td>\n    </tr>\n    <tr>\n      <th>3</th>\n      <td>4</td>\n      <td>1.0</td>\n      <td>1.0</td>\n    </tr>\n    <tr>\n      <th>4</th>\n      <td>3</td>\n      <td>2.0</td>\n      <td>1.0</td>\n    </tr>\n  </tbody>\n</table>\n</div>"
     },
     "metadata": {},
     "execution_count": 9
    }
   ],
   "source": [
    "data_2011.head()"
   ]
  },
  {
   "cell_type": "code",
   "execution_count": 10,
   "metadata": {},
   "outputs": [],
   "source": [
    "all_data_until_2016 = [data_2009, data_2010, data_2011, data_2012, data_2013,\n",
    "                data_2014, data_2015, data_2016]\n",
    "all_data_since_2017 = [data_2017, data_2018, data_2019]"
   ]
  },
  {
   "cell_type": "code",
   "execution_count": 11,
   "metadata": {},
   "outputs": [],
   "source": [
    "def show_null_data(year_data):\n",
    "    return print(year_data.isnull().sum())"
   ]
  },
  {
   "cell_type": "code",
   "execution_count": 12,
   "metadata": {},
   "outputs": [],
   "source": [
    "def show_years_until_2016(i):\n",
    "    if i == 0:\n",
    "        print('Para o ano de 2009...')\n",
    "    elif i == 1:\n",
    "        print('Para o ano de 2010...')\n",
    "    elif i == 2:\n",
    "        print('Para o ano de 2011...')\n",
    "    elif i == 3:\n",
    "        print('Para o ano de 2012...')\n",
    "    elif i == 4:\n",
    "        print('Para o ano de 2013...') \n",
    "    elif i == 5:\n",
    "        print('Para o ano de 2014...') \n",
    "    elif i == 6:\n",
    "        print('Para o ano de 2015...') \n",
    "    else:\n",
    "        print('Para o ano de 2016...') \n",
    "\n",
    "def show_years_since_2016(i):\n",
    "    if i == 0:\n",
    "        print('Para o ano de 2017...')\n",
    "    elif i == 1:\n",
    "        print('Para o ano de 2018...')\n",
    "    else:\n",
    "        print('Para o ano de 2019...')"
   ]
  },
  {
   "cell_type": "code",
   "execution_count": 13,
   "metadata": {},
   "outputs": [
    {
     "output_type": "stream",
     "name": "stdout",
     "text": [
      "Para o ano de 2009...\n",
      "CO_CATEGORIA_ADMINISTRATIVA        0\n",
      "CO_GRAU_ACADEMICO              38181\n",
      "CO_COR_RACA_ALUNO                  0\n",
      "dtype: int64\n",
      "\n",
      "Para o ano de 2010...\n",
      "CO_CATEGORIA_ADMINISTRATIVA        0\n",
      "CO_GRAU_ACADEMICO              62105\n",
      "CO_COR_RACA_ALUNO                  0\n",
      "dtype: int64\n",
      "\n",
      "Para o ano de 2011...\n",
      "CO_CATEGORIA_ADMINISTRATIVA        0\n",
      "CO_GRAU_ACADEMICO              59154\n",
      "CO_COR_RACA_ALUNO                  1\n",
      "dtype: int64\n",
      "\n",
      "Para o ano de 2012...\n",
      "CO_CATEGORIA_ADMINISTRATIVA        0\n",
      "CO_GRAU_ACADEMICO              43813\n",
      "CO_COR_RACA_ALUNO                  0\n",
      "dtype: int64\n",
      "\n",
      "Para o ano de 2013...\n",
      "CO_CATEGORIA_ADMINISTRATIVA        0\n",
      "CO_GRAU_ACADEMICO              51267\n",
      "CO_COR_RACA_ALUNO                  0\n",
      "dtype: int64\n",
      "\n",
      "Para o ano de 2014...\n",
      "CO_CATEGORIA_ADMINISTRATIVA        0\n",
      "CO_GRAU_ACADEMICO              23930\n",
      "CO_COR_RACA_ALUNO                  0\n",
      "dtype: int64\n",
      "\n",
      "Para o ano de 2015...\n",
      "CO_CATEGORIA_ADMINISTRATIVA        0\n",
      "CO_GRAU_ACADEMICO              62530\n",
      "CO_COR_RACA_ALUNO                  0\n",
      "dtype: int64\n",
      "\n",
      "Para o ano de 2016...\n",
      "CO_CATEGORIA_ADMINISTRATIVA        0\n",
      "CO_GRAU_ACADEMICO              60766\n",
      "CO_COR_RACA_ALUNO                  0\n",
      "dtype: int64\n",
      "\n"
     ]
    }
   ],
   "source": [
    "i = 0\n",
    "while i <= 7:\n",
    "    show_years_until_2016(i)\n",
    "    show_null_data(all_data_until_2016[i])\n",
    "    print(\"\")\n",
    "    i += 1"
   ]
  },
  {
   "cell_type": "code",
   "execution_count": 14,
   "metadata": {},
   "outputs": [
    {
     "output_type": "stream",
     "name": "stdout",
     "text": [
      "Para o ano de 2017...\n",
      "TP_CATEGORIA_ADMINISTRATIVA        0\n",
      "TP_GRAU_ACADEMICO              65639\n",
      "TP_COR_RACA                        0\n",
      "dtype: int64\n",
      "\n",
      "Para o ano de 2018...\n",
      "TP_CATEGORIA_ADMINISTRATIVA        0\n",
      "TP_GRAU_ACADEMICO              65471\n",
      "TP_COR_RACA                        0\n",
      "dtype: int64\n",
      "\n",
      "Para o ano de 2019...\n",
      "TP_CATEGORIA_ADMINISTRATIVA        0\n",
      "TP_GRAU_ACADEMICO              57471\n",
      "TP_COR_RACA                        0\n",
      "dtype: int64\n",
      "\n"
     ]
    }
   ],
   "source": [
    "i = 0\n",
    "while i <= 2:\n",
    "    show_years_since_2016(i)\n",
    "    show_null_data(all_data_since_2017[i])\n",
    "    print(\"\")\n",
    "    i += 1"
   ]
  },
  {
   "source": [
    "Um ponto muito importante ao se fazer análise de dados é a verificação se há dados faltantes para que esses dados não prejudiquem a verdadeira análise dos dados e para assim tomar uma decisão do que será feito em relação a falta de informação. Nesse caso os dados faltantes, em todos os data sets são na coluna \"CO_GRAU_ACADEMICO\"(Código do grau acadêmico conferido ao diplomado pelo curso) para dados até 2016, e \"TP_GRAU_ACADEMICO\"(Tipo de grau academico conferido ao diplomado pelo curso), os dois tem nomes diferentes, porém a forma de categorizar são iguais. Ao fazer a leitura do dicionário de variáveis (anexo baixado com junto com os data sets) descobre-se que essa categoria tem 5 divisões, que são:\n",
    "\n",
    "* 1 - Bacharelado\n",
    "* 2 - Licenciatura\n",
    "* 3 - Tecnologócio\n",
    "* 4 - Bacharelado e Licenciatura\n",
    "* (.) - Não aplicável (cursos com nível acadêmico igual a sequencial de formação espefícia ou cursos com área básica de curso)\n",
    "\n",
    "Com isso, percebe-se que os dados nulos apresentados nos data sets são referentes a esses cursos acadêmicos sequanciais, ou seja, são cursos que servem de complementação para o curso superior que a pessoa já tem ou então são cursos básicos. Portanto, as informações que poderiam estar contidas nos dados nulos já estão contidas nas outras categorias direta ou indiretamente. Dessa forma é possível fazer a retirada dos dados faltantes sem risco de perder informações relevantes."
   ],
   "cell_type": "markdown",
   "metadata": {}
  },
  {
   "cell_type": "code",
   "execution_count": 15,
   "metadata": {},
   "outputs": [],
   "source": [
    "def drop_null(year_data):\n",
    "    year_data.dropna(axis = 0, inplace = True)"
   ]
  },
  {
   "cell_type": "code",
   "execution_count": 16,
   "metadata": {},
   "outputs": [],
   "source": [
    "i = 0\n",
    "while i <= 7:\n",
    "    drop_null(all_data_until_2016[i])\n",
    "    i += 1"
   ]
  },
  {
   "cell_type": "code",
   "execution_count": 17,
   "metadata": {},
   "outputs": [],
   "source": [
    "i = 0\n",
    "while i <= 2:\n",
    "    drop_null(all_data_since_2017[i])\n",
    "    i += 1"
   ]
  },
  {
   "cell_type": "code",
   "execution_count": 18,
   "metadata": {},
   "outputs": [
    {
     "output_type": "stream",
     "name": "stdout",
     "text": [
      "Para o ano de 2009...\n",
      "CO_CATEGORIA_ADMINISTRATIVA    0\n",
      "CO_GRAU_ACADEMICO              0\n",
      "CO_COR_RACA_ALUNO              0\n",
      "dtype: int64\n",
      "\n",
      "Para o ano de 2010...\n",
      "CO_CATEGORIA_ADMINISTRATIVA    0\n",
      "CO_GRAU_ACADEMICO              0\n",
      "CO_COR_RACA_ALUNO              0\n",
      "dtype: int64\n",
      "\n",
      "Para o ano de 2011...\n",
      "CO_CATEGORIA_ADMINISTRATIVA    0\n",
      "CO_GRAU_ACADEMICO              0\n",
      "CO_COR_RACA_ALUNO              0\n",
      "dtype: int64\n",
      "\n",
      "Para o ano de 2012...\n",
      "CO_CATEGORIA_ADMINISTRATIVA    0\n",
      "CO_GRAU_ACADEMICO              0\n",
      "CO_COR_RACA_ALUNO              0\n",
      "dtype: int64\n",
      "\n",
      "Para o ano de 2013...\n",
      "CO_CATEGORIA_ADMINISTRATIVA    0\n",
      "CO_GRAU_ACADEMICO              0\n",
      "CO_COR_RACA_ALUNO              0\n",
      "dtype: int64\n",
      "\n",
      "Para o ano de 2014...\n",
      "CO_CATEGORIA_ADMINISTRATIVA    0\n",
      "CO_GRAU_ACADEMICO              0\n",
      "CO_COR_RACA_ALUNO              0\n",
      "dtype: int64\n",
      "\n",
      "Para o ano de 2015...\n",
      "CO_CATEGORIA_ADMINISTRATIVA    0\n",
      "CO_GRAU_ACADEMICO              0\n",
      "CO_COR_RACA_ALUNO              0\n",
      "dtype: int64\n",
      "\n",
      "Para o ano de 2016...\n",
      "CO_CATEGORIA_ADMINISTRATIVA    0\n",
      "CO_GRAU_ACADEMICO              0\n",
      "CO_COR_RACA_ALUNO              0\n",
      "dtype: int64\n",
      "\n"
     ]
    }
   ],
   "source": [
    "i = 0\n",
    "while i <= 7:\n",
    "    show_years_until_2016(i)\n",
    "    show_null_data(all_data_until_2016[i])\n",
    "    print(\"\")\n",
    "    i += 1"
   ]
  },
  {
   "cell_type": "code",
   "execution_count": 19,
   "metadata": {},
   "outputs": [
    {
     "output_type": "stream",
     "name": "stdout",
     "text": [
      "Para o ano de 2017...\n",
      "TP_CATEGORIA_ADMINISTRATIVA    0\n",
      "TP_GRAU_ACADEMICO              0\n",
      "TP_COR_RACA                    0\n",
      "dtype: int64\n",
      "\n",
      "Para o ano de 2018...\n",
      "TP_CATEGORIA_ADMINISTRATIVA    0\n",
      "TP_GRAU_ACADEMICO              0\n",
      "TP_COR_RACA                    0\n",
      "dtype: int64\n",
      "\n",
      "Para o ano de 2019...\n",
      "TP_CATEGORIA_ADMINISTRATIVA    0\n",
      "TP_GRAU_ACADEMICO              0\n",
      "TP_COR_RACA                    0\n",
      "dtype: int64\n",
      "\n"
     ]
    }
   ],
   "source": [
    "i = 0\n",
    "while i <= 2:\n",
    "    show_years_since_2016(i)\n",
    "    show_null_data(all_data_since_2017[i])\n",
    "    print(\"\")\n",
    "    i += 1"
   ]
  },
  {
   "cell_type": "code",
   "execution_count": 22,
   "metadata": {},
   "outputs": [],
   "source": [
    "data_2009 = all_data_until_2016[0]\n",
    "data_2010 = all_data_until_2016[1]\n",
    "data_2011 = all_data_until_2016[2]\n",
    "data_2012 = all_data_until_2016[3]\n",
    "data_2013 = all_data_until_2016[4]\n",
    "data_2014 = all_data_until_2016[5]\n",
    "data_2015 = all_data_until_2016[6]\n",
    "data_2016 = all_data_until_2016[7]\n",
    "data_2017 = all_data_since_2017[0]\n",
    "data_2018 = all_data_since_2017[1]\n",
    "data_2019 = all_data_since_2017[2]"
   ]
  },
  {
   "cell_type": "code",
   "execution_count": null,
   "metadata": {},
   "outputs": [],
   "source": [
    "data_2009.to_csv('DM_ALUNO_2009_clean.CSV', sep=\"|\", index=False)\n",
    "data_2010.to_csv('DM_ALUNO_2010_clean.CSV', sep=\"|\", index=False)\n",
    "data_2011.to_csv('DM_ALUNO_2011_clean.CSV', sep=\"|\", index=False)\n",
    "data_2012.to_csv('DM_ALUNO_2012_clean.CSV', sep=\"|\", index=False)\n",
    "data_2013.to_csv('DM_ALUNO_2013_clean.CSV', sep=\"|\", index=False)\n",
    "data_2014.to_csv('DM_ALUNO_2014_clean.CSV', sep=\"|\", index=False)\n",
    "data_2015.to_csv('DM_ALUNO_2015_clean.CSV', sep=\"|\", index=False)\n",
    "data_2016.to_csv('DM_ALUNO_2016_clean.CSV', sep=\"|\", index=False)\n",
    "data_2017.to_csv('DM_ALUNO_2017_clean.CSV', sep=\"|\", index=False)\n",
    "data_2018.to_csv('DM_ALUNO_2018_clean.CSV', sep=\"|\", index=False)\n",
    "data_2019.to_csv('DM_ALUNO_2019_clean.CSV', sep=\"|\", index=False)"
   ]
  }
 ]
}